{
 "cells": [
  {
   "cell_type": "markdown",
   "metadata": {},
   "source": [
    "#### Importing libraries"
   ]
  },
  {
   "cell_type": "code",
   "execution_count": 1,
   "metadata": {},
   "outputs": [],
   "source": [
    "import pandas as pd\n",
    "import numpy as np\n",
    "from sklearn.model_selection import train_test_split\n",
    "import matplotlib.pyplot as plt\n",
    "from neural_networks import NeuralNetwork as NN\n"
   ]
  },
  {
   "cell_type": "markdown",
   "metadata": {},
   "source": [
    "#### Importing dataset"
   ]
  },
  {
   "cell_type": "code",
   "execution_count": 2,
   "metadata": {},
   "outputs": [
    {
     "data": {
      "text/html": [
       "<div>\n",
       "<style scoped>\n",
       "    .dataframe tbody tr th:only-of-type {\n",
       "        vertical-align: middle;\n",
       "    }\n",
       "\n",
       "    .dataframe tbody tr th {\n",
       "        vertical-align: top;\n",
       "    }\n",
       "\n",
       "    .dataframe thead th {\n",
       "        text-align: right;\n",
       "    }\n",
       "</style>\n",
       "<table border=\"1\" class=\"dataframe\">\n",
       "  <thead>\n",
       "    <tr style=\"text-align: right;\">\n",
       "      <th></th>\n",
       "      <th>serial</th>\n",
       "      <th>tempmax</th>\n",
       "      <th>tempmin</th>\n",
       "      <th>temp</th>\n",
       "      <th>feelslikemax</th>\n",
       "      <th>feelslikemin</th>\n",
       "      <th>feelslike</th>\n",
       "      <th>dew</th>\n",
       "      <th>humidity</th>\n",
       "      <th>precip</th>\n",
       "      <th>...</th>\n",
       "      <th>sealevelpressure</th>\n",
       "      <th>cloudcover</th>\n",
       "      <th>visibility</th>\n",
       "      <th>solarradiation</th>\n",
       "      <th>solarenergy</th>\n",
       "      <th>uvindex</th>\n",
       "      <th>conditions</th>\n",
       "      <th>stations</th>\n",
       "      <th>cases</th>\n",
       "      <th>labels</th>\n",
       "    </tr>\n",
       "  </thead>\n",
       "  <tbody>\n",
       "    <tr>\n",
       "      <th>0</th>\n",
       "      <td>0</td>\n",
       "      <td>34.053151</td>\n",
       "      <td>24.478082</td>\n",
       "      <td>28.709863</td>\n",
       "      <td>39.757808</td>\n",
       "      <td>25.317808</td>\n",
       "      <td>32.306301</td>\n",
       "      <td>22.971233</td>\n",
       "      <td>73.508219</td>\n",
       "      <td>2.921726</td>\n",
       "      <td>...</td>\n",
       "      <td>1007.911781</td>\n",
       "      <td>50.747945</td>\n",
       "      <td>3.789863</td>\n",
       "      <td>208.097808</td>\n",
       "      <td>17.973699</td>\n",
       "      <td>7.232877</td>\n",
       "      <td>2.558904</td>\n",
       "      <td>1.197260</td>\n",
       "      <td>4925.0</td>\n",
       "      <td>normal</td>\n",
       "    </tr>\n",
       "    <tr>\n",
       "      <th>1</th>\n",
       "      <td>1</td>\n",
       "      <td>34.086179</td>\n",
       "      <td>25.694309</td>\n",
       "      <td>29.464228</td>\n",
       "      <td>41.338211</td>\n",
       "      <td>28.140650</td>\n",
       "      <td>34.423577</td>\n",
       "      <td>23.484553</td>\n",
       "      <td>72.066667</td>\n",
       "      <td>3.783415</td>\n",
       "      <td>...</td>\n",
       "      <td>1003.533333</td>\n",
       "      <td>48.313821</td>\n",
       "      <td>2.884553</td>\n",
       "      <td>222.926016</td>\n",
       "      <td>19.246341</td>\n",
       "      <td>7.504065</td>\n",
       "      <td>1.658537</td>\n",
       "      <td>0.991870</td>\n",
       "      <td>5077.0</td>\n",
       "      <td>normal</td>\n",
       "    </tr>\n",
       "    <tr>\n",
       "      <th>2</th>\n",
       "      <td>2</td>\n",
       "      <td>34.573984</td>\n",
       "      <td>25.417886</td>\n",
       "      <td>29.526829</td>\n",
       "      <td>40.464228</td>\n",
       "      <td>26.560163</td>\n",
       "      <td>33.085366</td>\n",
       "      <td>22.580488</td>\n",
       "      <td>69.424390</td>\n",
       "      <td>3.065854</td>\n",
       "      <td>...</td>\n",
       "      <td>1005.731707</td>\n",
       "      <td>55.621138</td>\n",
       "      <td>4.242276</td>\n",
       "      <td>229.413008</td>\n",
       "      <td>19.802439</td>\n",
       "      <td>7.829268</td>\n",
       "      <td>1.910569</td>\n",
       "      <td>1.170732</td>\n",
       "      <td>7579.0</td>\n",
       "      <td>normal</td>\n",
       "    </tr>\n",
       "    <tr>\n",
       "      <th>3</th>\n",
       "      <td>3</td>\n",
       "      <td>33.020325</td>\n",
       "      <td>25.080488</td>\n",
       "      <td>28.727642</td>\n",
       "      <td>37.878049</td>\n",
       "      <td>26.193496</td>\n",
       "      <td>31.772358</td>\n",
       "      <td>21.752033</td>\n",
       "      <td>69.297561</td>\n",
       "      <td>6.025203</td>\n",
       "      <td>...</td>\n",
       "      <td>1003.359350</td>\n",
       "      <td>50.208130</td>\n",
       "      <td>2.991057</td>\n",
       "      <td>225.421951</td>\n",
       "      <td>19.480488</td>\n",
       "      <td>7.593496</td>\n",
       "      <td>1.300813</td>\n",
       "      <td>0.146341</td>\n",
       "      <td>13706.0</td>\n",
       "      <td>normal</td>\n",
       "    </tr>\n",
       "    <tr>\n",
       "      <th>4</th>\n",
       "      <td>4</td>\n",
       "      <td>30.660976</td>\n",
       "      <td>24.230894</td>\n",
       "      <td>26.774797</td>\n",
       "      <td>36.586992</td>\n",
       "      <td>24.263415</td>\n",
       "      <td>28.943902</td>\n",
       "      <td>24.214634</td>\n",
       "      <td>86.652033</td>\n",
       "      <td>23.336585</td>\n",
       "      <td>...</td>\n",
       "      <td>1009.995935</td>\n",
       "      <td>45.542276</td>\n",
       "      <td>3.886992</td>\n",
       "      <td>176.598374</td>\n",
       "      <td>15.261789</td>\n",
       "      <td>6.186992</td>\n",
       "      <td>0.967480</td>\n",
       "      <td>3.951220</td>\n",
       "      <td>82.0</td>\n",
       "      <td>normal</td>\n",
       "    </tr>\n",
       "  </tbody>\n",
       "</table>\n",
       "<p>5 rows × 26 columns</p>\n",
       "</div>"
      ],
      "text/plain": [
       "   serial    tempmax    tempmin       temp  feelslikemax  feelslikemin  \\\n",
       "0       0  34.053151  24.478082  28.709863     39.757808     25.317808   \n",
       "1       1  34.086179  25.694309  29.464228     41.338211     28.140650   \n",
       "2       2  34.573984  25.417886  29.526829     40.464228     26.560163   \n",
       "3       3  33.020325  25.080488  28.727642     37.878049     26.193496   \n",
       "4       4  30.660976  24.230894  26.774797     36.586992     24.263415   \n",
       "\n",
       "   feelslike        dew   humidity     precip  ...  sealevelpressure  \\\n",
       "0  32.306301  22.971233  73.508219   2.921726  ...       1007.911781   \n",
       "1  34.423577  23.484553  72.066667   3.783415  ...       1003.533333   \n",
       "2  33.085366  22.580488  69.424390   3.065854  ...       1005.731707   \n",
       "3  31.772358  21.752033  69.297561   6.025203  ...       1003.359350   \n",
       "4  28.943902  24.214634  86.652033  23.336585  ...       1009.995935   \n",
       "\n",
       "   cloudcover  visibility  solarradiation  solarenergy   uvindex  conditions  \\\n",
       "0   50.747945    3.789863      208.097808    17.973699  7.232877    2.558904   \n",
       "1   48.313821    2.884553      222.926016    19.246341  7.504065    1.658537   \n",
       "2   55.621138    4.242276      229.413008    19.802439  7.829268    1.910569   \n",
       "3   50.208130    2.991057      225.421951    19.480488  7.593496    1.300813   \n",
       "4   45.542276    3.886992      176.598374    15.261789  6.186992    0.967480   \n",
       "\n",
       "   stations    cases  labels  \n",
       "0  1.197260   4925.0  normal  \n",
       "1  0.991870   5077.0  normal  \n",
       "2  1.170732   7579.0  normal  \n",
       "3  0.146341  13706.0  normal  \n",
       "4  3.951220     82.0  normal  \n",
       "\n",
       "[5 rows x 26 columns]"
      ]
     },
     "execution_count": 2,
     "metadata": {},
     "output_type": "execute_result"
    }
   ],
   "source": [
    "raw_df = pd.read_csv('./Dataset/Dengue.csv')\n",
    "raw_df.head()"
   ]
  },
  {
   "cell_type": "markdown",
   "metadata": {},
   "source": [
    "### performing initial checks on dataset"
   ]
  },
  {
   "cell_type": "code",
   "execution_count": 3,
   "metadata": {},
   "outputs": [],
   "source": [
    "pd.options.display.max_columns=None"
   ]
  },
  {
   "cell_type": "code",
   "execution_count": 4,
   "metadata": {},
   "outputs": [
    {
     "data": {
      "text/html": [
       "<div>\n",
       "<style scoped>\n",
       "    .dataframe tbody tr th:only-of-type {\n",
       "        vertical-align: middle;\n",
       "    }\n",
       "\n",
       "    .dataframe tbody tr th {\n",
       "        vertical-align: top;\n",
       "    }\n",
       "\n",
       "    .dataframe thead th {\n",
       "        text-align: right;\n",
       "    }\n",
       "</style>\n",
       "<table border=\"1\" class=\"dataframe\">\n",
       "  <thead>\n",
       "    <tr style=\"text-align: right;\">\n",
       "      <th></th>\n",
       "      <th>serial</th>\n",
       "      <th>tempmax</th>\n",
       "      <th>tempmin</th>\n",
       "      <th>temp</th>\n",
       "      <th>feelslikemax</th>\n",
       "      <th>feelslikemin</th>\n",
       "      <th>feelslike</th>\n",
       "      <th>dew</th>\n",
       "      <th>humidity</th>\n",
       "      <th>precip</th>\n",
       "      <th>precipprob</th>\n",
       "      <th>precipcover</th>\n",
       "      <th>snow</th>\n",
       "      <th>snowdepth</th>\n",
       "      <th>windspeed</th>\n",
       "      <th>winddir</th>\n",
       "      <th>sealevelpressure</th>\n",
       "      <th>cloudcover</th>\n",
       "      <th>visibility</th>\n",
       "      <th>solarradiation</th>\n",
       "      <th>solarenergy</th>\n",
       "      <th>uvindex</th>\n",
       "      <th>conditions</th>\n",
       "      <th>stations</th>\n",
       "      <th>cases</th>\n",
       "      <th>labels</th>\n",
       "    </tr>\n",
       "  </thead>\n",
       "  <tbody>\n",
       "    <tr>\n",
       "      <th>count</th>\n",
       "      <td>602.000000</td>\n",
       "      <td>602.000000</td>\n",
       "      <td>602.000000</td>\n",
       "      <td>602.000000</td>\n",
       "      <td>602.000000</td>\n",
       "      <td>602.000000</td>\n",
       "      <td>602.000000</td>\n",
       "      <td>602.000000</td>\n",
       "      <td>602.000000</td>\n",
       "      <td>602.000000</td>\n",
       "      <td>602.000000</td>\n",
       "      <td>602.000000</td>\n",
       "      <td>602.0</td>\n",
       "      <td>602.0</td>\n",
       "      <td>602.000000</td>\n",
       "      <td>602.000000</td>\n",
       "      <td>602.000000</td>\n",
       "      <td>602.000000</td>\n",
       "      <td>602.000000</td>\n",
       "      <td>602.000000</td>\n",
       "      <td>602.000000</td>\n",
       "      <td>602.000000</td>\n",
       "      <td>602.000000</td>\n",
       "      <td>602.000000</td>\n",
       "      <td>602.000000</td>\n",
       "      <td>602</td>\n",
       "    </tr>\n",
       "    <tr>\n",
       "      <th>unique</th>\n",
       "      <td>NaN</td>\n",
       "      <td>NaN</td>\n",
       "      <td>NaN</td>\n",
       "      <td>NaN</td>\n",
       "      <td>NaN</td>\n",
       "      <td>NaN</td>\n",
       "      <td>NaN</td>\n",
       "      <td>NaN</td>\n",
       "      <td>NaN</td>\n",
       "      <td>NaN</td>\n",
       "      <td>NaN</td>\n",
       "      <td>NaN</td>\n",
       "      <td>NaN</td>\n",
       "      <td>NaN</td>\n",
       "      <td>NaN</td>\n",
       "      <td>NaN</td>\n",
       "      <td>NaN</td>\n",
       "      <td>NaN</td>\n",
       "      <td>NaN</td>\n",
       "      <td>NaN</td>\n",
       "      <td>NaN</td>\n",
       "      <td>NaN</td>\n",
       "      <td>NaN</td>\n",
       "      <td>NaN</td>\n",
       "      <td>NaN</td>\n",
       "      <td>1</td>\n",
       "    </tr>\n",
       "    <tr>\n",
       "      <th>top</th>\n",
       "      <td>NaN</td>\n",
       "      <td>NaN</td>\n",
       "      <td>NaN</td>\n",
       "      <td>NaN</td>\n",
       "      <td>NaN</td>\n",
       "      <td>NaN</td>\n",
       "      <td>NaN</td>\n",
       "      <td>NaN</td>\n",
       "      <td>NaN</td>\n",
       "      <td>NaN</td>\n",
       "      <td>NaN</td>\n",
       "      <td>NaN</td>\n",
       "      <td>NaN</td>\n",
       "      <td>NaN</td>\n",
       "      <td>NaN</td>\n",
       "      <td>NaN</td>\n",
       "      <td>NaN</td>\n",
       "      <td>NaN</td>\n",
       "      <td>NaN</td>\n",
       "      <td>NaN</td>\n",
       "      <td>NaN</td>\n",
       "      <td>NaN</td>\n",
       "      <td>NaN</td>\n",
       "      <td>NaN</td>\n",
       "      <td>NaN</td>\n",
       "      <td>normal</td>\n",
       "    </tr>\n",
       "    <tr>\n",
       "      <th>freq</th>\n",
       "      <td>NaN</td>\n",
       "      <td>NaN</td>\n",
       "      <td>NaN</td>\n",
       "      <td>NaN</td>\n",
       "      <td>NaN</td>\n",
       "      <td>NaN</td>\n",
       "      <td>NaN</td>\n",
       "      <td>NaN</td>\n",
       "      <td>NaN</td>\n",
       "      <td>NaN</td>\n",
       "      <td>NaN</td>\n",
       "      <td>NaN</td>\n",
       "      <td>NaN</td>\n",
       "      <td>NaN</td>\n",
       "      <td>NaN</td>\n",
       "      <td>NaN</td>\n",
       "      <td>NaN</td>\n",
       "      <td>NaN</td>\n",
       "      <td>NaN</td>\n",
       "      <td>NaN</td>\n",
       "      <td>NaN</td>\n",
       "      <td>NaN</td>\n",
       "      <td>NaN</td>\n",
       "      <td>NaN</td>\n",
       "      <td>NaN</td>\n",
       "      <td>602</td>\n",
       "    </tr>\n",
       "    <tr>\n",
       "      <th>mean</th>\n",
       "      <td>300.500000</td>\n",
       "      <td>31.918079</td>\n",
       "      <td>24.588318</td>\n",
       "      <td>27.813181</td>\n",
       "      <td>38.476069</td>\n",
       "      <td>25.613154</td>\n",
       "      <td>31.485111</td>\n",
       "      <td>23.984349</td>\n",
       "      <td>81.254786</td>\n",
       "      <td>13.120862</td>\n",
       "      <td>69.625588</td>\n",
       "      <td>9.034032</td>\n",
       "      <td>0.0</td>\n",
       "      <td>0.0</td>\n",
       "      <td>17.599554</td>\n",
       "      <td>191.498693</td>\n",
       "      <td>1004.690531</td>\n",
       "      <td>59.701192</td>\n",
       "      <td>3.632620</td>\n",
       "      <td>199.802695</td>\n",
       "      <td>17.251785</td>\n",
       "      <td>6.877674</td>\n",
       "      <td>1.827725</td>\n",
       "      <td>0.859734</td>\n",
       "      <td>8502.342193</td>\n",
       "      <td>NaN</td>\n",
       "    </tr>\n",
       "    <tr>\n",
       "      <th>std</th>\n",
       "      <td>173.926709</td>\n",
       "      <td>2.737215</td>\n",
       "      <td>2.727919</td>\n",
       "      <td>2.412416</td>\n",
       "      <td>4.776400</td>\n",
       "      <td>4.178797</td>\n",
       "      <td>4.672951</td>\n",
       "      <td>2.668014</td>\n",
       "      <td>9.406354</td>\n",
       "      <td>28.463365</td>\n",
       "      <td>45.539264</td>\n",
       "      <td>14.201016</td>\n",
       "      <td>0.0</td>\n",
       "      <td>0.0</td>\n",
       "      <td>8.980189</td>\n",
       "      <td>81.604668</td>\n",
       "      <td>41.364967</td>\n",
       "      <td>20.832639</td>\n",
       "      <td>1.890352</td>\n",
       "      <td>54.128192</td>\n",
       "      <td>4.676051</td>\n",
       "      <td>1.763928</td>\n",
       "      <td>1.237389</td>\n",
       "      <td>0.973575</td>\n",
       "      <td>6780.749627</td>\n",
       "      <td>NaN</td>\n",
       "    </tr>\n",
       "    <tr>\n",
       "      <th>min</th>\n",
       "      <td>0.000000</td>\n",
       "      <td>25.000000</td>\n",
       "      <td>12.740000</td>\n",
       "      <td>18.820000</td>\n",
       "      <td>25.000000</td>\n",
       "      <td>12.360000</td>\n",
       "      <td>18.626667</td>\n",
       "      <td>4.480000</td>\n",
       "      <td>40.833333</td>\n",
       "      <td>0.000000</td>\n",
       "      <td>0.000000</td>\n",
       "      <td>0.000000</td>\n",
       "      <td>0.0</td>\n",
       "      <td>0.0</td>\n",
       "      <td>3.600000</td>\n",
       "      <td>0.500000</td>\n",
       "      <td>0.000000</td>\n",
       "      <td>0.000000</td>\n",
       "      <td>0.800000</td>\n",
       "      <td>57.900000</td>\n",
       "      <td>5.000000</td>\n",
       "      <td>2.000000</td>\n",
       "      <td>0.000000</td>\n",
       "      <td>0.000000</td>\n",
       "      <td>52.000000</td>\n",
       "      <td>NaN</td>\n",
       "    </tr>\n",
       "    <tr>\n",
       "      <th>25%</th>\n",
       "      <td>150.250000</td>\n",
       "      <td>30.025000</td>\n",
       "      <td>23.200000</td>\n",
       "      <td>26.500000</td>\n",
       "      <td>35.600000</td>\n",
       "      <td>23.200000</td>\n",
       "      <td>28.100000</td>\n",
       "      <td>23.300000</td>\n",
       "      <td>75.800000</td>\n",
       "      <td>0.000000</td>\n",
       "      <td>0.000000</td>\n",
       "      <td>0.000000</td>\n",
       "      <td>0.0</td>\n",
       "      <td>0.0</td>\n",
       "      <td>11.200000</td>\n",
       "      <td>134.425000</td>\n",
       "      <td>1002.025000</td>\n",
       "      <td>47.400000</td>\n",
       "      <td>2.523780</td>\n",
       "      <td>160.350000</td>\n",
       "      <td>13.900000</td>\n",
       "      <td>6.000000</td>\n",
       "      <td>1.000000</td>\n",
       "      <td>0.000000</td>\n",
       "      <td>3017.750000</td>\n",
       "      <td>NaN</td>\n",
       "    </tr>\n",
       "    <tr>\n",
       "      <th>50%</th>\n",
       "      <td>300.500000</td>\n",
       "      <td>31.700000</td>\n",
       "      <td>25.000000</td>\n",
       "      <td>27.900000</td>\n",
       "      <td>38.400000</td>\n",
       "      <td>25.000000</td>\n",
       "      <td>31.500000</td>\n",
       "      <td>24.529268</td>\n",
       "      <td>82.800000</td>\n",
       "      <td>3.000000</td>\n",
       "      <td>100.000000</td>\n",
       "      <td>4.170000</td>\n",
       "      <td>0.0</td>\n",
       "      <td>0.0</td>\n",
       "      <td>15.589178</td>\n",
       "      <td>207.300000</td>\n",
       "      <td>1007.000000</td>\n",
       "      <td>63.700000</td>\n",
       "      <td>3.200000</td>\n",
       "      <td>205.750000</td>\n",
       "      <td>17.750000</td>\n",
       "      <td>7.000000</td>\n",
       "      <td>2.000000</td>\n",
       "      <td>1.000000</td>\n",
       "      <td>7490.000000</td>\n",
       "      <td>NaN</td>\n",
       "    </tr>\n",
       "    <tr>\n",
       "      <th>75%</th>\n",
       "      <td>450.750000</td>\n",
       "      <td>33.600000</td>\n",
       "      <td>26.500000</td>\n",
       "      <td>29.448171</td>\n",
       "      <td>41.900000</td>\n",
       "      <td>26.600000</td>\n",
       "      <td>34.875000</td>\n",
       "      <td>25.475000</td>\n",
       "      <td>88.175000</td>\n",
       "      <td>12.589000</td>\n",
       "      <td>100.000000</td>\n",
       "      <td>9.705508</td>\n",
       "      <td>0.0</td>\n",
       "      <td>0.0</td>\n",
       "      <td>22.775000</td>\n",
       "      <td>252.375000</td>\n",
       "      <td>1010.185772</td>\n",
       "      <td>73.200000</td>\n",
       "      <td>4.300000</td>\n",
       "      <td>238.800610</td>\n",
       "      <td>20.600610</td>\n",
       "      <td>8.000000</td>\n",
       "      <td>3.000000</td>\n",
       "      <td>1.000000</td>\n",
       "      <td>12702.500000</td>\n",
       "      <td>NaN</td>\n",
       "    </tr>\n",
       "    <tr>\n",
       "      <th>max</th>\n",
       "      <td>601.000000</td>\n",
       "      <td>41.200000</td>\n",
       "      <td>29.400000</td>\n",
       "      <td>33.300000</td>\n",
       "      <td>49.600000</td>\n",
       "      <td>37.900000</td>\n",
       "      <td>42.900000</td>\n",
       "      <td>28.100000</td>\n",
       "      <td>99.300000</td>\n",
       "      <td>302.000000</td>\n",
       "      <td>100.000000</td>\n",
       "      <td>83.330000</td>\n",
       "      <td>0.0</td>\n",
       "      <td>0.0</td>\n",
       "      <td>92.500000</td>\n",
       "      <td>359.200000</td>\n",
       "      <td>1020.000000</td>\n",
       "      <td>97.900000</td>\n",
       "      <td>24.033333</td>\n",
       "      <td>318.500000</td>\n",
       "      <td>27.700000</td>\n",
       "      <td>10.000000</td>\n",
       "      <td>4.000000</td>\n",
       "      <td>5.000000</td>\n",
       "      <td>24983.000000</td>\n",
       "      <td>NaN</td>\n",
       "    </tr>\n",
       "  </tbody>\n",
       "</table>\n",
       "</div>"
      ],
      "text/plain": [
       "            serial     tempmax     tempmin        temp  feelslikemax  \\\n",
       "count   602.000000  602.000000  602.000000  602.000000    602.000000   \n",
       "unique         NaN         NaN         NaN         NaN           NaN   \n",
       "top            NaN         NaN         NaN         NaN           NaN   \n",
       "freq           NaN         NaN         NaN         NaN           NaN   \n",
       "mean    300.500000   31.918079   24.588318   27.813181     38.476069   \n",
       "std     173.926709    2.737215    2.727919    2.412416      4.776400   \n",
       "min       0.000000   25.000000   12.740000   18.820000     25.000000   \n",
       "25%     150.250000   30.025000   23.200000   26.500000     35.600000   \n",
       "50%     300.500000   31.700000   25.000000   27.900000     38.400000   \n",
       "75%     450.750000   33.600000   26.500000   29.448171     41.900000   \n",
       "max     601.000000   41.200000   29.400000   33.300000     49.600000   \n",
       "\n",
       "        feelslikemin   feelslike         dew    humidity      precip  \\\n",
       "count     602.000000  602.000000  602.000000  602.000000  602.000000   \n",
       "unique           NaN         NaN         NaN         NaN         NaN   \n",
       "top              NaN         NaN         NaN         NaN         NaN   \n",
       "freq             NaN         NaN         NaN         NaN         NaN   \n",
       "mean       25.613154   31.485111   23.984349   81.254786   13.120862   \n",
       "std         4.178797    4.672951    2.668014    9.406354   28.463365   \n",
       "min        12.360000   18.626667    4.480000   40.833333    0.000000   \n",
       "25%        23.200000   28.100000   23.300000   75.800000    0.000000   \n",
       "50%        25.000000   31.500000   24.529268   82.800000    3.000000   \n",
       "75%        26.600000   34.875000   25.475000   88.175000   12.589000   \n",
       "max        37.900000   42.900000   28.100000   99.300000  302.000000   \n",
       "\n",
       "        precipprob  precipcover   snow  snowdepth   windspeed     winddir  \\\n",
       "count   602.000000   602.000000  602.0      602.0  602.000000  602.000000   \n",
       "unique         NaN          NaN    NaN        NaN         NaN         NaN   \n",
       "top            NaN          NaN    NaN        NaN         NaN         NaN   \n",
       "freq           NaN          NaN    NaN        NaN         NaN         NaN   \n",
       "mean     69.625588     9.034032    0.0        0.0   17.599554  191.498693   \n",
       "std      45.539264    14.201016    0.0        0.0    8.980189   81.604668   \n",
       "min       0.000000     0.000000    0.0        0.0    3.600000    0.500000   \n",
       "25%       0.000000     0.000000    0.0        0.0   11.200000  134.425000   \n",
       "50%     100.000000     4.170000    0.0        0.0   15.589178  207.300000   \n",
       "75%     100.000000     9.705508    0.0        0.0   22.775000  252.375000   \n",
       "max     100.000000    83.330000    0.0        0.0   92.500000  359.200000   \n",
       "\n",
       "        sealevelpressure  cloudcover  visibility  solarradiation  solarenergy  \\\n",
       "count         602.000000  602.000000  602.000000      602.000000   602.000000   \n",
       "unique               NaN         NaN         NaN             NaN          NaN   \n",
       "top                  NaN         NaN         NaN             NaN          NaN   \n",
       "freq                 NaN         NaN         NaN             NaN          NaN   \n",
       "mean         1004.690531   59.701192    3.632620      199.802695    17.251785   \n",
       "std            41.364967   20.832639    1.890352       54.128192     4.676051   \n",
       "min             0.000000    0.000000    0.800000       57.900000     5.000000   \n",
       "25%          1002.025000   47.400000    2.523780      160.350000    13.900000   \n",
       "50%          1007.000000   63.700000    3.200000      205.750000    17.750000   \n",
       "75%          1010.185772   73.200000    4.300000      238.800610    20.600610   \n",
       "max          1020.000000   97.900000   24.033333      318.500000    27.700000   \n",
       "\n",
       "           uvindex  conditions    stations         cases  labels  \n",
       "count   602.000000  602.000000  602.000000    602.000000     602  \n",
       "unique         NaN         NaN         NaN           NaN       1  \n",
       "top            NaN         NaN         NaN           NaN  normal  \n",
       "freq           NaN         NaN         NaN           NaN     602  \n",
       "mean      6.877674    1.827725    0.859734   8502.342193     NaN  \n",
       "std       1.763928    1.237389    0.973575   6780.749627     NaN  \n",
       "min       2.000000    0.000000    0.000000     52.000000     NaN  \n",
       "25%       6.000000    1.000000    0.000000   3017.750000     NaN  \n",
       "50%       7.000000    2.000000    1.000000   7490.000000     NaN  \n",
       "75%       8.000000    3.000000    1.000000  12702.500000     NaN  \n",
       "max      10.000000    4.000000    5.000000  24983.000000     NaN  "
      ]
     },
     "execution_count": 4,
     "metadata": {},
     "output_type": "execute_result"
    }
   ],
   "source": [
    "raw_df.describe(include='all')"
   ]
  },
  {
   "cell_type": "code",
   "execution_count": 5,
   "metadata": {},
   "outputs": [
    {
     "data": {
      "text/plain": [
       "count      602.000000\n",
       "mean      8502.342193\n",
       "std       6780.749627\n",
       "min         52.000000\n",
       "25%       3017.750000\n",
       "50%       7490.000000\n",
       "75%      12702.500000\n",
       "max      24983.000000\n",
       "Name: cases, dtype: float64"
      ]
     },
     "execution_count": 5,
     "metadata": {},
     "output_type": "execute_result"
    }
   ],
   "source": [
    "raw_df['cases'].describe()"
   ]
  },
  {
   "cell_type": "code",
   "execution_count": 6,
   "metadata": {},
   "outputs": [
    {
     "data": {
      "text/html": [
       "<div>\n",
       "<style scoped>\n",
       "    .dataframe tbody tr th:only-of-type {\n",
       "        vertical-align: middle;\n",
       "    }\n",
       "\n",
       "    .dataframe tbody tr th {\n",
       "        vertical-align: top;\n",
       "    }\n",
       "\n",
       "    .dataframe thead th {\n",
       "        text-align: right;\n",
       "    }\n",
       "</style>\n",
       "<table border=\"1\" class=\"dataframe\">\n",
       "  <thead>\n",
       "    <tr style=\"text-align: right;\">\n",
       "      <th></th>\n",
       "      <th>serial</th>\n",
       "      <th>tempmax</th>\n",
       "      <th>tempmin</th>\n",
       "      <th>temp</th>\n",
       "      <th>feelslikemax</th>\n",
       "      <th>feelslikemin</th>\n",
       "      <th>feelslike</th>\n",
       "      <th>dew</th>\n",
       "      <th>humidity</th>\n",
       "      <th>precip</th>\n",
       "      <th>precipprob</th>\n",
       "      <th>precipcover</th>\n",
       "      <th>snow</th>\n",
       "      <th>snowdepth</th>\n",
       "      <th>windspeed</th>\n",
       "      <th>winddir</th>\n",
       "      <th>sealevelpressure</th>\n",
       "      <th>cloudcover</th>\n",
       "      <th>visibility</th>\n",
       "      <th>solarradiation</th>\n",
       "      <th>solarenergy</th>\n",
       "      <th>uvindex</th>\n",
       "      <th>conditions</th>\n",
       "      <th>stations</th>\n",
       "      <th>cases</th>\n",
       "      <th>labels</th>\n",
       "    </tr>\n",
       "  </thead>\n",
       "  <tbody>\n",
       "    <tr>\n",
       "      <th>0</th>\n",
       "      <td>0</td>\n",
       "      <td>34.053151</td>\n",
       "      <td>24.478082</td>\n",
       "      <td>28.709863</td>\n",
       "      <td>39.757808</td>\n",
       "      <td>25.317808</td>\n",
       "      <td>32.306301</td>\n",
       "      <td>22.971233</td>\n",
       "      <td>73.508219</td>\n",
       "      <td>2.921726</td>\n",
       "      <td>44.657534</td>\n",
       "      <td>4.360932</td>\n",
       "      <td>0.0</td>\n",
       "      <td>0.0</td>\n",
       "      <td>15.678356</td>\n",
       "      <td>175.595342</td>\n",
       "      <td>1007.911781</td>\n",
       "      <td>50.747945</td>\n",
       "      <td>3.789863</td>\n",
       "      <td>208.097808</td>\n",
       "      <td>17.973699</td>\n",
       "      <td>7.232877</td>\n",
       "      <td>2.558904</td>\n",
       "      <td>1.197260</td>\n",
       "      <td>4925.0</td>\n",
       "      <td>normal</td>\n",
       "    </tr>\n",
       "    <tr>\n",
       "      <th>1</th>\n",
       "      <td>1</td>\n",
       "      <td>34.086179</td>\n",
       "      <td>25.694309</td>\n",
       "      <td>29.464228</td>\n",
       "      <td>41.338211</td>\n",
       "      <td>28.140650</td>\n",
       "      <td>34.423577</td>\n",
       "      <td>23.484553</td>\n",
       "      <td>72.066667</td>\n",
       "      <td>3.783415</td>\n",
       "      <td>39.837398</td>\n",
       "      <td>2.676748</td>\n",
       "      <td>0.0</td>\n",
       "      <td>0.0</td>\n",
       "      <td>14.574797</td>\n",
       "      <td>158.349593</td>\n",
       "      <td>1003.533333</td>\n",
       "      <td>48.313821</td>\n",
       "      <td>2.884553</td>\n",
       "      <td>222.926016</td>\n",
       "      <td>19.246341</td>\n",
       "      <td>7.504065</td>\n",
       "      <td>1.658537</td>\n",
       "      <td>0.991870</td>\n",
       "      <td>5077.0</td>\n",
       "      <td>normal</td>\n",
       "    </tr>\n",
       "    <tr>\n",
       "      <th>2</th>\n",
       "      <td>2</td>\n",
       "      <td>34.573984</td>\n",
       "      <td>25.417886</td>\n",
       "      <td>29.526829</td>\n",
       "      <td>40.464228</td>\n",
       "      <td>26.560163</td>\n",
       "      <td>33.085366</td>\n",
       "      <td>22.580488</td>\n",
       "      <td>69.424390</td>\n",
       "      <td>3.065854</td>\n",
       "      <td>33.333333</td>\n",
       "      <td>2.337805</td>\n",
       "      <td>0.0</td>\n",
       "      <td>0.0</td>\n",
       "      <td>14.978049</td>\n",
       "      <td>202.621138</td>\n",
       "      <td>1005.731707</td>\n",
       "      <td>55.621138</td>\n",
       "      <td>4.242276</td>\n",
       "      <td>229.413008</td>\n",
       "      <td>19.802439</td>\n",
       "      <td>7.829268</td>\n",
       "      <td>1.910569</td>\n",
       "      <td>1.170732</td>\n",
       "      <td>7579.0</td>\n",
       "      <td>normal</td>\n",
       "    </tr>\n",
       "    <tr>\n",
       "      <th>3</th>\n",
       "      <td>3</td>\n",
       "      <td>33.020325</td>\n",
       "      <td>25.080488</td>\n",
       "      <td>28.727642</td>\n",
       "      <td>37.878049</td>\n",
       "      <td>26.193496</td>\n",
       "      <td>31.772358</td>\n",
       "      <td>21.752033</td>\n",
       "      <td>69.297561</td>\n",
       "      <td>6.025203</td>\n",
       "      <td>37.398374</td>\n",
       "      <td>2.676667</td>\n",
       "      <td>0.0</td>\n",
       "      <td>0.0</td>\n",
       "      <td>16.504878</td>\n",
       "      <td>183.544715</td>\n",
       "      <td>1003.359350</td>\n",
       "      <td>50.208130</td>\n",
       "      <td>2.991057</td>\n",
       "      <td>225.421951</td>\n",
       "      <td>19.480488</td>\n",
       "      <td>7.593496</td>\n",
       "      <td>1.300813</td>\n",
       "      <td>0.146341</td>\n",
       "      <td>13706.0</td>\n",
       "      <td>normal</td>\n",
       "    </tr>\n",
       "    <tr>\n",
       "      <th>4</th>\n",
       "      <td>4</td>\n",
       "      <td>30.660976</td>\n",
       "      <td>24.230894</td>\n",
       "      <td>26.774797</td>\n",
       "      <td>36.586992</td>\n",
       "      <td>24.263415</td>\n",
       "      <td>28.943902</td>\n",
       "      <td>24.214634</td>\n",
       "      <td>86.652033</td>\n",
       "      <td>23.336585</td>\n",
       "      <td>96.747967</td>\n",
       "      <td>15.616992</td>\n",
       "      <td>0.0</td>\n",
       "      <td>0.0</td>\n",
       "      <td>19.546341</td>\n",
       "      <td>224.030081</td>\n",
       "      <td>1009.995935</td>\n",
       "      <td>45.542276</td>\n",
       "      <td>3.886992</td>\n",
       "      <td>176.598374</td>\n",
       "      <td>15.261789</td>\n",
       "      <td>6.186992</td>\n",
       "      <td>0.967480</td>\n",
       "      <td>3.951220</td>\n",
       "      <td>82.0</td>\n",
       "      <td>normal</td>\n",
       "    </tr>\n",
       "  </tbody>\n",
       "</table>\n",
       "</div>"
      ],
      "text/plain": [
       "   serial    tempmax    tempmin       temp  feelslikemax  feelslikemin  \\\n",
       "0       0  34.053151  24.478082  28.709863     39.757808     25.317808   \n",
       "1       1  34.086179  25.694309  29.464228     41.338211     28.140650   \n",
       "2       2  34.573984  25.417886  29.526829     40.464228     26.560163   \n",
       "3       3  33.020325  25.080488  28.727642     37.878049     26.193496   \n",
       "4       4  30.660976  24.230894  26.774797     36.586992     24.263415   \n",
       "\n",
       "   feelslike        dew   humidity     precip  precipprob  precipcover  snow  \\\n",
       "0  32.306301  22.971233  73.508219   2.921726   44.657534     4.360932   0.0   \n",
       "1  34.423577  23.484553  72.066667   3.783415   39.837398     2.676748   0.0   \n",
       "2  33.085366  22.580488  69.424390   3.065854   33.333333     2.337805   0.0   \n",
       "3  31.772358  21.752033  69.297561   6.025203   37.398374     2.676667   0.0   \n",
       "4  28.943902  24.214634  86.652033  23.336585   96.747967    15.616992   0.0   \n",
       "\n",
       "   snowdepth  windspeed     winddir  sealevelpressure  cloudcover  visibility  \\\n",
       "0        0.0  15.678356  175.595342       1007.911781   50.747945    3.789863   \n",
       "1        0.0  14.574797  158.349593       1003.533333   48.313821    2.884553   \n",
       "2        0.0  14.978049  202.621138       1005.731707   55.621138    4.242276   \n",
       "3        0.0  16.504878  183.544715       1003.359350   50.208130    2.991057   \n",
       "4        0.0  19.546341  224.030081       1009.995935   45.542276    3.886992   \n",
       "\n",
       "   solarradiation  solarenergy   uvindex  conditions  stations    cases  \\\n",
       "0      208.097808    17.973699  7.232877    2.558904  1.197260   4925.0   \n",
       "1      222.926016    19.246341  7.504065    1.658537  0.991870   5077.0   \n",
       "2      229.413008    19.802439  7.829268    1.910569  1.170732   7579.0   \n",
       "3      225.421951    19.480488  7.593496    1.300813  0.146341  13706.0   \n",
       "4      176.598374    15.261789  6.186992    0.967480  3.951220     82.0   \n",
       "\n",
       "   labels  \n",
       "0  normal  \n",
       "1  normal  \n",
       "2  normal  \n",
       "3  normal  \n",
       "4  normal  "
      ]
     },
     "execution_count": 6,
     "metadata": {},
     "output_type": "execute_result"
    }
   ],
   "source": [
    "raw_df.head()"
   ]
  },
  {
   "cell_type": "markdown",
   "metadata": {},
   "source": [
    "### Preparing the input data to neural network"
   ]
  },
  {
   "cell_type": "code",
   "execution_count": 7,
   "metadata": {},
   "outputs": [],
   "source": [
    "df = raw_df.copy()"
   ]
  },
  {
   "cell_type": "code",
   "execution_count": 8,
   "metadata": {},
   "outputs": [],
   "source": [
    "df.drop(columns=['serial', 'cases', 'labels', 'stations', 'snow', 'snowdepth'], inplace=True)"
   ]
  },
  {
   "cell_type": "code",
   "execution_count": 9,
   "metadata": {},
   "outputs": [
    {
     "data": {
      "text/html": [
       "<div>\n",
       "<style scoped>\n",
       "    .dataframe tbody tr th:only-of-type {\n",
       "        vertical-align: middle;\n",
       "    }\n",
       "\n",
       "    .dataframe tbody tr th {\n",
       "        vertical-align: top;\n",
       "    }\n",
       "\n",
       "    .dataframe thead th {\n",
       "        text-align: right;\n",
       "    }\n",
       "</style>\n",
       "<table border=\"1\" class=\"dataframe\">\n",
       "  <thead>\n",
       "    <tr style=\"text-align: right;\">\n",
       "      <th></th>\n",
       "      <th>tempmax</th>\n",
       "      <th>tempmin</th>\n",
       "      <th>temp</th>\n",
       "      <th>feelslikemax</th>\n",
       "      <th>feelslikemin</th>\n",
       "      <th>feelslike</th>\n",
       "      <th>dew</th>\n",
       "      <th>humidity</th>\n",
       "      <th>precip</th>\n",
       "      <th>precipprob</th>\n",
       "      <th>precipcover</th>\n",
       "      <th>windspeed</th>\n",
       "      <th>winddir</th>\n",
       "      <th>sealevelpressure</th>\n",
       "      <th>cloudcover</th>\n",
       "      <th>visibility</th>\n",
       "      <th>solarradiation</th>\n",
       "      <th>solarenergy</th>\n",
       "      <th>uvindex</th>\n",
       "      <th>conditions</th>\n",
       "    </tr>\n",
       "  </thead>\n",
       "  <tbody>\n",
       "    <tr>\n",
       "      <th>0</th>\n",
       "      <td>34.053151</td>\n",
       "      <td>24.478082</td>\n",
       "      <td>28.709863</td>\n",
       "      <td>39.757808</td>\n",
       "      <td>25.317808</td>\n",
       "      <td>32.306301</td>\n",
       "      <td>22.971233</td>\n",
       "      <td>73.508219</td>\n",
       "      <td>2.921726</td>\n",
       "      <td>44.657534</td>\n",
       "      <td>4.360932</td>\n",
       "      <td>15.678356</td>\n",
       "      <td>175.595342</td>\n",
       "      <td>1007.911781</td>\n",
       "      <td>50.747945</td>\n",
       "      <td>3.789863</td>\n",
       "      <td>208.097808</td>\n",
       "      <td>17.973699</td>\n",
       "      <td>7.232877</td>\n",
       "      <td>2.558904</td>\n",
       "    </tr>\n",
       "    <tr>\n",
       "      <th>1</th>\n",
       "      <td>34.086179</td>\n",
       "      <td>25.694309</td>\n",
       "      <td>29.464228</td>\n",
       "      <td>41.338211</td>\n",
       "      <td>28.140650</td>\n",
       "      <td>34.423577</td>\n",
       "      <td>23.484553</td>\n",
       "      <td>72.066667</td>\n",
       "      <td>3.783415</td>\n",
       "      <td>39.837398</td>\n",
       "      <td>2.676748</td>\n",
       "      <td>14.574797</td>\n",
       "      <td>158.349593</td>\n",
       "      <td>1003.533333</td>\n",
       "      <td>48.313821</td>\n",
       "      <td>2.884553</td>\n",
       "      <td>222.926016</td>\n",
       "      <td>19.246341</td>\n",
       "      <td>7.504065</td>\n",
       "      <td>1.658537</td>\n",
       "    </tr>\n",
       "    <tr>\n",
       "      <th>2</th>\n",
       "      <td>34.573984</td>\n",
       "      <td>25.417886</td>\n",
       "      <td>29.526829</td>\n",
       "      <td>40.464228</td>\n",
       "      <td>26.560163</td>\n",
       "      <td>33.085366</td>\n",
       "      <td>22.580488</td>\n",
       "      <td>69.424390</td>\n",
       "      <td>3.065854</td>\n",
       "      <td>33.333333</td>\n",
       "      <td>2.337805</td>\n",
       "      <td>14.978049</td>\n",
       "      <td>202.621138</td>\n",
       "      <td>1005.731707</td>\n",
       "      <td>55.621138</td>\n",
       "      <td>4.242276</td>\n",
       "      <td>229.413008</td>\n",
       "      <td>19.802439</td>\n",
       "      <td>7.829268</td>\n",
       "      <td>1.910569</td>\n",
       "    </tr>\n",
       "    <tr>\n",
       "      <th>3</th>\n",
       "      <td>33.020325</td>\n",
       "      <td>25.080488</td>\n",
       "      <td>28.727642</td>\n",
       "      <td>37.878049</td>\n",
       "      <td>26.193496</td>\n",
       "      <td>31.772358</td>\n",
       "      <td>21.752033</td>\n",
       "      <td>69.297561</td>\n",
       "      <td>6.025203</td>\n",
       "      <td>37.398374</td>\n",
       "      <td>2.676667</td>\n",
       "      <td>16.504878</td>\n",
       "      <td>183.544715</td>\n",
       "      <td>1003.359350</td>\n",
       "      <td>50.208130</td>\n",
       "      <td>2.991057</td>\n",
       "      <td>225.421951</td>\n",
       "      <td>19.480488</td>\n",
       "      <td>7.593496</td>\n",
       "      <td>1.300813</td>\n",
       "    </tr>\n",
       "    <tr>\n",
       "      <th>4</th>\n",
       "      <td>30.660976</td>\n",
       "      <td>24.230894</td>\n",
       "      <td>26.774797</td>\n",
       "      <td>36.586992</td>\n",
       "      <td>24.263415</td>\n",
       "      <td>28.943902</td>\n",
       "      <td>24.214634</td>\n",
       "      <td>86.652033</td>\n",
       "      <td>23.336585</td>\n",
       "      <td>96.747967</td>\n",
       "      <td>15.616992</td>\n",
       "      <td>19.546341</td>\n",
       "      <td>224.030081</td>\n",
       "      <td>1009.995935</td>\n",
       "      <td>45.542276</td>\n",
       "      <td>3.886992</td>\n",
       "      <td>176.598374</td>\n",
       "      <td>15.261789</td>\n",
       "      <td>6.186992</td>\n",
       "      <td>0.967480</td>\n",
       "    </tr>\n",
       "  </tbody>\n",
       "</table>\n",
       "</div>"
      ],
      "text/plain": [
       "     tempmax    tempmin       temp  feelslikemax  feelslikemin  feelslike  \\\n",
       "0  34.053151  24.478082  28.709863     39.757808     25.317808  32.306301   \n",
       "1  34.086179  25.694309  29.464228     41.338211     28.140650  34.423577   \n",
       "2  34.573984  25.417886  29.526829     40.464228     26.560163  33.085366   \n",
       "3  33.020325  25.080488  28.727642     37.878049     26.193496  31.772358   \n",
       "4  30.660976  24.230894  26.774797     36.586992     24.263415  28.943902   \n",
       "\n",
       "         dew   humidity     precip  precipprob  precipcover  windspeed  \\\n",
       "0  22.971233  73.508219   2.921726   44.657534     4.360932  15.678356   \n",
       "1  23.484553  72.066667   3.783415   39.837398     2.676748  14.574797   \n",
       "2  22.580488  69.424390   3.065854   33.333333     2.337805  14.978049   \n",
       "3  21.752033  69.297561   6.025203   37.398374     2.676667  16.504878   \n",
       "4  24.214634  86.652033  23.336585   96.747967    15.616992  19.546341   \n",
       "\n",
       "      winddir  sealevelpressure  cloudcover  visibility  solarradiation  \\\n",
       "0  175.595342       1007.911781   50.747945    3.789863      208.097808   \n",
       "1  158.349593       1003.533333   48.313821    2.884553      222.926016   \n",
       "2  202.621138       1005.731707   55.621138    4.242276      229.413008   \n",
       "3  183.544715       1003.359350   50.208130    2.991057      225.421951   \n",
       "4  224.030081       1009.995935   45.542276    3.886992      176.598374   \n",
       "\n",
       "   solarenergy   uvindex  conditions  \n",
       "0    17.973699  7.232877    2.558904  \n",
       "1    19.246341  7.504065    1.658537  \n",
       "2    19.802439  7.829268    1.910569  \n",
       "3    19.480488  7.593496    1.300813  \n",
       "4    15.261789  6.186992    0.967480  "
      ]
     },
     "execution_count": 9,
     "metadata": {},
     "output_type": "execute_result"
    }
   ],
   "source": [
    "df.head()"
   ]
  },
  {
   "cell_type": "code",
   "execution_count": 10,
   "metadata": {},
   "outputs": [],
   "source": [
    "X = np.array(df)\n",
    "Y_linear = np.array(raw_df['cases']).reshape(X.shape[0], 1)\n"
   ]
  },
  {
   "cell_type": "code",
   "execution_count": 11,
   "metadata": {},
   "outputs": [
    {
     "name": "stdout",
     "output_type": "stream",
     "text": [
      "(602, 20)\n",
      "(602, 1)\n"
     ]
    }
   ],
   "source": [
    "print(X.shape)\n",
    "print(Y_linear.shape)"
   ]
  },
  {
   "cell_type": "markdown",
   "metadata": {},
   "source": [
    "#### Spliting dataset into train  dev and test sets"
   ]
  },
  {
   "cell_type": "code",
   "execution_count": 12,
   "metadata": {},
   "outputs": [],
   "source": [
    "X_train, X_test, Y_train, Y_test = train_test_split(X, Y_linear, test_size=0.3, random_state=42)"
   ]
  },
  {
   "cell_type": "code",
   "execution_count": 13,
   "metadata": {},
   "outputs": [],
   "source": [
    "X_dev_, X_test, Y_dev, Y_test = train_test_split(X_test, Y_test, test_size=0.5, random_state=42)"
   ]
  },
  {
   "cell_type": "markdown",
   "metadata": {},
   "source": [
    "#### Normalizing inputs"
   ]
  },
  {
   "cell_type": "code",
   "execution_count": 14,
   "metadata": {},
   "outputs": [],
   "source": [
    "X_mean = np.mean(X_train,  axis=0, keepdims=True)\n",
    "X_dev = np.std(X_train, axis=0, keepdims=True)"
   ]
  },
  {
   "cell_type": "code",
   "execution_count": 15,
   "metadata": {},
   "outputs": [
    {
     "data": {
      "text/plain": [
       "array([[-0.3153459 ,  0.52442687, -0.14897567,  0.59901433,  0.11854252,\n",
       "         0.00627622,  0.89043439,  1.42371925,  1.13709605,  0.67620327,\n",
       "         0.21132408, -0.33143443, -0.86594917, -0.12238367,  0.8091319 ,\n",
       "        -0.53908097, -0.55545085, -0.56680802, -0.98836085,  0.18618026]])"
      ]
     },
     "execution_count": 15,
     "metadata": {},
     "output_type": "execute_result"
    }
   ],
   "source": [
    "X_train = (X_train-X_mean)/X_dev\n",
    "X_train[:1,:]"
   ]
  },
  {
   "cell_type": "code",
   "execution_count": 16,
   "metadata": {},
   "outputs": [
    {
     "data": {
      "text/plain": [
       "array([[ 0.65997314, -0.18924305,  0.05610572,  0.0723754 , -0.35780477,\n",
       "        -0.29046312, -0.37378142, -0.59574256, -0.4406535 ,  0.67620327,\n",
       "         0.77402431, -0.8191061 ,  1.66706419, -0.04326152,  0.57630207,\n",
       "        -0.83323967,  0.0950825 ,  0.08680913,  0.67140407,  1.8219068 ]])"
      ]
     },
     "execution_count": 16,
     "metadata": {},
     "output_type": "execute_result"
    }
   ],
   "source": [
    "X_development = (X_dev_-X_mean)/X_dev\n",
    "X_development[:1,:]"
   ]
  },
  {
   "cell_type": "code",
   "execution_count": 17,
   "metadata": {},
   "outputs": [
    {
     "data": {
      "text/plain": [
       "array([[-0.09027227, -0.26061004, -0.39507334, -0.05401794, -0.40543949,\n",
       "        -0.5660068 , -0.02261036,  0.3765909 , -0.22478435,  0.67620327,\n",
       "        -0.07036379, -0.61960405,  0.42484335, -0.00674361, -0.4595531 ,\n",
       "        -0.83323967,  0.90414919,  0.88801725,  0.67140407,  1.8219068 ]])"
      ]
     },
     "execution_count": 17,
     "metadata": {},
     "output_type": "execute_result"
    }
   ],
   "source": [
    "X_test = (X_test-X_mean)/X_dev\n",
    "X_test[:1,:]"
   ]
  },
  {
   "cell_type": "code",
   "execution_count": 18,
   "metadata": {},
   "outputs": [
    {
     "name": "stdout",
     "output_type": "stream",
     "text": [
      "(421, 20)\n",
      "(90, 20)\n",
      "(91, 20)\n"
     ]
    }
   ],
   "source": [
    "print(X_train.shape)\n",
    "print(X_dev_.shape)\n",
    "print(X_test.shape)\n"
   ]
  },
  {
   "cell_type": "markdown",
   "metadata": {},
   "source": [
    "#### Transposing the matrices so that each matrix column contains a single training example"
   ]
  },
  {
   "cell_type": "code",
   "execution_count": 19,
   "metadata": {},
   "outputs": [],
   "source": [
    "X_train = X_train.T\n",
    "X_development = X_development.T\n",
    "X_test = X_test.T"
   ]
  },
  {
   "cell_type": "code",
   "execution_count": 20,
   "metadata": {},
   "outputs": [],
   "source": [
    "Y_train = Y_train.T\n",
    "Y_dev = Y_dev.T\n",
    "Y_test = Y_test.T"
   ]
  },
  {
   "cell_type": "code",
   "execution_count": 21,
   "metadata": {},
   "outputs": [
    {
     "data": {
      "text/plain": [
       "(1, 90)"
      ]
     },
     "execution_count": 21,
     "metadata": {},
     "output_type": "execute_result"
    }
   ],
   "source": [
    "Y_dev.shape"
   ]
  },
  {
   "cell_type": "markdown",
   "metadata": {},
   "source": [
    "### Training a model to predict Actual output"
   ]
  },
  {
   "cell_type": "code",
   "execution_count": 22,
   "metadata": {},
   "outputs": [],
   "source": [
    "linear_model = NN(input_size=X_train.shape[0], architecture=[2,2,1], activations=['Leaky_ReLU', 'Leaky_ReLU', 'Linear'], loss=\"MSE\")"
   ]
  },
  {
   "cell_type": "code",
   "execution_count": 23,
   "metadata": {},
   "outputs": [],
   "source": [
    "def model_train(model, num_epochs=10000, learning_rate=0.1, eval_interval=1000,):\n",
    "    # Training loop\n",
    "    train_losses = []\n",
    "    dev_losses = []\n",
    "    for epoch in range(num_epochs):\n",
    "        train_loss = model.model_train(X_train, Y_train, learning_rate=learning_rate)\n",
    "        train_losses.append(train_loss[0])\n",
    "        \n",
    "        # Optionally evaluate on dev set\n",
    "        if epoch % eval_interval == 0:\n",
    "            dev_loss, pred = model.evaluate(X_development, Y_dev)\n",
    "            dev_losses.append(dev_loss[0])\n",
    "            print(f\"Epoch {epoch}: Train Loss = {train_loss}, Dev Loss = {dev_loss}\")\n",
    "\n",
    "    return train_losses, dev_losses\n"
   ]
  },
  {
   "cell_type": "code",
   "execution_count": 24,
   "metadata": {},
   "outputs": [
    {
     "name": "stdout",
     "output_type": "stream",
     "text": [
      "Epoch 0: Train Loss = [60928163.03105132], Dev Loss = [54011751.56045751]\n",
      "Epoch 1000: Train Loss = [60919986.24228028], Dev Loss = [54005516.11111111]\n",
      "Epoch 2000: Train Loss = [60919636.78147268], Dev Loss = [54004709.95555556]\n",
      "Epoch 3000: Train Loss = [60919585.01306413], Dev Loss = [54004698.98333333]\n",
      "Epoch 4000: Train Loss = [60919553.59738717], Dev Loss = [54004594.42222222]\n",
      "Epoch 5000: Train Loss = [60919533.71496437], Dev Loss = [54004594.42222222]\n",
      "Epoch 6000: Train Loss = [60919527.03206651], Dev Loss = [54004594.42222222]\n",
      "Epoch 7000: Train Loss = [60919516.67458432], Dev Loss = [54004508.34444445]\n",
      "Epoch 8000: Train Loss = [60919516.67458432], Dev Loss = [54004506.91666666]\n",
      "Epoch 9000: Train Loss = [60919516.67458432], Dev Loss = [54004506.91666666]\n",
      "Epoch 10000: Train Loss = [60919516.67458432], Dev Loss = [54004506.91666666]\n",
      "Epoch 11000: Train Loss = [60919516.67458432], Dev Loss = [54004506.91666666]\n",
      "Epoch 12000: Train Loss = [60919516.67458432], Dev Loss = [54004506.91666666]\n",
      "Epoch 13000: Train Loss = [60919516.67458432], Dev Loss = [54004506.91666666]\n",
      "Epoch 14000: Train Loss = [60919516.67458432], Dev Loss = [54004506.91666666]\n"
     ]
    }
   ],
   "source": [
    "train_loss, dev_loss = model_train(model=linear_model, learning_rate=1.5, num_epochs=15000)\n"
   ]
  },
  {
   "cell_type": "code",
   "execution_count": 25,
   "metadata": {},
   "outputs": [
    {
     "data": {
      "text/plain": [
       "[<matplotlib.lines.Line2D at 0x159d8c06960>]"
      ]
     },
     "execution_count": 25,
     "metadata": {},
     "output_type": "execute_result"
    },
    {
     "data": {
      "image/png": "[encoded data removed]",
      "text/plain": [
       "<Figure size 640x480 with 1 Axes>"
      ]
     },
     "metadata": {},
     "output_type": "display_data"
    }
   ],
   "source": [
    "plt.plot(train_loss, c='r')"
   ]
  },
  {
   "cell_type": "code",
   "execution_count": 26,
   "metadata": {},
   "outputs": [
    {
     "data": {
      "text/plain": [
       "[<matplotlib.lines.Line2D at 0x159d8cd7f50>]"
      ]
     },
     "execution_count": 26,
     "metadata": {},
     "output_type": "execute_result"
    },
    {
     "data": {
      "image/png": "[encoded data removed]",
      "text/plain": [
       "<Figure size 640x480 with 1 Axes>"
      ]
     },
     "metadata": {},
     "output_type": "display_data"
    }
   ],
   "source": [
    "plt.plot(range(1,15001, 1000), dev_loss, c='b')"
   ]
  },
  {
   "cell_type": "code",
   "execution_count": 27,
   "metadata": {},
   "outputs": [],
   "source": [
    "loss, pred = linear_model.evaluate(X_test, Y_test)"
   ]
  },
  {
   "cell_type": "code",
   "execution_count": 28,
   "metadata": {},
   "outputs": [
    {
     "data": {
      "text/plain": [
       "array([[ 3004.70585009,  9322.99847334,  4854.65575553, 11649.56889203,\n",
       "         6727.17324048, 12650.6758855 , 15491.20077343,  8159.44468407,\n",
       "        11884.89320525, 10107.25012673, 11175.8896011 ,  3363.29234753,\n",
       "        11753.18354107,  3651.56335012,  4535.59732285,  2019.71811076,\n",
       "        13020.12019068,  5370.37652691,  1572.25161247,   112.93732086,\n",
       "         9349.49712423,  4455.55118446,  7020.4990416 ,  9160.7487422 ,\n",
       "        13065.72208988, 10139.08629994,  2571.04376084,  4023.42190115,\n",
       "         3905.27854677, 15268.56074898, 15686.68917044,  6231.12572698,\n",
       "         5842.61032943,  9793.20040104,  9023.68318478, 13096.54473031,\n",
       "         6310.72163779,  9170.26857551, 10867.79243239,  2540.46018756,\n",
       "         7246.42839674,  4864.51429052,  6666.92740783,  3756.72785539,\n",
       "         2955.0722963 ,  2962.42040947, 12575.30471882, 12045.48567496,\n",
       "         2857.87701198, 14983.00914424,  8402.82886198,  4085.62758597,\n",
       "         7663.08534818,  9222.75248317,  8859.23334063,   166.0535081 ,\n",
       "         5954.96669216, 12911.0207169 , 15956.21583812,  1933.23953176,\n",
       "         2071.19759213, 18408.54387448,  8625.36574554, 11442.03865605,\n",
       "         4158.39694519, 10454.72892257,  7648.53404931,  1575.42243543,\n",
       "         9208.70827169, 17913.08051867,  4447.16595165,  3676.49030585,\n",
       "         2967.14901415, 12880.17426043,   160.96154459,  4023.03196872,\n",
       "         1651.48648938, 10729.17361761,  9894.96350995,  2288.51489262,\n",
       "        19635.09926491,   128.99905418,  5747.75867982,   165.75718588,\n",
       "        10600.17950846,  9761.18581258,  4436.93369258,  7173.51973246,\n",
       "         8235.50376989, 17404.05906693,  8141.6235052 ]])"
      ]
     },
     "execution_count": 28,
     "metadata": {},
     "output_type": "execute_result"
    }
   ],
   "source": [
    "pred"
   ]
  },
  {
   "cell_type": "code",
   "execution_count": 29,
   "metadata": {},
   "outputs": [
    {
     "data": {
      "image/png": "[encoded data removed]",
      "text/plain": [
       "<Figure size 640x480 with 1 Axes>"
      ]
     },
     "metadata": {},
     "output_type": "display_data"
    }
   ],
   "source": [
    "data = Y_test.flatten()\n",
    "plt.figure(facecolor='lavender')\n",
    "plt.scatter(range(len(data)), data, c=\"skyblue\", alpha=0.6)  # Scatter plot\n",
    "plt.scatter(range(len(data)), pred.flatten(), c=\"m\", alpha=0.6)\n",
    "fig = plt.gca().set_facecolor('black')\n",
    "plt.grid()\n"
   ]
  },
  {
   "cell_type": "code",
   "execution_count": 30,
   "metadata": {},
   "outputs": [
    {
     "name": "stdout",
     "output_type": "stream",
     "text": [
      "dW3\n",
      "[[1. 1.]]\n",
      "db3\n",
      "[[-1.]]\n",
      "dW2\n",
      "[[-1.  1.]\n",
      " [-1.  1.]]\n",
      "db2\n",
      "[[1.]\n",
      " [1.]]\n",
      "dW1\n",
      "[[-1.          1.          1.         -1.          1.          1.\n",
      "   1.          1.         -1.          1.         -1.          1.\n",
      "   1.          0.41714989 -1.          1.          1.          1.\n",
      "   1.         -1.        ]\n",
      " [-1.         -1.         -0.33060944  1.         -1.          1.\n",
      "   1.         -1.          1.          1.          1.         -0.34498346\n",
      "  -1.          1.          1.         -1.         -1.         -1.\n",
      "  -1.         -1.        ]]\n",
      "db1\n",
      "[[-1.]\n",
      " [ 1.]]\n"
     ]
    }
   ],
   "source": [
    "for i in linear_model.grads:\n",
    "    print(i)\n",
    "    print(linear_model.grads[i])"
   ]
  },
  {
   "cell_type": "code",
   "execution_count": 31,
   "metadata": {},
   "outputs": [
    {
     "name": "stdout",
     "output_type": "stream",
     "text": [
      "W1\n",
      "[[  7.38100343  16.89038603 -17.60563496 -19.85431608 -16.44156782\n",
      "   12.38894464   3.94038967 -28.13347781 -24.70450098  -0.15666947\n",
      "  -16.02903631   4.78690696  11.72804971 -10.26433903   7.92218082\n",
      "  -24.12221584  13.32104248   7.84479649  19.89401086 -19.41712328]\n",
      " [ 21.53496766  31.09733317  17.25705235   3.26073242 -18.04855593\n",
      "  -22.79865165  43.23024398  13.7452525    6.7687932   25.21419611\n",
      "  -15.64181678  13.55729513 -15.03704302  16.40535892 -29.37392582\n",
      "    7.83371521 -12.21188604 -12.38255078 -11.27939067 -48.09887908]]\n",
      "b1\n",
      "[[64.07982171]\n",
      " [72.33452626]]\n",
      "W2\n",
      "[[-28.14379701 -51.68489531]\n",
      " [-28.14199465 -51.64528015]]\n",
      "b2\n",
      "[[-75.18481923]\n",
      " [-75.18481923]]\n",
      "W3\n",
      "[[-64.95828594 -64.73336878]]\n",
      "b3\n",
      "[[75.18481923]]\n"
     ]
    }
   ],
   "source": [
    "for i in linear_model.parameters:\n",
    "    print(i)\n",
    "    print(linear_model.parameters[i])"
   ]
  },
  {
   "cell_type": "markdown",
   "metadata": {},
   "source": [
    "### Training another model to predict scaled down output"
   ]
  },
  {
   "cell_type": "markdown",
   "metadata": {},
   "source": [
    "#### Scaling down our output"
   ]
  },
  {
   "cell_type": "code",
   "execution_count": 32,
   "metadata": {},
   "outputs": [
    {
     "name": "stdout",
     "output_type": "stream",
     "text": [
      "(1,)\n",
      "(1, 421)\n"
     ]
    }
   ],
   "source": [
    "Y_train_scaled = np.power(Y_train, 0.02)\n",
    "Y = np.arange(len(Y_train))\n",
    "print(Y.shape)\n",
    "print(Y_train.shape)\n",
    "# plt.scatter(Y, Y_l_train_)\n",
    "# Y_l_dev[0]\n"
   ]
  },
  {
   "cell_type": "code",
   "execution_count": 33,
   "metadata": {},
   "outputs": [],
   "source": [
    "Y_dev_scaled = np.power(Y_dev, 0.02)"
   ]
  },
  {
   "cell_type": "code",
   "execution_count": 34,
   "metadata": {},
   "outputs": [
    {
     "data": {
      "text/plain": [
       "(1, 90)"
      ]
     },
     "execution_count": 34,
     "metadata": {},
     "output_type": "execute_result"
    }
   ],
   "source": [
    "Y_dev_scaled.shape"
   ]
  },
  {
   "cell_type": "markdown",
   "metadata": {},
   "source": [
    "#### Creating Model"
   ]
  },
  {
   "cell_type": "code",
   "execution_count": 35,
   "metadata": {},
   "outputs": [],
   "source": [
    "linear_model_2 = NN(input_size=X_train.shape[0], architecture=[2,2,1], activations=['Leaky_ReLU', 'Leaky_ReLU', 'Linear'], loss=\"MSE\")\n"
   ]
  },
  {
   "cell_type": "code",
   "execution_count": 36,
   "metadata": {},
   "outputs": [],
   "source": [
    "def model_train_scaled (model, num_epochs=10000, learning_rate=0.1, eval_interval=1000,):\n",
    "    # Training loop\n",
    "    train_losses = []\n",
    "    dev_losses = []\n",
    "    for epoch in range(num_epochs):\n",
    "        train_loss = model.model_train(X_train, Y_train_scaled, learning_rate=learning_rate)\n",
    "        train_losses.append(train_loss[0])\n",
    "        \n",
    "        # Optionally evaluate on dev set\n",
    "        if epoch % eval_interval == 0:\n",
    "            dev_loss, pred = model.evaluate(X_development, Y_dev_scaled)\n",
    "            dev_losses.append(dev_loss[0])\n",
    "            print(f\"Epoch {epoch}: Train Loss = {train_loss}, Dev Loss = {dev_loss}\")\n",
    "\n",
    "    return train_losses, dev_losses\n"
   ]
  },
  {
   "cell_type": "code",
   "execution_count": 37,
   "metadata": {},
   "outputs": [
    {
     "name": "stdout",
     "output_type": "stream",
     "text": [
      "Epoch 0: Train Loss = [0.69945807], Dev Loss = [0.69542956]\n",
      "Epoch 1000: Train Loss = [0.02911218], Dev Loss = [0.02911094]\n",
      "Epoch 2000: Train Loss = [0.02160978], Dev Loss = [0.02152681]\n",
      "Epoch 3000: Train Loss = [0.01925654], Dev Loss = [0.01897961]\n",
      "Epoch 4000: Train Loss = [0.01809508], Dev Loss = [0.01780458]\n",
      "Epoch 5000: Train Loss = [0.01744079], Dev Loss = [0.01721584]\n",
      "Epoch 6000: Train Loss = [0.01732271], Dev Loss = [0.0171534]\n",
      "Epoch 7000: Train Loss = [0.01732189], Dev Loss = [0.0171534]\n",
      "Epoch 8000: Train Loss = [0.01732189], Dev Loss = [0.0171534]\n",
      "Epoch 9000: Train Loss = [0.01732189], Dev Loss = [0.0171534]\n",
      "Epoch 10000: Train Loss = [0.01732189], Dev Loss = [0.0171534]\n",
      "Epoch 11000: Train Loss = [0.01732189], Dev Loss = [0.0171534]\n",
      "Epoch 12000: Train Loss = [0.01732189], Dev Loss = [0.0171534]\n",
      "Epoch 13000: Train Loss = [0.01732189], Dev Loss = [0.0171534]\n",
      "Epoch 14000: Train Loss = [0.01732189], Dev Loss = [0.0171534]\n"
     ]
    }
   ],
   "source": [
    "train_loss, dev_loss = model_train_scaled(model=linear_model_2, learning_rate=0.1, num_epochs=15000)\n"
   ]
  },
  {
   "cell_type": "code",
   "execution_count": 55,
   "metadata": {},
   "outputs": [
    {
     "data": {
      "text/plain": [
       "[<matplotlib.lines.Line2D at 0x159db693860>]"
      ]
     },
     "execution_count": 55,
     "metadata": {},
     "output_type": "execute_result"
    },
    {
     "data": {
      "image/png": "[encoded data removed]",
      "text/plain": [
       "<Figure size 640x480 with 1 Axes>"
      ]
     },
     "metadata": {},
     "output_type": "display_data"
    }
   ],
   "source": [
    "plt.plot(train_loss, c='r')\n",
    "plt.plot(range(1,15001, 1000), dev_loss, c='b')\n"
   ]
  },
  {
   "cell_type": "markdown",
   "metadata": {},
   "source": [
    "#### Evaluating the model"
   ]
  },
  {
   "cell_type": "code",
   "execution_count": 40,
   "metadata": {},
   "outputs": [],
   "source": [
    "Y_test_scaled = np.power(Y_test, 0.02)"
   ]
  },
  {
   "cell_type": "code",
   "execution_count": 41,
   "metadata": {},
   "outputs": [],
   "source": [
    "loss, pred = linear_model_2.evaluate(X_test, Y_test_scaled)"
   ]
  },
  {
   "cell_type": "code",
   "execution_count": 42,
   "metadata": {},
   "outputs": [
    {
     "data": {
      "text/plain": [
       "array([[1.11945037, 1.21141914, 1.0590369 , 1.1676245 , 1.05051039,\n",
       "        1.051968  , 1.06159935, 1.05360005, 1.05132611, 1.13024043,\n",
       "        1.07702473, 1.05262692, 1.25251824, 1.08943896, 1.09693504,\n",
       "        1.08796328, 1.1546258 , 1.19788821, 1.07398132, 1.2234495 ,\n",
       "        1.14469036, 1.12606028, 1.05183961, 1.07192291, 1.05170422,\n",
       "        1.1249442 , 1.125762  , 1.10830885, 1.13387111, 1.06544629,\n",
       "        1.08773703, 1.05115051, 1.20223924, 1.17181893, 1.11791659,\n",
       "        1.12476875, 1.1894536 , 1.18245001, 1.13882457, 1.09800673,\n",
       "        1.0510868 , 1.13876387, 1.18411381, 1.05277428, 1.13206489,\n",
       "        1.05920535, 1.0522679 , 1.09063371, 1.15454889, 1.0667851 ,\n",
       "        1.10293887, 1.14597696, 1.14986736, 1.18577158, 1.22589747,\n",
       "        1.24564236, 1.05316812, 1.05256004, 1.11570092, 1.19189682,\n",
       "        1.09207498, 1.2406035 , 1.18768977, 1.0861488 , 1.10228781,\n",
       "        1.12535033, 1.22100153, 1.18720092, 1.16068749, 1.12437024,\n",
       "        1.05149955, 1.05334711, 1.11642097, 1.11616415, 1.25240869,\n",
       "        1.11597088, 1.25263333, 1.08628176, 1.0526806 , 1.1742667 ,\n",
       "        1.14686209, 1.22348004, 1.05043292, 1.24235861, 1.05268089,\n",
       "        1.20839135, 1.16246155, 1.20726053, 1.21058097, 1.11191301,\n",
       "        1.09972699]])"
      ]
     },
     "execution_count": 42,
     "metadata": {},
     "output_type": "execute_result"
    }
   ],
   "source": [
    "pred"
   ]
  },
  {
   "cell_type": "code",
   "execution_count": 43,
   "metadata": {},
   "outputs": [
    {
     "data": {
      "image/png": "[encoded data removed]",
      "text/plain": [
       "<Figure size 640x480 with 1 Axes>"
      ]
     },
     "metadata": {},
     "output_type": "display_data"
    }
   ],
   "source": [
    "data = Y_test_scaled.flatten()\n",
    "plt.figure(facecolor='lavender')\n",
    "plt.scatter(range(len(data)), data, c=\"skyblue\", alpha=0.6)  # Scatter plot\n",
    "plt.scatter(range(len(data)), pred.flatten(), c=\"m\", alpha=0.6)\n",
    "fig = plt.gca().set_facecolor('black')\n",
    "plt.grid()\n"
   ]
  },
  {
   "cell_type": "code",
   "execution_count": 44,
   "metadata": {},
   "outputs": [
    {
     "name": "stdout",
     "output_type": "stream",
     "text": [
      "dW3\n",
      "[[1. 1.]]\n",
      "db3\n",
      "[[-1.]]\n",
      "dW2\n",
      "[[-1.  1.]\n",
      " [-1.  1.]]\n",
      "db2\n",
      "[[1.]\n",
      " [1.]]\n",
      "dW1\n",
      "[[-1.          1.          1.         -1.          1.          1.\n",
      "   1.          1.         -1.          1.         -1.          1.\n",
      "   1.          0.41714989 -1.          1.          1.          1.\n",
      "   1.         -1.        ]\n",
      " [-1.         -1.         -0.33060944  1.         -1.          1.\n",
      "   1.         -1.          1.          1.          1.         -0.34498346\n",
      "  -1.          1.          1.         -1.         -1.         -1.\n",
      "  -1.         -1.        ]]\n",
      "db1\n",
      "[[-1.]\n",
      " [ 1.]]\n"
     ]
    }
   ],
   "source": [
    "for i in linear_model_2.grads:\n",
    "    print(i)\n",
    "    print(linear_model.grads[i])"
   ]
  },
  {
   "cell_type": "code",
   "execution_count": 45,
   "metadata": {},
   "outputs": [
    {
     "name": "stdout",
     "output_type": "stream",
     "text": [
      "W1\n",
      "[[  7.38100343  16.89038603 -17.60563496 -19.85431608 -16.44156782\n",
      "   12.38894464   3.94038967 -28.13347781 -24.70450098  -0.15666947\n",
      "  -16.02903631   4.78690696  11.72804971 -10.26433903   7.92218082\n",
      "  -24.12221584  13.32104248   7.84479649  19.89401086 -19.41712328]\n",
      " [ 21.53496766  31.09733317  17.25705235   3.26073242 -18.04855593\n",
      "  -22.79865165  43.23024398  13.7452525    6.7687932   25.21419611\n",
      "  -15.64181678  13.55729513 -15.03704302  16.40535892 -29.37392582\n",
      "    7.83371521 -12.21188604 -12.38255078 -11.27939067 -48.09887908]]\n",
      "b1\n",
      "[[64.07982171]\n",
      " [72.33452626]]\n",
      "W2\n",
      "[[-28.14379701 -51.68489531]\n",
      " [-28.14199465 -51.64528015]]\n",
      "b2\n",
      "[[-75.18481923]\n",
      " [-75.18481923]]\n",
      "W3\n",
      "[[-64.95828594 -64.73336878]]\n",
      "b3\n",
      "[[75.18481923]]\n"
     ]
    }
   ],
   "source": [
    "for i in linear_model_2.parameters:\n",
    "    print(i)\n",
    "    print(linear_model.parameters[i])"
   ]
  },
  {
   "cell_type": "markdown",
   "metadata": {},
   "source": [
    "#### Training a simple 1 neuron linear regressor"
   ]
  },
  {
   "cell_type": "code",
   "execution_count": 46,
   "metadata": {},
   "outputs": [],
   "source": [
    "linear_regressor = NN(input_size=X_train.shape[0], architecture=[1], activations=['Linear'], loss=\"MSE\")\n"
   ]
  },
  {
   "cell_type": "code",
   "execution_count": 47,
   "metadata": {},
   "outputs": [
    {
     "name": "stdout",
     "output_type": "stream",
     "text": [
      "Epoch 0: Train Loss = [0.44255072], Dev Loss = [0.37093369]\n",
      "Epoch 1000: Train Loss = [0.01732189], Dev Loss = [0.0171534]\n",
      "Epoch 2000: Train Loss = [0.01732189], Dev Loss = [0.0171534]\n",
      "Epoch 3000: Train Loss = [0.01732189], Dev Loss = [0.0171534]\n",
      "Epoch 4000: Train Loss = [0.01732189], Dev Loss = [0.0171534]\n",
      "Epoch 5000: Train Loss = [0.01732189], Dev Loss = [0.0171534]\n",
      "Epoch 6000: Train Loss = [0.01732189], Dev Loss = [0.0171534]\n",
      "Epoch 7000: Train Loss = [0.01732189], Dev Loss = [0.0171534]\n",
      "Epoch 8000: Train Loss = [0.01732189], Dev Loss = [0.0171534]\n",
      "Epoch 9000: Train Loss = [0.01732189], Dev Loss = [0.0171534]\n",
      "Epoch 10000: Train Loss = [0.01732189], Dev Loss = [0.0171534]\n",
      "Epoch 11000: Train Loss = [0.01732189], Dev Loss = [0.0171534]\n",
      "Epoch 12000: Train Loss = [0.01732189], Dev Loss = [0.0171534]\n",
      "Epoch 13000: Train Loss = [0.01732189], Dev Loss = [0.0171534]\n",
      "Epoch 14000: Train Loss = [0.01732189], Dev Loss = [0.0171534]\n"
     ]
    }
   ],
   "source": [
    "train_loss, dev_loss = model_train_scaled(model=linear_regressor, learning_rate=1.5, num_epochs=15000)\n"
   ]
  },
  {
   "cell_type": "code",
   "execution_count": 56,
   "metadata": {},
   "outputs": [
    {
     "data": {
      "text/plain": [
       "[<matplotlib.lines.Line2D at 0x159db6f3680>]"
      ]
     },
     "execution_count": 56,
     "metadata": {},
     "output_type": "execute_result"
    },
    {
     "data": {
      "image/png": "[encoded data removed]",
      "text/plain": [
       "<Figure size 640x480 with 1 Axes>"
      ]
     },
     "metadata": {},
     "output_type": "display_data"
    }
   ],
   "source": [
    "plt.plot(train_loss, c='r')\n",
    "plt.plot(range(1,15001, 1000), dev_loss, c='b')\n"
   ]
  },
  {
   "cell_type": "code",
   "execution_count": 50,
   "metadata": {},
   "outputs": [],
   "source": [
    "loss, pred = linear_regressor.evaluate(X_test, Y_test_scaled)"
   ]
  },
  {
   "cell_type": "code",
   "execution_count": 51,
   "metadata": {},
   "outputs": [
    {
     "data": {
      "text/plain": [
       "array([0.01698217])"
      ]
     },
     "execution_count": 51,
     "metadata": {},
     "output_type": "execute_result"
    }
   ],
   "source": [
    "loss"
   ]
  },
  {
   "cell_type": "code",
   "execution_count": 52,
   "metadata": {},
   "outputs": [
    {
     "data": {
      "image/png": "[encoded data removed]",
      "text/plain": [
       "<Figure size 640x480 with 1 Axes>"
      ]
     },
     "metadata": {},
     "output_type": "display_data"
    }
   ],
   "source": [
    "data = Y_test_scaled.flatten()\n",
    "plt.figure(facecolor='lavender')\n",
    "plt.scatter(range(len(data)), data, c=\"skyblue\", alpha=0.6)  # Scatter plot\n",
    "plt.scatter(range(len(data)), pred.flatten(), c=\"m\", alpha=0.6)\n",
    "fig = plt.gca().set_facecolor('black')\n",
    "plt.grid()\n"
   ]
  },
  {
   "cell_type": "code",
   "execution_count": 53,
   "metadata": {},
   "outputs": [
    {
     "name": "stdout",
     "output_type": "stream",
     "text": [
      "dW1\n",
      "[[ 8.32045732e-05  4.62725097e-04 -9.56131812e-05  8.82556312e-05\n",
      "  -1.67293208e-04 -4.26943689e-05 -3.61737009e-04  2.11371717e-04\n",
      "  -9.54091842e-06  4.71255883e-06 -1.19372943e-05 -3.45202473e-06\n",
      "  -3.79620554e-06 -5.79525428e-08 -4.38043663e-06 -1.34801064e-05\n",
      "   4.99008501e-05  5.91337889e-05 -8.97151984e-05 -2.50122024e-05]]\n",
      "db1\n",
      "[[-7.18538727e-15]]\n"
     ]
    }
   ],
   "source": [
    "for i in linear_regressor.grads:\n",
    "    print(i)\n",
    "    print(linear_regressor.grads[i])"
   ]
  },
  {
   "cell_type": "code",
   "execution_count": 54,
   "metadata": {},
   "outputs": [
    {
     "name": "stdout",
     "output_type": "stream",
     "text": [
      "W1\n",
      "[[-0.0027242   0.05426453  0.03401316  0.00312807 -0.03175937  0.04138756\n",
      "  -0.10052059  0.06485879  0.00058374 -0.0020846  -0.00513593  0.00683937\n",
      "  -0.00051954 -0.00270093 -0.01415409 -0.0051776   0.04145615 -0.04027069\n",
      "  -0.00872363 -0.00400352]]\n",
      "b1\n",
      "[[1.1821444]]\n"
     ]
    }
   ],
   "source": [
    "for i in linear_regressor.parameters:\n",
    "    print(i)\n",
    "    print(linear_regressor.parameters[i])"
   ]
  },
  {
   "cell_type": "code",
   "execution_count": null,
   "metadata": {},
   "outputs": [],
   "source": []
  }
 ],
 "metadata": {
  "kernelspec": {
   "display_name": ".venv",
   "language": "python",
   "name": "python3"
  },
  "language_info": {
   "codemirror_mode": {
    "name": "ipython",
    "version": 3
   },
   "file_extension": ".py",
   "mimetype": "text/x-python",
   "name": "python",
   "nbconvert_exporter": "python",
   "pygments_lexer": "ipython3",
   "version": "3.12.8"
  }
 },
 "nbformat": 4,
 "nbformat_minor": 2
}
