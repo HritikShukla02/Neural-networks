{
 "cells": [
  {
   "cell_type": "markdown",
   "metadata": {},
   "source": [
    "#### Importing libraries"
   ]
  },
  {
   "cell_type": "code",
   "execution_count": 1,
   "metadata": {},
   "outputs": [],
   "source": [
    "import pandas as pd\n",
    "import numpy as np\n",
    "from sklearn.model_selection import train_test_split\n",
    "import matplotlib.pyplot as plt\n",
    "from neural_networks import NeuralNetwork as NN\n"
   ]
  },
  {
   "cell_type": "markdown",
   "metadata": {},
   "source": [
    "#### Importing dataset"
   ]
  },
  {
   "cell_type": "code",
   "execution_count": 2,
   "metadata": {},
   "outputs": [
    {
     "data": {
      "text/html": [
       "<div>\n",
       "<style scoped>\n",
       "    .dataframe tbody tr th:only-of-type {\n",
       "        vertical-align: middle;\n",
       "    }\n",
       "\n",
       "    .dataframe tbody tr th {\n",
       "        vertical-align: top;\n",
       "    }\n",
       "\n",
       "    .dataframe thead th {\n",
       "        text-align: right;\n",
       "    }\n",
       "</style>\n",
       "<table border=\"1\" class=\"dataframe\">\n",
       "  <thead>\n",
       "    <tr style=\"text-align: right;\">\n",
       "      <th></th>\n",
       "      <th>serial</th>\n",
       "      <th>tempmax</th>\n",
       "      <th>tempmin</th>\n",
       "      <th>temp</th>\n",
       "      <th>feelslikemax</th>\n",
       "      <th>feelslikemin</th>\n",
       "      <th>feelslike</th>\n",
       "      <th>dew</th>\n",
       "      <th>humidity</th>\n",
       "      <th>precip</th>\n",
       "      <th>...</th>\n",
       "      <th>sealevelpressure</th>\n",
       "      <th>cloudcover</th>\n",
       "      <th>visibility</th>\n",
       "      <th>solarradiation</th>\n",
       "      <th>solarenergy</th>\n",
       "      <th>uvindex</th>\n",
       "      <th>conditions</th>\n",
       "      <th>stations</th>\n",
       "      <th>cases</th>\n",
       "      <th>labels</th>\n",
       "    </tr>\n",
       "  </thead>\n",
       "  <tbody>\n",
       "    <tr>\n",
       "      <th>0</th>\n",
       "      <td>0</td>\n",
       "      <td>34.053151</td>\n",
       "      <td>24.478082</td>\n",
       "      <td>28.709863</td>\n",
       "      <td>39.757808</td>\n",
       "      <td>25.317808</td>\n",
       "      <td>32.306301</td>\n",
       "      <td>22.971233</td>\n",
       "      <td>73.508219</td>\n",
       "      <td>2.921726</td>\n",
       "      <td>...</td>\n",
       "      <td>1007.911781</td>\n",
       "      <td>50.747945</td>\n",
       "      <td>3.789863</td>\n",
       "      <td>208.097808</td>\n",
       "      <td>17.973699</td>\n",
       "      <td>7.232877</td>\n",
       "      <td>2.558904</td>\n",
       "      <td>1.197260</td>\n",
       "      <td>4925.0</td>\n",
       "      <td>normal</td>\n",
       "    </tr>\n",
       "    <tr>\n",
       "      <th>1</th>\n",
       "      <td>1</td>\n",
       "      <td>34.086179</td>\n",
       "      <td>25.694309</td>\n",
       "      <td>29.464228</td>\n",
       "      <td>41.338211</td>\n",
       "      <td>28.140650</td>\n",
       "      <td>34.423577</td>\n",
       "      <td>23.484553</td>\n",
       "      <td>72.066667</td>\n",
       "      <td>3.783415</td>\n",
       "      <td>...</td>\n",
       "      <td>1003.533333</td>\n",
       "      <td>48.313821</td>\n",
       "      <td>2.884553</td>\n",
       "      <td>222.926016</td>\n",
       "      <td>19.246341</td>\n",
       "      <td>7.504065</td>\n",
       "      <td>1.658537</td>\n",
       "      <td>0.991870</td>\n",
       "      <td>5077.0</td>\n",
       "      <td>normal</td>\n",
       "    </tr>\n",
       "    <tr>\n",
       "      <th>2</th>\n",
       "      <td>2</td>\n",
       "      <td>34.573984</td>\n",
       "      <td>25.417886</td>\n",
       "      <td>29.526829</td>\n",
       "      <td>40.464228</td>\n",
       "      <td>26.560163</td>\n",
       "      <td>33.085366</td>\n",
       "      <td>22.580488</td>\n",
       "      <td>69.424390</td>\n",
       "      <td>3.065854</td>\n",
       "      <td>...</td>\n",
       "      <td>1005.731707</td>\n",
       "      <td>55.621138</td>\n",
       "      <td>4.242276</td>\n",
       "      <td>229.413008</td>\n",
       "      <td>19.802439</td>\n",
       "      <td>7.829268</td>\n",
       "      <td>1.910569</td>\n",
       "      <td>1.170732</td>\n",
       "      <td>7579.0</td>\n",
       "      <td>normal</td>\n",
       "    </tr>\n",
       "    <tr>\n",
       "      <th>3</th>\n",
       "      <td>3</td>\n",
       "      <td>33.020325</td>\n",
       "      <td>25.080488</td>\n",
       "      <td>28.727642</td>\n",
       "      <td>37.878049</td>\n",
       "      <td>26.193496</td>\n",
       "      <td>31.772358</td>\n",
       "      <td>21.752033</td>\n",
       "      <td>69.297561</td>\n",
       "      <td>6.025203</td>\n",
       "      <td>...</td>\n",
       "      <td>1003.359350</td>\n",
       "      <td>50.208130</td>\n",
       "      <td>2.991057</td>\n",
       "      <td>225.421951</td>\n",
       "      <td>19.480488</td>\n",
       "      <td>7.593496</td>\n",
       "      <td>1.300813</td>\n",
       "      <td>0.146341</td>\n",
       "      <td>13706.0</td>\n",
       "      <td>normal</td>\n",
       "    </tr>\n",
       "    <tr>\n",
       "      <th>4</th>\n",
       "      <td>4</td>\n",
       "      <td>30.660976</td>\n",
       "      <td>24.230894</td>\n",
       "      <td>26.774797</td>\n",
       "      <td>36.586992</td>\n",
       "      <td>24.263415</td>\n",
       "      <td>28.943902</td>\n",
       "      <td>24.214634</td>\n",
       "      <td>86.652033</td>\n",
       "      <td>23.336585</td>\n",
       "      <td>...</td>\n",
       "      <td>1009.995935</td>\n",
       "      <td>45.542276</td>\n",
       "      <td>3.886992</td>\n",
       "      <td>176.598374</td>\n",
       "      <td>15.261789</td>\n",
       "      <td>6.186992</td>\n",
       "      <td>0.967480</td>\n",
       "      <td>3.951220</td>\n",
       "      <td>82.0</td>\n",
       "      <td>normal</td>\n",
       "    </tr>\n",
       "  </tbody>\n",
       "</table>\n",
       "<p>5 rows × 26 columns</p>\n",
       "</div>"
      ],
      "text/plain": [
       "   serial    tempmax    tempmin       temp  feelslikemax  feelslikemin  \\\n",
       "0       0  34.053151  24.478082  28.709863     39.757808     25.317808   \n",
       "1       1  34.086179  25.694309  29.464228     41.338211     28.140650   \n",
       "2       2  34.573984  25.417886  29.526829     40.464228     26.560163   \n",
       "3       3  33.020325  25.080488  28.727642     37.878049     26.193496   \n",
       "4       4  30.660976  24.230894  26.774797     36.586992     24.263415   \n",
       "\n",
       "   feelslike        dew   humidity     precip  ...  sealevelpressure  \\\n",
       "0  32.306301  22.971233  73.508219   2.921726  ...       1007.911781   \n",
       "1  34.423577  23.484553  72.066667   3.783415  ...       1003.533333   \n",
       "2  33.085366  22.580488  69.424390   3.065854  ...       1005.731707   \n",
       "3  31.772358  21.752033  69.297561   6.025203  ...       1003.359350   \n",
       "4  28.943902  24.214634  86.652033  23.336585  ...       1009.995935   \n",
       "\n",
       "   cloudcover  visibility  solarradiation  solarenergy   uvindex  conditions  \\\n",
       "0   50.747945    3.789863      208.097808    17.973699  7.232877    2.558904   \n",
       "1   48.313821    2.884553      222.926016    19.246341  7.504065    1.658537   \n",
       "2   55.621138    4.242276      229.413008    19.802439  7.829268    1.910569   \n",
       "3   50.208130    2.991057      225.421951    19.480488  7.593496    1.300813   \n",
       "4   45.542276    3.886992      176.598374    15.261789  6.186992    0.967480   \n",
       "\n",
       "   stations    cases  labels  \n",
       "0  1.197260   4925.0  normal  \n",
       "1  0.991870   5077.0  normal  \n",
       "2  1.170732   7579.0  normal  \n",
       "3  0.146341  13706.0  normal  \n",
       "4  3.951220     82.0  normal  \n",
       "\n",
       "[5 rows x 26 columns]"
      ]
     },
     "execution_count": 2,
     "metadata": {},
     "output_type": "execute_result"
    }
   ],
   "source": [
    "raw_df = pd.read_csv('./Dataset/Dengue.csv')\n",
    "raw_df.head()"
   ]
  },
  {
   "cell_type": "markdown",
   "metadata": {},
   "source": [
    "### performing initial checks on dataset"
   ]
  },
  {
   "cell_type": "code",
   "execution_count": 3,
   "metadata": {},
   "outputs": [],
   "source": [
    "pd.options.display.max_columns=None"
   ]
  },
  {
   "cell_type": "code",
   "execution_count": 4,
   "metadata": {},
   "outputs": [
    {
     "data": {
      "text/html": [
       "<div>\n",
       "<style scoped>\n",
       "    .dataframe tbody tr th:only-of-type {\n",
       "        vertical-align: middle;\n",
       "    }\n",
       "\n",
       "    .dataframe tbody tr th {\n",
       "        vertical-align: top;\n",
       "    }\n",
       "\n",
       "    .dataframe thead th {\n",
       "        text-align: right;\n",
       "    }\n",
       "</style>\n",
       "<table border=\"1\" class=\"dataframe\">\n",
       "  <thead>\n",
       "    <tr style=\"text-align: right;\">\n",
       "      <th></th>\n",
       "      <th>serial</th>\n",
       "      <th>tempmax</th>\n",
       "      <th>tempmin</th>\n",
       "      <th>temp</th>\n",
       "      <th>feelslikemax</th>\n",
       "      <th>feelslikemin</th>\n",
       "      <th>feelslike</th>\n",
       "      <th>dew</th>\n",
       "      <th>humidity</th>\n",
       "      <th>precip</th>\n",
       "      <th>precipprob</th>\n",
       "      <th>precipcover</th>\n",
       "      <th>snow</th>\n",
       "      <th>snowdepth</th>\n",
       "      <th>windspeed</th>\n",
       "      <th>winddir</th>\n",
       "      <th>sealevelpressure</th>\n",
       "      <th>cloudcover</th>\n",
       "      <th>visibility</th>\n",
       "      <th>solarradiation</th>\n",
       "      <th>solarenergy</th>\n",
       "      <th>uvindex</th>\n",
       "      <th>conditions</th>\n",
       "      <th>stations</th>\n",
       "      <th>cases</th>\n",
       "      <th>labels</th>\n",
       "    </tr>\n",
       "  </thead>\n",
       "  <tbody>\n",
       "    <tr>\n",
       "      <th>count</th>\n",
       "      <td>602.000000</td>\n",
       "      <td>602.000000</td>\n",
       "      <td>602.000000</td>\n",
       "      <td>602.000000</td>\n",
       "      <td>602.000000</td>\n",
       "      <td>602.000000</td>\n",
       "      <td>602.000000</td>\n",
       "      <td>602.000000</td>\n",
       "      <td>602.000000</td>\n",
       "      <td>602.000000</td>\n",
       "      <td>602.000000</td>\n",
       "      <td>602.000000</td>\n",
       "      <td>602.0</td>\n",
       "      <td>602.0</td>\n",
       "      <td>602.000000</td>\n",
       "      <td>602.000000</td>\n",
       "      <td>602.000000</td>\n",
       "      <td>602.000000</td>\n",
       "      <td>602.000000</td>\n",
       "      <td>602.000000</td>\n",
       "      <td>602.000000</td>\n",
       "      <td>602.000000</td>\n",
       "      <td>602.000000</td>\n",
       "      <td>602.000000</td>\n",
       "      <td>602.000000</td>\n",
       "      <td>602</td>\n",
       "    </tr>\n",
       "    <tr>\n",
       "      <th>unique</th>\n",
       "      <td>NaN</td>\n",
       "      <td>NaN</td>\n",
       "      <td>NaN</td>\n",
       "      <td>NaN</td>\n",
       "      <td>NaN</td>\n",
       "      <td>NaN</td>\n",
       "      <td>NaN</td>\n",
       "      <td>NaN</td>\n",
       "      <td>NaN</td>\n",
       "      <td>NaN</td>\n",
       "      <td>NaN</td>\n",
       "      <td>NaN</td>\n",
       "      <td>NaN</td>\n",
       "      <td>NaN</td>\n",
       "      <td>NaN</td>\n",
       "      <td>NaN</td>\n",
       "      <td>NaN</td>\n",
       "      <td>NaN</td>\n",
       "      <td>NaN</td>\n",
       "      <td>NaN</td>\n",
       "      <td>NaN</td>\n",
       "      <td>NaN</td>\n",
       "      <td>NaN</td>\n",
       "      <td>NaN</td>\n",
       "      <td>NaN</td>\n",
       "      <td>1</td>\n",
       "    </tr>\n",
       "    <tr>\n",
       "      <th>top</th>\n",
       "      <td>NaN</td>\n",
       "      <td>NaN</td>\n",
       "      <td>NaN</td>\n",
       "      <td>NaN</td>\n",
       "      <td>NaN</td>\n",
       "      <td>NaN</td>\n",
       "      <td>NaN</td>\n",
       "      <td>NaN</td>\n",
       "      <td>NaN</td>\n",
       "      <td>NaN</td>\n",
       "      <td>NaN</td>\n",
       "      <td>NaN</td>\n",
       "      <td>NaN</td>\n",
       "      <td>NaN</td>\n",
       "      <td>NaN</td>\n",
       "      <td>NaN</td>\n",
       "      <td>NaN</td>\n",
       "      <td>NaN</td>\n",
       "      <td>NaN</td>\n",
       "      <td>NaN</td>\n",
       "      <td>NaN</td>\n",
       "      <td>NaN</td>\n",
       "      <td>NaN</td>\n",
       "      <td>NaN</td>\n",
       "      <td>NaN</td>\n",
       "      <td>normal</td>\n",
       "    </tr>\n",
       "    <tr>\n",
       "      <th>freq</th>\n",
       "      <td>NaN</td>\n",
       "      <td>NaN</td>\n",
       "      <td>NaN</td>\n",
       "      <td>NaN</td>\n",
       "      <td>NaN</td>\n",
       "      <td>NaN</td>\n",
       "      <td>NaN</td>\n",
       "      <td>NaN</td>\n",
       "      <td>NaN</td>\n",
       "      <td>NaN</td>\n",
       "      <td>NaN</td>\n",
       "      <td>NaN</td>\n",
       "      <td>NaN</td>\n",
       "      <td>NaN</td>\n",
       "      <td>NaN</td>\n",
       "      <td>NaN</td>\n",
       "      <td>NaN</td>\n",
       "      <td>NaN</td>\n",
       "      <td>NaN</td>\n",
       "      <td>NaN</td>\n",
       "      <td>NaN</td>\n",
       "      <td>NaN</td>\n",
       "      <td>NaN</td>\n",
       "      <td>NaN</td>\n",
       "      <td>NaN</td>\n",
       "      <td>602</td>\n",
       "    </tr>\n",
       "    <tr>\n",
       "      <th>mean</th>\n",
       "      <td>300.500000</td>\n",
       "      <td>31.918079</td>\n",
       "      <td>24.588318</td>\n",
       "      <td>27.813181</td>\n",
       "      <td>38.476069</td>\n",
       "      <td>25.613154</td>\n",
       "      <td>31.485111</td>\n",
       "      <td>23.984349</td>\n",
       "      <td>81.254786</td>\n",
       "      <td>13.120862</td>\n",
       "      <td>69.625588</td>\n",
       "      <td>9.034032</td>\n",
       "      <td>0.0</td>\n",
       "      <td>0.0</td>\n",
       "      <td>17.599554</td>\n",
       "      <td>191.498693</td>\n",
       "      <td>1004.690531</td>\n",
       "      <td>59.701192</td>\n",
       "      <td>3.632620</td>\n",
       "      <td>199.802695</td>\n",
       "      <td>17.251785</td>\n",
       "      <td>6.877674</td>\n",
       "      <td>1.827725</td>\n",
       "      <td>0.859734</td>\n",
       "      <td>8502.342193</td>\n",
       "      <td>NaN</td>\n",
       "    </tr>\n",
       "    <tr>\n",
       "      <th>std</th>\n",
       "      <td>173.926709</td>\n",
       "      <td>2.737215</td>\n",
       "      <td>2.727919</td>\n",
       "      <td>2.412416</td>\n",
       "      <td>4.776400</td>\n",
       "      <td>4.178797</td>\n",
       "      <td>4.672951</td>\n",
       "      <td>2.668014</td>\n",
       "      <td>9.406354</td>\n",
       "      <td>28.463365</td>\n",
       "      <td>45.539264</td>\n",
       "      <td>14.201016</td>\n",
       "      <td>0.0</td>\n",
       "      <td>0.0</td>\n",
       "      <td>8.980189</td>\n",
       "      <td>81.604668</td>\n",
       "      <td>41.364967</td>\n",
       "      <td>20.832639</td>\n",
       "      <td>1.890352</td>\n",
       "      <td>54.128192</td>\n",
       "      <td>4.676051</td>\n",
       "      <td>1.763928</td>\n",
       "      <td>1.237389</td>\n",
       "      <td>0.973575</td>\n",
       "      <td>6780.749627</td>\n",
       "      <td>NaN</td>\n",
       "    </tr>\n",
       "    <tr>\n",
       "      <th>min</th>\n",
       "      <td>0.000000</td>\n",
       "      <td>25.000000</td>\n",
       "      <td>12.740000</td>\n",
       "      <td>18.820000</td>\n",
       "      <td>25.000000</td>\n",
       "      <td>12.360000</td>\n",
       "      <td>18.626667</td>\n",
       "      <td>4.480000</td>\n",
       "      <td>40.833333</td>\n",
       "      <td>0.000000</td>\n",
       "      <td>0.000000</td>\n",
       "      <td>0.000000</td>\n",
       "      <td>0.0</td>\n",
       "      <td>0.0</td>\n",
       "      <td>3.600000</td>\n",
       "      <td>0.500000</td>\n",
       "      <td>0.000000</td>\n",
       "      <td>0.000000</td>\n",
       "      <td>0.800000</td>\n",
       "      <td>57.900000</td>\n",
       "      <td>5.000000</td>\n",
       "      <td>2.000000</td>\n",
       "      <td>0.000000</td>\n",
       "      <td>0.000000</td>\n",
       "      <td>52.000000</td>\n",
       "      <td>NaN</td>\n",
       "    </tr>\n",
       "    <tr>\n",
       "      <th>25%</th>\n",
       "      <td>150.250000</td>\n",
       "      <td>30.025000</td>\n",
       "      <td>23.200000</td>\n",
       "      <td>26.500000</td>\n",
       "      <td>35.600000</td>\n",
       "      <td>23.200000</td>\n",
       "      <td>28.100000</td>\n",
       "      <td>23.300000</td>\n",
       "      <td>75.800000</td>\n",
       "      <td>0.000000</td>\n",
       "      <td>0.000000</td>\n",
       "      <td>0.000000</td>\n",
       "      <td>0.0</td>\n",
       "      <td>0.0</td>\n",
       "      <td>11.200000</td>\n",
       "      <td>134.425000</td>\n",
       "      <td>1002.025000</td>\n",
       "      <td>47.400000</td>\n",
       "      <td>2.523780</td>\n",
       "      <td>160.350000</td>\n",
       "      <td>13.900000</td>\n",
       "      <td>6.000000</td>\n",
       "      <td>1.000000</td>\n",
       "      <td>0.000000</td>\n",
       "      <td>3017.750000</td>\n",
       "      <td>NaN</td>\n",
       "    </tr>\n",
       "    <tr>\n",
       "      <th>50%</th>\n",
       "      <td>300.500000</td>\n",
       "      <td>31.700000</td>\n",
       "      <td>25.000000</td>\n",
       "      <td>27.900000</td>\n",
       "      <td>38.400000</td>\n",
       "      <td>25.000000</td>\n",
       "      <td>31.500000</td>\n",
       "      <td>24.529268</td>\n",
       "      <td>82.800000</td>\n",
       "      <td>3.000000</td>\n",
       "      <td>100.000000</td>\n",
       "      <td>4.170000</td>\n",
       "      <td>0.0</td>\n",
       "      <td>0.0</td>\n",
       "      <td>15.589178</td>\n",
       "      <td>207.300000</td>\n",
       "      <td>1007.000000</td>\n",
       "      <td>63.700000</td>\n",
       "      <td>3.200000</td>\n",
       "      <td>205.750000</td>\n",
       "      <td>17.750000</td>\n",
       "      <td>7.000000</td>\n",
       "      <td>2.000000</td>\n",
       "      <td>1.000000</td>\n",
       "      <td>7490.000000</td>\n",
       "      <td>NaN</td>\n",
       "    </tr>\n",
       "    <tr>\n",
       "      <th>75%</th>\n",
       "      <td>450.750000</td>\n",
       "      <td>33.600000</td>\n",
       "      <td>26.500000</td>\n",
       "      <td>29.448171</td>\n",
       "      <td>41.900000</td>\n",
       "      <td>26.600000</td>\n",
       "      <td>34.875000</td>\n",
       "      <td>25.475000</td>\n",
       "      <td>88.175000</td>\n",
       "      <td>12.589000</td>\n",
       "      <td>100.000000</td>\n",
       "      <td>9.705508</td>\n",
       "      <td>0.0</td>\n",
       "      <td>0.0</td>\n",
       "      <td>22.775000</td>\n",
       "      <td>252.375000</td>\n",
       "      <td>1010.185772</td>\n",
       "      <td>73.200000</td>\n",
       "      <td>4.300000</td>\n",
       "      <td>238.800610</td>\n",
       "      <td>20.600610</td>\n",
       "      <td>8.000000</td>\n",
       "      <td>3.000000</td>\n",
       "      <td>1.000000</td>\n",
       "      <td>12702.500000</td>\n",
       "      <td>NaN</td>\n",
       "    </tr>\n",
       "    <tr>\n",
       "      <th>max</th>\n",
       "      <td>601.000000</td>\n",
       "      <td>41.200000</td>\n",
       "      <td>29.400000</td>\n",
       "      <td>33.300000</td>\n",
       "      <td>49.600000</td>\n",
       "      <td>37.900000</td>\n",
       "      <td>42.900000</td>\n",
       "      <td>28.100000</td>\n",
       "      <td>99.300000</td>\n",
       "      <td>302.000000</td>\n",
       "      <td>100.000000</td>\n",
       "      <td>83.330000</td>\n",
       "      <td>0.0</td>\n",
       "      <td>0.0</td>\n",
       "      <td>92.500000</td>\n",
       "      <td>359.200000</td>\n",
       "      <td>1020.000000</td>\n",
       "      <td>97.900000</td>\n",
       "      <td>24.033333</td>\n",
       "      <td>318.500000</td>\n",
       "      <td>27.700000</td>\n",
       "      <td>10.000000</td>\n",
       "      <td>4.000000</td>\n",
       "      <td>5.000000</td>\n",
       "      <td>24983.000000</td>\n",
       "      <td>NaN</td>\n",
       "    </tr>\n",
       "  </tbody>\n",
       "</table>\n",
       "</div>"
      ],
      "text/plain": [
       "            serial     tempmax     tempmin        temp  feelslikemax  \\\n",
       "count   602.000000  602.000000  602.000000  602.000000    602.000000   \n",
       "unique         NaN         NaN         NaN         NaN           NaN   \n",
       "top            NaN         NaN         NaN         NaN           NaN   \n",
       "freq           NaN         NaN         NaN         NaN           NaN   \n",
       "mean    300.500000   31.918079   24.588318   27.813181     38.476069   \n",
       "std     173.926709    2.737215    2.727919    2.412416      4.776400   \n",
       "min       0.000000   25.000000   12.740000   18.820000     25.000000   \n",
       "25%     150.250000   30.025000   23.200000   26.500000     35.600000   \n",
       "50%     300.500000   31.700000   25.000000   27.900000     38.400000   \n",
       "75%     450.750000   33.600000   26.500000   29.448171     41.900000   \n",
       "max     601.000000   41.200000   29.400000   33.300000     49.600000   \n",
       "\n",
       "        feelslikemin   feelslike         dew    humidity      precip  \\\n",
       "count     602.000000  602.000000  602.000000  602.000000  602.000000   \n",
       "unique           NaN         NaN         NaN         NaN         NaN   \n",
       "top              NaN         NaN         NaN         NaN         NaN   \n",
       "freq             NaN         NaN         NaN         NaN         NaN   \n",
       "mean       25.613154   31.485111   23.984349   81.254786   13.120862   \n",
       "std         4.178797    4.672951    2.668014    9.406354   28.463365   \n",
       "min        12.360000   18.626667    4.480000   40.833333    0.000000   \n",
       "25%        23.200000   28.100000   23.300000   75.800000    0.000000   \n",
       "50%        25.000000   31.500000   24.529268   82.800000    3.000000   \n",
       "75%        26.600000   34.875000   25.475000   88.175000   12.589000   \n",
       "max        37.900000   42.900000   28.100000   99.300000  302.000000   \n",
       "\n",
       "        precipprob  precipcover   snow  snowdepth   windspeed     winddir  \\\n",
       "count   602.000000   602.000000  602.0      602.0  602.000000  602.000000   \n",
       "unique         NaN          NaN    NaN        NaN         NaN         NaN   \n",
       "top            NaN          NaN    NaN        NaN         NaN         NaN   \n",
       "freq           NaN          NaN    NaN        NaN         NaN         NaN   \n",
       "mean     69.625588     9.034032    0.0        0.0   17.599554  191.498693   \n",
       "std      45.539264    14.201016    0.0        0.0    8.980189   81.604668   \n",
       "min       0.000000     0.000000    0.0        0.0    3.600000    0.500000   \n",
       "25%       0.000000     0.000000    0.0        0.0   11.200000  134.425000   \n",
       "50%     100.000000     4.170000    0.0        0.0   15.589178  207.300000   \n",
       "75%     100.000000     9.705508    0.0        0.0   22.775000  252.375000   \n",
       "max     100.000000    83.330000    0.0        0.0   92.500000  359.200000   \n",
       "\n",
       "        sealevelpressure  cloudcover  visibility  solarradiation  solarenergy  \\\n",
       "count         602.000000  602.000000  602.000000      602.000000   602.000000   \n",
       "unique               NaN         NaN         NaN             NaN          NaN   \n",
       "top                  NaN         NaN         NaN             NaN          NaN   \n",
       "freq                 NaN         NaN         NaN             NaN          NaN   \n",
       "mean         1004.690531   59.701192    3.632620      199.802695    17.251785   \n",
       "std            41.364967   20.832639    1.890352       54.128192     4.676051   \n",
       "min             0.000000    0.000000    0.800000       57.900000     5.000000   \n",
       "25%          1002.025000   47.400000    2.523780      160.350000    13.900000   \n",
       "50%          1007.000000   63.700000    3.200000      205.750000    17.750000   \n",
       "75%          1010.185772   73.200000    4.300000      238.800610    20.600610   \n",
       "max          1020.000000   97.900000   24.033333      318.500000    27.700000   \n",
       "\n",
       "           uvindex  conditions    stations         cases  labels  \n",
       "count   602.000000  602.000000  602.000000    602.000000     602  \n",
       "unique         NaN         NaN         NaN           NaN       1  \n",
       "top            NaN         NaN         NaN           NaN  normal  \n",
       "freq           NaN         NaN         NaN           NaN     602  \n",
       "mean      6.877674    1.827725    0.859734   8502.342193     NaN  \n",
       "std       1.763928    1.237389    0.973575   6780.749627     NaN  \n",
       "min       2.000000    0.000000    0.000000     52.000000     NaN  \n",
       "25%       6.000000    1.000000    0.000000   3017.750000     NaN  \n",
       "50%       7.000000    2.000000    1.000000   7490.000000     NaN  \n",
       "75%       8.000000    3.000000    1.000000  12702.500000     NaN  \n",
       "max      10.000000    4.000000    5.000000  24983.000000     NaN  "
      ]
     },
     "execution_count": 4,
     "metadata": {},
     "output_type": "execute_result"
    }
   ],
   "source": [
    "raw_df.describe(include='all')"
   ]
  },
  {
   "cell_type": "code",
   "execution_count": 5,
   "metadata": {},
   "outputs": [
    {
     "data": {
      "text/plain": [
       "count      602.000000\n",
       "mean      8502.342193\n",
       "std       6780.749627\n",
       "min         52.000000\n",
       "25%       3017.750000\n",
       "50%       7490.000000\n",
       "75%      12702.500000\n",
       "max      24983.000000\n",
       "Name: cases, dtype: float64"
      ]
     },
     "execution_count": 5,
     "metadata": {},
     "output_type": "execute_result"
    }
   ],
   "source": [
    "raw_df['cases'].describe()"
   ]
  },
  {
   "cell_type": "code",
   "execution_count": 6,
   "metadata": {},
   "outputs": [
    {
     "data": {
      "text/html": [
       "<div>\n",
       "<style scoped>\n",
       "    .dataframe tbody tr th:only-of-type {\n",
       "        vertical-align: middle;\n",
       "    }\n",
       "\n",
       "    .dataframe tbody tr th {\n",
       "        vertical-align: top;\n",
       "    }\n",
       "\n",
       "    .dataframe thead th {\n",
       "        text-align: right;\n",
       "    }\n",
       "</style>\n",
       "<table border=\"1\" class=\"dataframe\">\n",
       "  <thead>\n",
       "    <tr style=\"text-align: right;\">\n",
       "      <th></th>\n",
       "      <th>serial</th>\n",
       "      <th>tempmax</th>\n",
       "      <th>tempmin</th>\n",
       "      <th>temp</th>\n",
       "      <th>feelslikemax</th>\n",
       "      <th>feelslikemin</th>\n",
       "      <th>feelslike</th>\n",
       "      <th>dew</th>\n",
       "      <th>humidity</th>\n",
       "      <th>precip</th>\n",
       "      <th>precipprob</th>\n",
       "      <th>precipcover</th>\n",
       "      <th>snow</th>\n",
       "      <th>snowdepth</th>\n",
       "      <th>windspeed</th>\n",
       "      <th>winddir</th>\n",
       "      <th>sealevelpressure</th>\n",
       "      <th>cloudcover</th>\n",
       "      <th>visibility</th>\n",
       "      <th>solarradiation</th>\n",
       "      <th>solarenergy</th>\n",
       "      <th>uvindex</th>\n",
       "      <th>conditions</th>\n",
       "      <th>stations</th>\n",
       "      <th>cases</th>\n",
       "      <th>labels</th>\n",
       "    </tr>\n",
       "  </thead>\n",
       "  <tbody>\n",
       "    <tr>\n",
       "      <th>0</th>\n",
       "      <td>0</td>\n",
       "      <td>34.053151</td>\n",
       "      <td>24.478082</td>\n",
       "      <td>28.709863</td>\n",
       "      <td>39.757808</td>\n",
       "      <td>25.317808</td>\n",
       "      <td>32.306301</td>\n",
       "      <td>22.971233</td>\n",
       "      <td>73.508219</td>\n",
       "      <td>2.921726</td>\n",
       "      <td>44.657534</td>\n",
       "      <td>4.360932</td>\n",
       "      <td>0.0</td>\n",
       "      <td>0.0</td>\n",
       "      <td>15.678356</td>\n",
       "      <td>175.595342</td>\n",
       "      <td>1007.911781</td>\n",
       "      <td>50.747945</td>\n",
       "      <td>3.789863</td>\n",
       "      <td>208.097808</td>\n",
       "      <td>17.973699</td>\n",
       "      <td>7.232877</td>\n",
       "      <td>2.558904</td>\n",
       "      <td>1.197260</td>\n",
       "      <td>4925.0</td>\n",
       "      <td>normal</td>\n",
       "    </tr>\n",
       "    <tr>\n",
       "      <th>1</th>\n",
       "      <td>1</td>\n",
       "      <td>34.086179</td>\n",
       "      <td>25.694309</td>\n",
       "      <td>29.464228</td>\n",
       "      <td>41.338211</td>\n",
       "      <td>28.140650</td>\n",
       "      <td>34.423577</td>\n",
       "      <td>23.484553</td>\n",
       "      <td>72.066667</td>\n",
       "      <td>3.783415</td>\n",
       "      <td>39.837398</td>\n",
       "      <td>2.676748</td>\n",
       "      <td>0.0</td>\n",
       "      <td>0.0</td>\n",
       "      <td>14.574797</td>\n",
       "      <td>158.349593</td>\n",
       "      <td>1003.533333</td>\n",
       "      <td>48.313821</td>\n",
       "      <td>2.884553</td>\n",
       "      <td>222.926016</td>\n",
       "      <td>19.246341</td>\n",
       "      <td>7.504065</td>\n",
       "      <td>1.658537</td>\n",
       "      <td>0.991870</td>\n",
       "      <td>5077.0</td>\n",
       "      <td>normal</td>\n",
       "    </tr>\n",
       "    <tr>\n",
       "      <th>2</th>\n",
       "      <td>2</td>\n",
       "      <td>34.573984</td>\n",
       "      <td>25.417886</td>\n",
       "      <td>29.526829</td>\n",
       "      <td>40.464228</td>\n",
       "      <td>26.560163</td>\n",
       "      <td>33.085366</td>\n",
       "      <td>22.580488</td>\n",
       "      <td>69.424390</td>\n",
       "      <td>3.065854</td>\n",
       "      <td>33.333333</td>\n",
       "      <td>2.337805</td>\n",
       "      <td>0.0</td>\n",
       "      <td>0.0</td>\n",
       "      <td>14.978049</td>\n",
       "      <td>202.621138</td>\n",
       "      <td>1005.731707</td>\n",
       "      <td>55.621138</td>\n",
       "      <td>4.242276</td>\n",
       "      <td>229.413008</td>\n",
       "      <td>19.802439</td>\n",
       "      <td>7.829268</td>\n",
       "      <td>1.910569</td>\n",
       "      <td>1.170732</td>\n",
       "      <td>7579.0</td>\n",
       "      <td>normal</td>\n",
       "    </tr>\n",
       "    <tr>\n",
       "      <th>3</th>\n",
       "      <td>3</td>\n",
       "      <td>33.020325</td>\n",
       "      <td>25.080488</td>\n",
       "      <td>28.727642</td>\n",
       "      <td>37.878049</td>\n",
       "      <td>26.193496</td>\n",
       "      <td>31.772358</td>\n",
       "      <td>21.752033</td>\n",
       "      <td>69.297561</td>\n",
       "      <td>6.025203</td>\n",
       "      <td>37.398374</td>\n",
       "      <td>2.676667</td>\n",
       "      <td>0.0</td>\n",
       "      <td>0.0</td>\n",
       "      <td>16.504878</td>\n",
       "      <td>183.544715</td>\n",
       "      <td>1003.359350</td>\n",
       "      <td>50.208130</td>\n",
       "      <td>2.991057</td>\n",
       "      <td>225.421951</td>\n",
       "      <td>19.480488</td>\n",
       "      <td>7.593496</td>\n",
       "      <td>1.300813</td>\n",
       "      <td>0.146341</td>\n",
       "      <td>13706.0</td>\n",
       "      <td>normal</td>\n",
       "    </tr>\n",
       "    <tr>\n",
       "      <th>4</th>\n",
       "      <td>4</td>\n",
       "      <td>30.660976</td>\n",
       "      <td>24.230894</td>\n",
       "      <td>26.774797</td>\n",
       "      <td>36.586992</td>\n",
       "      <td>24.263415</td>\n",
       "      <td>28.943902</td>\n",
       "      <td>24.214634</td>\n",
       "      <td>86.652033</td>\n",
       "      <td>23.336585</td>\n",
       "      <td>96.747967</td>\n",
       "      <td>15.616992</td>\n",
       "      <td>0.0</td>\n",
       "      <td>0.0</td>\n",
       "      <td>19.546341</td>\n",
       "      <td>224.030081</td>\n",
       "      <td>1009.995935</td>\n",
       "      <td>45.542276</td>\n",
       "      <td>3.886992</td>\n",
       "      <td>176.598374</td>\n",
       "      <td>15.261789</td>\n",
       "      <td>6.186992</td>\n",
       "      <td>0.967480</td>\n",
       "      <td>3.951220</td>\n",
       "      <td>82.0</td>\n",
       "      <td>normal</td>\n",
       "    </tr>\n",
       "  </tbody>\n",
       "</table>\n",
       "</div>"
      ],
      "text/plain": [
       "   serial    tempmax    tempmin       temp  feelslikemax  feelslikemin  \\\n",
       "0       0  34.053151  24.478082  28.709863     39.757808     25.317808   \n",
       "1       1  34.086179  25.694309  29.464228     41.338211     28.140650   \n",
       "2       2  34.573984  25.417886  29.526829     40.464228     26.560163   \n",
       "3       3  33.020325  25.080488  28.727642     37.878049     26.193496   \n",
       "4       4  30.660976  24.230894  26.774797     36.586992     24.263415   \n",
       "\n",
       "   feelslike        dew   humidity     precip  precipprob  precipcover  snow  \\\n",
       "0  32.306301  22.971233  73.508219   2.921726   44.657534     4.360932   0.0   \n",
       "1  34.423577  23.484553  72.066667   3.783415   39.837398     2.676748   0.0   \n",
       "2  33.085366  22.580488  69.424390   3.065854   33.333333     2.337805   0.0   \n",
       "3  31.772358  21.752033  69.297561   6.025203   37.398374     2.676667   0.0   \n",
       "4  28.943902  24.214634  86.652033  23.336585   96.747967    15.616992   0.0   \n",
       "\n",
       "   snowdepth  windspeed     winddir  sealevelpressure  cloudcover  visibility  \\\n",
       "0        0.0  15.678356  175.595342       1007.911781   50.747945    3.789863   \n",
       "1        0.0  14.574797  158.349593       1003.533333   48.313821    2.884553   \n",
       "2        0.0  14.978049  202.621138       1005.731707   55.621138    4.242276   \n",
       "3        0.0  16.504878  183.544715       1003.359350   50.208130    2.991057   \n",
       "4        0.0  19.546341  224.030081       1009.995935   45.542276    3.886992   \n",
       "\n",
       "   solarradiation  solarenergy   uvindex  conditions  stations    cases  \\\n",
       "0      208.097808    17.973699  7.232877    2.558904  1.197260   4925.0   \n",
       "1      222.926016    19.246341  7.504065    1.658537  0.991870   5077.0   \n",
       "2      229.413008    19.802439  7.829268    1.910569  1.170732   7579.0   \n",
       "3      225.421951    19.480488  7.593496    1.300813  0.146341  13706.0   \n",
       "4      176.598374    15.261789  6.186992    0.967480  3.951220     82.0   \n",
       "\n",
       "   labels  \n",
       "0  normal  \n",
       "1  normal  \n",
       "2  normal  \n",
       "3  normal  \n",
       "4  normal  "
      ]
     },
     "execution_count": 6,
     "metadata": {},
     "output_type": "execute_result"
    }
   ],
   "source": [
    "raw_df.head()"
   ]
  },
  {
   "cell_type": "markdown",
   "metadata": {},
   "source": [
    "### Preparing the input data to neural network"
   ]
  },
  {
   "cell_type": "code",
   "execution_count": 7,
   "metadata": {},
   "outputs": [],
   "source": [
    "df = raw_df.copy()"
   ]
  },
  {
   "cell_type": "code",
   "execution_count": 8,
   "metadata": {},
   "outputs": [],
   "source": [
    "df.drop(columns=['serial', 'cases', 'labels', 'stations', 'snow', 'snowdepth'], inplace=True)"
   ]
  },
  {
   "cell_type": "code",
   "execution_count": 9,
   "metadata": {},
   "outputs": [
    {
     "data": {
      "text/html": [
       "<div>\n",
       "<style scoped>\n",
       "    .dataframe tbody tr th:only-of-type {\n",
       "        vertical-align: middle;\n",
       "    }\n",
       "\n",
       "    .dataframe tbody tr th {\n",
       "        vertical-align: top;\n",
       "    }\n",
       "\n",
       "    .dataframe thead th {\n",
       "        text-align: right;\n",
       "    }\n",
       "</style>\n",
       "<table border=\"1\" class=\"dataframe\">\n",
       "  <thead>\n",
       "    <tr style=\"text-align: right;\">\n",
       "      <th></th>\n",
       "      <th>tempmax</th>\n",
       "      <th>tempmin</th>\n",
       "      <th>temp</th>\n",
       "      <th>feelslikemax</th>\n",
       "      <th>feelslikemin</th>\n",
       "      <th>feelslike</th>\n",
       "      <th>dew</th>\n",
       "      <th>humidity</th>\n",
       "      <th>precip</th>\n",
       "      <th>precipprob</th>\n",
       "      <th>precipcover</th>\n",
       "      <th>windspeed</th>\n",
       "      <th>winddir</th>\n",
       "      <th>sealevelpressure</th>\n",
       "      <th>cloudcover</th>\n",
       "      <th>visibility</th>\n",
       "      <th>solarradiation</th>\n",
       "      <th>solarenergy</th>\n",
       "      <th>uvindex</th>\n",
       "      <th>conditions</th>\n",
       "    </tr>\n",
       "  </thead>\n",
       "  <tbody>\n",
       "    <tr>\n",
       "      <th>0</th>\n",
       "      <td>34.053151</td>\n",
       "      <td>24.478082</td>\n",
       "      <td>28.709863</td>\n",
       "      <td>39.757808</td>\n",
       "      <td>25.317808</td>\n",
       "      <td>32.306301</td>\n",
       "      <td>22.971233</td>\n",
       "      <td>73.508219</td>\n",
       "      <td>2.921726</td>\n",
       "      <td>44.657534</td>\n",
       "      <td>4.360932</td>\n",
       "      <td>15.678356</td>\n",
       "      <td>175.595342</td>\n",
       "      <td>1007.911781</td>\n",
       "      <td>50.747945</td>\n",
       "      <td>3.789863</td>\n",
       "      <td>208.097808</td>\n",
       "      <td>17.973699</td>\n",
       "      <td>7.232877</td>\n",
       "      <td>2.558904</td>\n",
       "    </tr>\n",
       "    <tr>\n",
       "      <th>1</th>\n",
       "      <td>34.086179</td>\n",
       "      <td>25.694309</td>\n",
       "      <td>29.464228</td>\n",
       "      <td>41.338211</td>\n",
       "      <td>28.140650</td>\n",
       "      <td>34.423577</td>\n",
       "      <td>23.484553</td>\n",
       "      <td>72.066667</td>\n",
       "      <td>3.783415</td>\n",
       "      <td>39.837398</td>\n",
       "      <td>2.676748</td>\n",
       "      <td>14.574797</td>\n",
       "      <td>158.349593</td>\n",
       "      <td>1003.533333</td>\n",
       "      <td>48.313821</td>\n",
       "      <td>2.884553</td>\n",
       "      <td>222.926016</td>\n",
       "      <td>19.246341</td>\n",
       "      <td>7.504065</td>\n",
       "      <td>1.658537</td>\n",
       "    </tr>\n",
       "    <tr>\n",
       "      <th>2</th>\n",
       "      <td>34.573984</td>\n",
       "      <td>25.417886</td>\n",
       "      <td>29.526829</td>\n",
       "      <td>40.464228</td>\n",
       "      <td>26.560163</td>\n",
       "      <td>33.085366</td>\n",
       "      <td>22.580488</td>\n",
       "      <td>69.424390</td>\n",
       "      <td>3.065854</td>\n",
       "      <td>33.333333</td>\n",
       "      <td>2.337805</td>\n",
       "      <td>14.978049</td>\n",
       "      <td>202.621138</td>\n",
       "      <td>1005.731707</td>\n",
       "      <td>55.621138</td>\n",
       "      <td>4.242276</td>\n",
       "      <td>229.413008</td>\n",
       "      <td>19.802439</td>\n",
       "      <td>7.829268</td>\n",
       "      <td>1.910569</td>\n",
       "    </tr>\n",
       "    <tr>\n",
       "      <th>3</th>\n",
       "      <td>33.020325</td>\n",
       "      <td>25.080488</td>\n",
       "      <td>28.727642</td>\n",
       "      <td>37.878049</td>\n",
       "      <td>26.193496</td>\n",
       "      <td>31.772358</td>\n",
       "      <td>21.752033</td>\n",
       "      <td>69.297561</td>\n",
       "      <td>6.025203</td>\n",
       "      <td>37.398374</td>\n",
       "      <td>2.676667</td>\n",
       "      <td>16.504878</td>\n",
       "      <td>183.544715</td>\n",
       "      <td>1003.359350</td>\n",
       "      <td>50.208130</td>\n",
       "      <td>2.991057</td>\n",
       "      <td>225.421951</td>\n",
       "      <td>19.480488</td>\n",
       "      <td>7.593496</td>\n",
       "      <td>1.300813</td>\n",
       "    </tr>\n",
       "    <tr>\n",
       "      <th>4</th>\n",
       "      <td>30.660976</td>\n",
       "      <td>24.230894</td>\n",
       "      <td>26.774797</td>\n",
       "      <td>36.586992</td>\n",
       "      <td>24.263415</td>\n",
       "      <td>28.943902</td>\n",
       "      <td>24.214634</td>\n",
       "      <td>86.652033</td>\n",
       "      <td>23.336585</td>\n",
       "      <td>96.747967</td>\n",
       "      <td>15.616992</td>\n",
       "      <td>19.546341</td>\n",
       "      <td>224.030081</td>\n",
       "      <td>1009.995935</td>\n",
       "      <td>45.542276</td>\n",
       "      <td>3.886992</td>\n",
       "      <td>176.598374</td>\n",
       "      <td>15.261789</td>\n",
       "      <td>6.186992</td>\n",
       "      <td>0.967480</td>\n",
       "    </tr>\n",
       "  </tbody>\n",
       "</table>\n",
       "</div>"
      ],
      "text/plain": [
       "     tempmax    tempmin       temp  feelslikemax  feelslikemin  feelslike  \\\n",
       "0  34.053151  24.478082  28.709863     39.757808     25.317808  32.306301   \n",
       "1  34.086179  25.694309  29.464228     41.338211     28.140650  34.423577   \n",
       "2  34.573984  25.417886  29.526829     40.464228     26.560163  33.085366   \n",
       "3  33.020325  25.080488  28.727642     37.878049     26.193496  31.772358   \n",
       "4  30.660976  24.230894  26.774797     36.586992     24.263415  28.943902   \n",
       "\n",
       "         dew   humidity     precip  precipprob  precipcover  windspeed  \\\n",
       "0  22.971233  73.508219   2.921726   44.657534     4.360932  15.678356   \n",
       "1  23.484553  72.066667   3.783415   39.837398     2.676748  14.574797   \n",
       "2  22.580488  69.424390   3.065854   33.333333     2.337805  14.978049   \n",
       "3  21.752033  69.297561   6.025203   37.398374     2.676667  16.504878   \n",
       "4  24.214634  86.652033  23.336585   96.747967    15.616992  19.546341   \n",
       "\n",
       "      winddir  sealevelpressure  cloudcover  visibility  solarradiation  \\\n",
       "0  175.595342       1007.911781   50.747945    3.789863      208.097808   \n",
       "1  158.349593       1003.533333   48.313821    2.884553      222.926016   \n",
       "2  202.621138       1005.731707   55.621138    4.242276      229.413008   \n",
       "3  183.544715       1003.359350   50.208130    2.991057      225.421951   \n",
       "4  224.030081       1009.995935   45.542276    3.886992      176.598374   \n",
       "\n",
       "   solarenergy   uvindex  conditions  \n",
       "0    17.973699  7.232877    2.558904  \n",
       "1    19.246341  7.504065    1.658537  \n",
       "2    19.802439  7.829268    1.910569  \n",
       "3    19.480488  7.593496    1.300813  \n",
       "4    15.261789  6.186992    0.967480  "
      ]
     },
     "execution_count": 9,
     "metadata": {},
     "output_type": "execute_result"
    }
   ],
   "source": [
    "df.head()"
   ]
  },
  {
   "cell_type": "code",
   "execution_count": 10,
   "metadata": {},
   "outputs": [],
   "source": [
    "X = np.array(df)\n",
    "Y_linear = np.array(raw_df['cases']).reshape(X.shape[0], 1)\n"
   ]
  },
  {
   "cell_type": "code",
   "execution_count": 11,
   "metadata": {},
   "outputs": [
    {
     "name": "stdout",
     "output_type": "stream",
     "text": [
      "(602, 20)\n",
      "(602, 1)\n"
     ]
    }
   ],
   "source": [
    "print(X.shape)\n",
    "print(Y_linear.shape)"
   ]
  },
  {
   "cell_type": "markdown",
   "metadata": {},
   "source": [
    "#### Spliting dataset into train  dev and test sets"
   ]
  },
  {
   "cell_type": "code",
   "execution_count": 12,
   "metadata": {},
   "outputs": [],
   "source": [
    "X_train, X_test, Y_train, Y_test = train_test_split(X, Y_linear, test_size=0.3, random_state=42)"
   ]
  },
  {
   "cell_type": "code",
   "execution_count": 13,
   "metadata": {},
   "outputs": [],
   "source": [
    "X_dev_, X_test, Y_dev, Y_test = train_test_split(X_test, Y_test, test_size=0.5, random_state=42)"
   ]
  },
  {
   "cell_type": "markdown",
   "metadata": {},
   "source": [
    "#### Normalizing inputs"
   ]
  },
  {
   "cell_type": "code",
   "execution_count": 14,
   "metadata": {},
   "outputs": [],
   "source": [
    "X_mean = np.mean(X_train,  axis=0, keepdims=True)\n",
    "X_dev = np.std(X_train, axis=0, keepdims=True)"
   ]
  },
  {
   "cell_type": "code",
   "execution_count": 15,
   "metadata": {},
   "outputs": [
    {
     "data": {
      "text/plain": [
       "array([[-0.3153459 ,  0.52442687, -0.14897567,  0.59901433,  0.11854252,\n",
       "         0.00627622,  0.89043439,  1.42371925,  1.13709605,  0.67620327,\n",
       "         0.21132408, -0.33143443, -0.86594917, -0.12238367,  0.8091319 ,\n",
       "        -0.53908097, -0.55545085, -0.56680802, -0.98836085,  0.18618026]])"
      ]
     },
     "execution_count": 15,
     "metadata": {},
     "output_type": "execute_result"
    }
   ],
   "source": [
    "X_train = (X_train-X_mean)/X_dev\n",
    "X_train[:1,:]"
   ]
  },
  {
   "cell_type": "code",
   "execution_count": 16,
   "metadata": {},
   "outputs": [
    {
     "data": {
      "text/plain": [
       "array([[ 0.65997314, -0.18924305,  0.05610572,  0.0723754 , -0.35780477,\n",
       "        -0.29046312, -0.37378142, -0.59574256, -0.4406535 ,  0.67620327,\n",
       "         0.77402431, -0.8191061 ,  1.66706419, -0.04326152,  0.57630207,\n",
       "        -0.83323967,  0.0950825 ,  0.08680913,  0.67140407,  1.8219068 ]])"
      ]
     },
     "execution_count": 16,
     "metadata": {},
     "output_type": "execute_result"
    }
   ],
   "source": [
    "X_development = (X_dev_-X_mean)/X_dev\n",
    "X_development[:1,:]"
   ]
  },
  {
   "cell_type": "code",
   "execution_count": 17,
   "metadata": {},
   "outputs": [
    {
     "data": {
      "text/plain": [
       "array([[-0.09027227, -0.26061004, -0.39507334, -0.05401794, -0.40543949,\n",
       "        -0.5660068 , -0.02261036,  0.3765909 , -0.22478435,  0.67620327,\n",
       "        -0.07036379, -0.61960405,  0.42484335, -0.00674361, -0.4595531 ,\n",
       "        -0.83323967,  0.90414919,  0.88801725,  0.67140407,  1.8219068 ]])"
      ]
     },
     "execution_count": 17,
     "metadata": {},
     "output_type": "execute_result"
    }
   ],
   "source": [
    "X_test = (X_test-X_mean)/X_dev\n",
    "X_test[:1,:]"
   ]
  },
  {
   "cell_type": "code",
   "execution_count": 18,
   "metadata": {},
   "outputs": [
    {
     "name": "stdout",
     "output_type": "stream",
     "text": [
      "(421, 20)\n",
      "(90, 20)\n",
      "(91, 20)\n"
     ]
    }
   ],
   "source": [
    "print(X_train.shape)\n",
    "print(X_dev_.shape)\n",
    "print(X_test.shape)\n"
   ]
  },
  {
   "cell_type": "markdown",
   "metadata": {},
   "source": [
    "#### Transposing the matrices so that each matrix column contains a single training example"
   ]
  },
  {
   "cell_type": "code",
   "execution_count": 19,
   "metadata": {},
   "outputs": [],
   "source": [
    "X_train = X_train.T\n",
    "X_development = X_development.T\n",
    "X_test = X_test.T"
   ]
  },
  {
   "cell_type": "code",
   "execution_count": 20,
   "metadata": {},
   "outputs": [],
   "source": [
    "Y_train = Y_train.T\n",
    "Y_dev = Y_dev.T\n",
    "Y_test = Y_test.T"
   ]
  },
  {
   "cell_type": "code",
   "execution_count": 21,
   "metadata": {},
   "outputs": [
    {
     "data": {
      "text/plain": [
       "(1, 90)"
      ]
     },
     "execution_count": 21,
     "metadata": {},
     "output_type": "execute_result"
    }
   ],
   "source": [
    "Y_dev.shape"
   ]
  },
  {
   "cell_type": "markdown",
   "metadata": {},
   "source": [
    "### Training a model to predict Actual output"
   ]
  },
  {
   "cell_type": "code",
   "execution_count": 22,
   "metadata": {},
   "outputs": [],
   "source": [
    "linear_model = NN(input_size=X_train.shape[0], architecture=[2,2,1], activations=['Leaky_ReLU', 'Leaky_ReLU', 'Linear'], loss=\"MSE\")"
   ]
  },
  {
   "cell_type": "code",
   "execution_count": 23,
   "metadata": {},
   "outputs": [],
   "source": [
    "def model_train(model, num_epochs=10000, learning_rate=0.1, eval_interval=1000,):\n",
    "    # Training loop\n",
    "    train_losses = []\n",
    "    dev_losses = []\n",
    "    for epoch in range(num_epochs):\n",
    "        train_loss = model.model_train(X_train, Y_train, learning_rate=learning_rate)\n",
    "        train_losses.append(train_loss[0])\n",
    "        \n",
    "        # Optionally evaluate on dev set\n",
    "        if epoch % eval_interval == 0:\n",
    "            dev_loss, pred = model.evaluate(X_development, Y_dev)\n",
    "            dev_losses.append(dev_loss[0])\n",
    "            print(f\"Epoch {epoch}: Train Loss = {train_loss}, Dev Loss = {dev_loss}\")\n",
    "\n",
    "    return train_losses, dev_losses\n"
   ]
  },
  {
   "cell_type": "code",
   "execution_count": 24,
   "metadata": {},
   "outputs": [
    {
     "name": "stdout",
     "output_type": "stream",
     "text": [
      "Epoch 0: Train Loss = [60927623.48849751], Dev Loss = [54009360.50946698]\n",
      "Epoch 1000: Train Loss = [60919516.67458432], Dev Loss = [54004506.91666666]\n",
      "Epoch 2000: Train Loss = [60919516.67458432], Dev Loss = [54004506.91666666]\n",
      "Epoch 3000: Train Loss = [60919516.67458432], Dev Loss = [54004506.91666666]\n",
      "Epoch 4000: Train Loss = [60919516.67458432], Dev Loss = [54004506.91666666]\n",
      "Epoch 5000: Train Loss = [60919516.67458432], Dev Loss = [54004506.91666666]\n",
      "Epoch 6000: Train Loss = [60919516.67458432], Dev Loss = [54004506.91666666]\n",
      "Epoch 7000: Train Loss = [60919516.67458432], Dev Loss = [54004506.91666666]\n",
      "Epoch 8000: Train Loss = [60919516.67458432], Dev Loss = [54004506.91666666]\n",
      "Epoch 9000: Train Loss = [60919516.67458432], Dev Loss = [54004506.91666666]\n",
      "Epoch 10000: Train Loss = [60919516.67458432], Dev Loss = [54004506.91666666]\n",
      "Epoch 11000: Train Loss = [60919516.67458432], Dev Loss = [54004506.91666666]\n",
      "Epoch 12000: Train Loss = [60919516.67458432], Dev Loss = [54004506.91666666]\n",
      "Epoch 13000: Train Loss = [60919516.67458432], Dev Loss = [54004506.91666666]\n",
      "Epoch 14000: Train Loss = [60919516.67458432], Dev Loss = [54004506.91666666]\n"
     ]
    }
   ],
   "source": [
    "train_loss, dev_loss = model_train(model=linear_model, learning_rate=1.5, num_epochs=15000)\n"
   ]
  },
  {
   "cell_type": "code",
   "execution_count": 25,
   "metadata": {},
   "outputs": [
    {
     "data": {
      "text/plain": [
       "[<matplotlib.lines.Line2D at 0x181e500b110>]"
      ]
     },
     "execution_count": 25,
     "metadata": {},
     "output_type": "execute_result"
    },
    {
     "data": {
      "image/png": "[encoded data removed]",
      "text/plain": [
       "<Figure size 640x480 with 1 Axes>"
      ]
     },
     "metadata": {},
     "output_type": "display_data"
    }
   ],
   "source": [
    "plt.plot(train_loss, c='r')"
   ]
  },
  {
   "cell_type": "code",
   "execution_count": 26,
   "metadata": {},
   "outputs": [
    {
     "data": {
      "text/plain": [
       "[<matplotlib.lines.Line2D at 0x181e71210a0>]"
      ]
     },
     "execution_count": 26,
     "metadata": {},
     "output_type": "execute_result"
    },
    {
     "data": {
      "image/png": "[encoded data removed]",
      "text/plain": [
       "<Figure size 640x480 with 1 Axes>"
      ]
     },
     "metadata": {},
     "output_type": "display_data"
    }
   ],
   "source": [
    "plt.plot(range(1,15001, 1000), dev_loss, c='b')"
   ]
  },
  {
   "cell_type": "code",
   "execution_count": 27,
   "metadata": {},
   "outputs": [],
   "source": [
    "loss, pred = linear_model.evaluate(X_test, Y_test)"
   ]
  },
  {
   "cell_type": "code",
   "execution_count": 28,
   "metadata": {},
   "outputs": [
    {
     "data": {
      "text/plain": [
       "array([[ 4885.49587276,  8198.92212804,  5741.87642097, 11457.24878458,\n",
       "         6018.76030106, 11254.01922096, 14730.87716308,  9494.07919971,\n",
       "        11747.61986745,  9624.56946645, 11369.5379972 ,  3586.54049175,\n",
       "        12351.95431158,  3236.03682341,  4691.96748876,  4045.13981076,\n",
       "        14842.85974541,  2954.7538003 ,  3769.96261832,    34.10445606,\n",
       "         9017.94701328,  5209.59843016,  6890.13490751,  7881.38819549,\n",
       "        12344.1273779 ,  8247.85453933,  4488.14777126,  2298.83927864,\n",
       "         2971.93967001, 16435.3527784 , 15319.09882323,  8076.85116555,\n",
       "         2498.24305046, 10137.9822528 ,  8937.57655981, 13974.83299644,\n",
       "         4992.91624259, 10635.15146434, 11833.09044403,   103.75118123,\n",
       "         6577.35398144,  4026.49462691,  6834.62169801,  3755.89492457,\n",
       "         1438.82878051,  2408.00432691, 11000.23121784, 13460.59067146,\n",
       "         9651.92374147, 14581.91915994, 10525.46258339,  3009.45799154,\n",
       "         7530.88961131,  7915.38444232,  6905.77937546,  4848.34665996,\n",
       "         7759.33203127, 12385.343123  , 18455.2729598 ,  5317.27732078,\n",
       "         1474.37031212, 16426.13899725,  8932.53966252, 10618.30651837,\n",
       "         2029.94017323, 10371.66471843,  8638.3881696 ,  4653.95895502,\n",
       "         9121.80403156, 18925.94816827,  1074.25374872,  4288.59334318,\n",
       "         2159.43195812, 12737.14592036,  1460.20003653,  3119.69102361,\n",
       "         2518.56151944,  9701.72981688,  9989.35966734,  1212.12698736,\n",
       "        18908.42976623,  1204.12673192,  6799.24891707,  4237.90887121,\n",
       "        10933.53472155, 11370.21077912,  4577.75677535,  6869.89234863,\n",
       "         8194.38926535, 16841.53294353,  6546.21251988]])"
      ]
     },
     "execution_count": 28,
     "metadata": {},
     "output_type": "execute_result"
    }
   ],
   "source": [
    "pred"
   ]
  },
  {
   "cell_type": "code",
   "execution_count": 29,
   "metadata": {},
   "outputs": [
    {
     "data": {
      "image/png": "[encoded data removed]",
      "text/plain": [
       "<Figure size 640x480 with 1 Axes>"
      ]
     },
     "metadata": {},
     "output_type": "display_data"
    }
   ],
   "source": [
    "data = Y_test.flatten()\n",
    "plt.figure(facecolor='lavender')\n",
    "plt.scatter(range(len(data)), data, c=\"skyblue\", alpha=0.6)  # Scatter plot\n",
    "plt.scatter(range(len(data)), pred.flatten(), c=\"m\", alpha=0.6)\n",
    "fig = plt.gca().set_facecolor('black')\n",
    "plt.grid()\n"
   ]
  },
  {
   "cell_type": "code",
   "execution_count": 30,
   "metadata": {},
   "outputs": [
    {
     "name": "stdout",
     "output_type": "stream",
     "text": [
      "dW3\n",
      "[[ 0.0046828 -1.       ]]\n",
      "db3\n",
      "[[0.03448052]]\n",
      "dW2\n",
      "[[ 0.01015531  0.0023467 ]\n",
      " [-1.         -0.46472145]]\n",
      "db2\n",
      "[[-0.0062015]\n",
      " [ 1.       ]]\n",
      "dW1\n",
      "[[ 1.         -1.         -1.         -1.         -1.         -1.\n",
      "  -1.         -1.         -1.         -1.         -1.         -1.\n",
      "  -1.         -1.         -1.          1.          1.          1.\n",
      "   1.         -1.        ]\n",
      " [-1.         -1.         -1.         -1.         -1.         -1.\n",
      "  -1.          1.          1.         -1.          1.          0.35196919\n",
      "  -1.         -0.52151976  0.19664697 -1.         -1.          0.0753228\n",
      "  -1.          0.96774438]]\n",
      "db1\n",
      "[[-1.]\n",
      " [-1.]]\n"
     ]
    }
   ],
   "source": [
    "for i in linear_model.grads:\n",
    "    print(i)\n",
    "    print(linear_model.grads[i])"
   ]
  },
  {
   "cell_type": "code",
   "execution_count": 31,
   "metadata": {},
   "outputs": [
    {
     "name": "stdout",
     "output_type": "stream",
     "text": [
      "W1\n",
      "[[  1.64988769   7.54888078   0.08495264   6.46996696   1.56225855\n",
      "   -9.15099791  11.14364709 -13.48314476   3.53280523  22.42263908\n",
      "   -4.36404634  -1.34225059  -0.85482643   0.13917469   0.95574646\n",
      "   -0.42837478   3.00421484  -1.16950437   2.44974582 -26.14904895]\n",
      " [  3.22275652   9.2627971    1.10180857  -2.77075622 -11.47799321\n",
      "    4.949183    -3.23192065  12.04606332  -1.75981556 -10.42961385\n",
      "   -1.00699552   3.222501    -0.04253113  -1.64551956  -5.76757113\n",
      "   -3.949608    13.57640438 -17.07204553  -1.79037406   2.0975425 ]]\n",
      "b1\n",
      "[[ 4.69995298]\n",
      " [15.48182481]]\n",
      "W2\n",
      "[[-12.42948132 -13.59938722]\n",
      " [ 17.27233774  18.3988686 ]]\n",
      "b2\n",
      "[[-11.91906309]\n",
      " [  5.67671514]]\n",
      "W3\n",
      "[[-17.98553527  16.30678677]]\n",
      "b3\n",
      "[[18.41270008]]\n"
     ]
    }
   ],
   "source": [
    "for i in linear_model.parameters:\n",
    "    print(i)\n",
    "    print(linear_model.parameters[i])"
   ]
  },
  {
   "cell_type": "markdown",
   "metadata": {},
   "source": [
    "### Training another model to predict scaled down output"
   ]
  },
  {
   "cell_type": "markdown",
   "metadata": {},
   "source": [
    "#### Scaling down our output"
   ]
  },
  {
   "cell_type": "code",
   "execution_count": 32,
   "metadata": {},
   "outputs": [
    {
     "name": "stdout",
     "output_type": "stream",
     "text": [
      "(1,)\n",
      "(1, 421)\n"
     ]
    }
   ],
   "source": [
    "Y_train_scaled = np.power(Y_train, 0.02)\n",
    "Y = np.arange(len(Y_train))\n",
    "print(Y.shape)\n",
    "print(Y_train.shape)\n",
    "# plt.scatter(Y, Y_l_train_)\n",
    "# Y_l_dev[0]\n"
   ]
  },
  {
   "cell_type": "code",
   "execution_count": 33,
   "metadata": {},
   "outputs": [],
   "source": [
    "Y_dev_scaled = np.power(Y_dev, 0.02)"
   ]
  },
  {
   "cell_type": "code",
   "execution_count": 34,
   "metadata": {},
   "outputs": [
    {
     "data": {
      "text/plain": [
       "(1, 90)"
      ]
     },
     "execution_count": 34,
     "metadata": {},
     "output_type": "execute_result"
    }
   ],
   "source": [
    "Y_dev_scaled.shape"
   ]
  },
  {
   "cell_type": "markdown",
   "metadata": {},
   "source": [
    "#### Creating Model"
   ]
  },
  {
   "cell_type": "code",
   "execution_count": 35,
   "metadata": {},
   "outputs": [],
   "source": [
    "linear_model_2 = NN(input_size=X_train.shape[0], architecture=[2,2,1], activations=['Leaky_ReLU', 'Leaky_ReLU', 'Linear'], loss=\"MSE\")\n"
   ]
  },
  {
   "cell_type": "code",
   "execution_count": 36,
   "metadata": {},
   "outputs": [],
   "source": [
    "def model_train_scaled (model, num_epochs=10000, learning_rate=0.1, eval_interval=1000,):\n",
    "    # Training loop\n",
    "    train_losses = []\n",
    "    dev_losses = []\n",
    "    for epoch in range(num_epochs):\n",
    "        train_loss = model.model_train(X_train, Y_train_scaled, learning_rate=learning_rate)\n",
    "        train_losses.append(train_loss[0])\n",
    "        \n",
    "        # Optionally evaluate on dev set\n",
    "        if epoch % eval_interval == 0:\n",
    "            dev_loss, pred = model.evaluate(X_development, Y_dev_scaled)\n",
    "            dev_losses.append(dev_loss[0])\n",
    "            print(f\"Epoch {epoch}: Train Loss = {train_loss}, Dev Loss = {dev_loss}\")\n",
    "\n",
    "    return train_losses, dev_losses\n"
   ]
  },
  {
   "cell_type": "code",
   "execution_count": 37,
   "metadata": {},
   "outputs": [
    {
     "name": "stdout",
     "output_type": "stream",
     "text": [
      "Epoch 0: Train Loss = [0.66996502], Dev Loss = [0.6648407]\n"
     ]
    },
    {
     "name": "stdout",
     "output_type": "stream",
     "text": [
      "Epoch 1000: Train Loss = [0.65642469], Dev Loss = [0.65141086]\n",
      "Epoch 2000: Train Loss = [0.65139376], Dev Loss = [0.64675807]\n",
      "Epoch 3000: Train Loss = [0.64825343], Dev Loss = [0.64390264]\n",
      "Epoch 4000: Train Loss = [0.64597232], Dev Loss = [0.64174149]\n",
      "Epoch 5000: Train Loss = [0.64415762], Dev Loss = [0.64001571]\n",
      "Epoch 6000: Train Loss = [0.6426348], Dev Loss = [0.63860759]\n",
      "Epoch 7000: Train Loss = [0.64135601], Dev Loss = [0.63741079]\n",
      "Epoch 8000: Train Loss = [0.64026049], Dev Loss = [0.63637277]\n",
      "Epoch 9000: Train Loss = [0.63930048], Dev Loss = [0.63546172]\n",
      "Epoch 10000: Train Loss = [0.63843392], Dev Loss = [0.63465035]\n",
      "Epoch 11000: Train Loss = [0.63764469], Dev Loss = [0.63391847]\n",
      "Epoch 12000: Train Loss = [0.63691162], Dev Loss = [0.63325792]\n",
      "Epoch 13000: Train Loss = [0.63622788], Dev Loss = [0.63265218]\n",
      "Epoch 14000: Train Loss = [0.63560185], Dev Loss = [0.63209339]\n"
     ]
    }
   ],
   "source": [
    "train_loss, dev_loss = model_train_scaled(model=linear_model_2, learning_rate=0.1, num_epochs=15000)\n"
   ]
  },
  {
   "cell_type": "code",
   "execution_count": 38,
   "metadata": {},
   "outputs": [
    {
     "data": {
      "text/plain": [
       "[<matplotlib.lines.Line2D at 0x181e7636ba0>]"
      ]
     },
     "execution_count": 38,
     "metadata": {},
     "output_type": "execute_result"
    },
    {
     "data": {
      "image/png": "[encoded data removed]",
      "text/plain": [
       "<Figure size 640x480 with 1 Axes>"
      ]
     },
     "metadata": {},
     "output_type": "display_data"
    }
   ],
   "source": [
    "plt.plot(train_loss, c='r')\n",
    "plt.plot(range(1,15001, 1000), dev_loss, c='b')\n"
   ]
  },
  {
   "cell_type": "markdown",
   "metadata": {},
   "source": [
    "#### Evaluating the model"
   ]
  },
  {
   "cell_type": "code",
   "execution_count": 39,
   "metadata": {},
   "outputs": [],
   "source": [
    "Y_test_scaled = np.power(Y_test, 0.02)"
   ]
  },
  {
   "cell_type": "code",
   "execution_count": 40,
   "metadata": {},
   "outputs": [],
   "source": [
    "loss, pred = linear_model_2.evaluate(X_test, Y_test_scaled)"
   ]
  },
  {
   "cell_type": "code",
   "execution_count": 41,
   "metadata": {},
   "outputs": [
    {
     "data": {
      "text/plain": [
       "array([[ 0.56904903,  0.07184948, -2.02543099,  0.05436602,  0.03287429,\n",
       "         0.06914805,  0.04282443,  0.03156799,  0.05109986,  0.06326508,\n",
       "         0.06888331,  0.32978894,  0.07113889, -0.64552578, -1.2703936 ,\n",
       "         0.12197012,  0.06238816, -0.8123999 , -0.62609341, -2.0971507 ,\n",
       "         0.07085702, -1.33984185,  0.21408078,  0.06254682,  0.05466272,\n",
       "         0.0492543 ,  0.35919729,  0.03308941,  0.74209273,  0.04574206,\n",
       "         0.03813388,  0.02847303,  0.0415506 , -0.9277489 ,  0.06421371,\n",
       "         0.10871881,  0.52126971,  0.03211371,  0.0315355 ,  0.30745296,\n",
       "         0.05876137,  0.05421794, -0.48740519,  0.73099726, -1.4821907 ,\n",
       "         0.80644527,  0.07090692,  0.02244484,  0.03654067,  0.03794533,\n",
       "         0.0580304 ,  0.0409719 , -0.94430561,  0.06264166,  0.07279853,\n",
       "        -0.35115031,  0.0365233 ,  0.05060354,  0.03316553,  0.26658429,\n",
       "        -1.51961034,  0.04983909,  0.36828168,  0.06009621,  1.06399855,\n",
       "        -0.09095493, -0.59915231,  0.39828405,  0.07138159,  0.02875632,\n",
       "         0.04339091,  0.0361357 , -0.73039715,  0.02321476, -2.26606573,\n",
       "         0.03581171,  0.04820138,  0.0700213 ,  0.04606252, -0.36086565,\n",
       "         0.05325635, -2.22802609,  0.02770247,  0.32442446,  0.04574581,\n",
       "         0.06739826,  0.04508831, -0.28714978, -0.97334026,  0.03879576,\n",
       "        -1.54158305]])"
      ]
     },
     "execution_count": 41,
     "metadata": {},
     "output_type": "execute_result"
    }
   ],
   "source": [
    "pred"
   ]
  },
  {
   "cell_type": "code",
   "execution_count": 42,
   "metadata": {},
   "outputs": [
    {
     "data": {
      "image/png": "[encoded data removed]",
      "text/plain": [
       "<Figure size 640x480 with 1 Axes>"
      ]
     },
     "metadata": {},
     "output_type": "display_data"
    }
   ],
   "source": [
    "data = Y_test_scaled.flatten()\n",
    "plt.figure(facecolor='lavender')\n",
    "plt.scatter(range(len(data)), data, c=\"skyblue\", alpha=0.6)  # Scatter plot\n",
    "plt.scatter(range(len(data)), pred.flatten(), c=\"m\", alpha=0.6)\n",
    "fig = plt.gca().set_facecolor('black')\n",
    "plt.grid()\n"
   ]
  },
  {
   "cell_type": "code",
   "execution_count": 43,
   "metadata": {},
   "outputs": [
    {
     "name": "stdout",
     "output_type": "stream",
     "text": [
      "dW3\n",
      "[[ 0.0046828 -1.       ]]\n",
      "db3\n",
      "[[0.03448052]]\n",
      "dW2\n",
      "[[ 0.01015531  0.0023467 ]\n",
      " [-1.         -0.46472145]]\n",
      "db2\n",
      "[[-0.0062015]\n",
      " [ 1.       ]]\n",
      "dW1\n",
      "[[ 1.         -1.         -1.         -1.         -1.         -1.\n",
      "  -1.         -1.         -1.         -1.         -1.         -1.\n",
      "  -1.         -1.         -1.          1.          1.          1.\n",
      "   1.         -1.        ]\n",
      " [-1.         -1.         -1.         -1.         -1.         -1.\n",
      "  -1.          1.          1.         -1.          1.          0.35196919\n",
      "  -1.         -0.52151976  0.19664697 -1.         -1.          0.0753228\n",
      "  -1.          0.96774438]]\n",
      "db1\n",
      "[[-1.]\n",
      " [-1.]]\n"
     ]
    }
   ],
   "source": [
    "for i in linear_model_2.grads:\n",
    "    print(i)\n",
    "    print(linear_model.grads[i])"
   ]
  },
  {
   "cell_type": "code",
   "execution_count": 44,
   "metadata": {},
   "outputs": [
    {
     "name": "stdout",
     "output_type": "stream",
     "text": [
      "W1\n",
      "[[  1.64988769   7.54888078   0.08495264   6.46996696   1.56225855\n",
      "   -9.15099791  11.14364709 -13.48314476   3.53280523  22.42263908\n",
      "   -4.36404634  -1.34225059  -0.85482643   0.13917469   0.95574646\n",
      "   -0.42837478   3.00421484  -1.16950437   2.44974582 -26.14904895]\n",
      " [  3.22275652   9.2627971    1.10180857  -2.77075622 -11.47799321\n",
      "    4.949183    -3.23192065  12.04606332  -1.75981556 -10.42961385\n",
      "   -1.00699552   3.222501    -0.04253113  -1.64551956  -5.76757113\n",
      "   -3.949608    13.57640438 -17.07204553  -1.79037406   2.0975425 ]]\n",
      "b1\n",
      "[[ 4.69995298]\n",
      " [15.48182481]]\n",
      "W2\n",
      "[[-12.42948132 -13.59938722]\n",
      " [ 17.27233774  18.3988686 ]]\n",
      "b2\n",
      "[[-11.91906309]\n",
      " [  5.67671514]]\n",
      "W3\n",
      "[[-17.98553527  16.30678677]]\n",
      "b3\n",
      "[[18.41270008]]\n"
     ]
    }
   ],
   "source": [
    "for i in linear_model_2.parameters:\n",
    "    print(i)\n",
    "    print(linear_model.parameters[i])"
   ]
  },
  {
   "cell_type": "markdown",
   "metadata": {},
   "source": [
    "#### Training a simple 1 neuron linear regressor"
   ]
  },
  {
   "cell_type": "code",
   "execution_count": 45,
   "metadata": {},
   "outputs": [],
   "source": [
    "linear_regressor = NN(input_size=X_train.shape[0], architecture=[1], activations=['Linear'], loss=\"MSE\")\n"
   ]
  },
  {
   "cell_type": "code",
   "execution_count": 55,
   "metadata": {},
   "outputs": [
    {
     "name": "stdout",
     "output_type": "stream",
     "text": [
      "Epoch 0: Train Loss = [0.43985642], Dev Loss = [0.44715498]\n",
      "Epoch 1000: Train Loss = [0.43985628], Dev Loss = [0.4471549]\n",
      "Epoch 2000: Train Loss = [0.43985614], Dev Loss = [0.44715482]\n",
      "Epoch 3000: Train Loss = [0.43985601], Dev Loss = [0.44715475]\n",
      "Epoch 4000: Train Loss = [0.43985588], Dev Loss = [0.44715468]\n",
      "Epoch 5000: Train Loss = [0.43985575], Dev Loss = [0.44715461]\n",
      "Epoch 6000: Train Loss = [0.43985563], Dev Loss = [0.44715455]\n",
      "Epoch 7000: Train Loss = [0.43985551], Dev Loss = [0.44715448]\n",
      "Epoch 8000: Train Loss = [0.4398554], Dev Loss = [0.44715442]\n",
      "Epoch 9000: Train Loss = [0.43985529], Dev Loss = [0.44715436]\n",
      "Epoch 10000: Train Loss = [0.43985518], Dev Loss = [0.4471543]\n",
      "Epoch 11000: Train Loss = [0.43985507], Dev Loss = [0.44715424]\n",
      "Epoch 12000: Train Loss = [0.43985496], Dev Loss = [0.44715418]\n",
      "Epoch 13000: Train Loss = [0.43985486], Dev Loss = [0.44715412]\n",
      "Epoch 14000: Train Loss = [0.43985476], Dev Loss = [0.44715407]\n"
     ]
    }
   ],
   "source": [
    "train_loss, dev_loss = model_train_scaled(model=linear_regressor, learning_rate=0.001, num_epochs=15000)\n"
   ]
  },
  {
   "cell_type": "code",
   "execution_count": 56,
   "metadata": {},
   "outputs": [
    {
     "data": {
      "text/plain": [
       "[<matplotlib.lines.Line2D at 0x181e774e3c0>]"
      ]
     },
     "execution_count": 56,
     "metadata": {},
     "output_type": "execute_result"
    },
    {
     "data": {
      "image/png": "[encoded data removed]",
      "text/plain": [
       "<Figure size 640x480 with 1 Axes>"
      ]
     },
     "metadata": {},
     "output_type": "display_data"
    }
   ],
   "source": [
    "plt.plot(train_loss, c='r')\n",
    "plt.plot(range(1,15001, 1000), dev_loss, c='b')\n"
   ]
  },
  {
   "cell_type": "code",
   "execution_count": 57,
   "metadata": {},
   "outputs": [],
   "source": [
    "loss, pred = linear_regressor.evaluate(X_test, Y_test_scaled)"
   ]
  },
  {
   "cell_type": "code",
   "execution_count": 58,
   "metadata": {},
   "outputs": [
    {
     "data": {
      "text/plain": [
       "array([0.45959822])"
      ]
     },
     "execution_count": 58,
     "metadata": {},
     "output_type": "execute_result"
    }
   ],
   "source": [
    "loss"
   ]
  },
  {
   "cell_type": "code",
   "execution_count": 59,
   "metadata": {},
   "outputs": [
    {
     "data": {
      "image/png": "[encoded data removed]",
      "text/plain": [
       "<Figure size 640x480 with 1 Axes>"
      ]
     },
     "metadata": {},
     "output_type": "display_data"
    }
   ],
   "source": [
    "data = Y_test_scaled.flatten()\n",
    "plt.figure(facecolor='lavender')\n",
    "plt.scatter(range(len(data)), data, c=\"skyblue\", alpha=0.6)  # Scatter plot\n",
    "plt.scatter(range(len(data)), pred.flatten(), c=\"m\", alpha=0.6)\n",
    "fig = plt.gca().set_facecolor('black')\n",
    "plt.grid()\n"
   ]
  },
  {
   "cell_type": "code",
   "execution_count": 60,
   "metadata": {},
   "outputs": [
    {
     "name": "stdout",
     "output_type": "stream",
     "text": [
      "dW1\n",
      "[[-1.65050700e-03 -1.91140921e-03 -2.09670055e-03 -1.66978386e-03\n",
      "  -1.76405337e-03 -1.92868052e-03 -1.16257231e-03  8.23191650e-04\n",
      "  -6.40031541e-04 -2.69623740e-06  6.04229801e-04 -1.38806783e-03\n",
      "  -1.44431598e-03  8.59423025e-04  3.88858907e-04 -6.45128823e-04\n",
      "  -7.02314675e-04 -6.99461822e-04 -4.29784938e-04  1.51576975e-04]]\n",
      "db1\n",
      "[[-0.00234829]]\n"
     ]
    }
   ],
   "source": [
    "for i in linear_regressor.grads:\n",
    "    print(i)\n",
    "    print(linear_regressor.grads[i])"
   ]
  },
  {
   "cell_type": "code",
   "execution_count": 61,
   "metadata": {},
   "outputs": [
    {
     "name": "stdout",
     "output_type": "stream",
     "text": [
      "W1\n",
      "[[ 0.10123342 -0.58440644 -0.27008691 -0.19477169 -0.04342227  0.31307208\n",
      "  -0.18081045  0.28719603 -0.48468321  0.02035649  0.28552997 -0.00927352\n",
      "  -0.40901369  0.36259192  0.29285437 -0.22125384 -0.22020336 -0.14588211\n",
      "   0.17509676 -0.26574724]]\n",
      "b1\n",
      "[[0.19351518]]\n"
     ]
    }
   ],
   "source": [
    "for i in linear_regressor.parameters:\n",
    "    print(i)\n",
    "    print(linear_regressor.parameters[i])"
   ]
  },
  {
   "cell_type": "code",
   "execution_count": null,
   "metadata": {},
   "outputs": [],
   "source": []
  },
  {
   "cell_type": "code",
   "execution_count": null,
   "metadata": {},
   "outputs": [],
   "source": []
  }
 ],
 "metadata": {
  "kernelspec": {
   "display_name": ".venv",
   "language": "python",
   "name": "python3"
  },
  "language_info": {
   "codemirror_mode": {
    "name": "ipython",
    "version": 3
   },
   "file_extension": ".py",
   "mimetype": "text/x-python",
   "name": "python",
   "nbconvert_exporter": "python",
   "pygments_lexer": "ipython3",
   "version": "3.12.8"
  }
 },
 "nbformat": 4,
 "nbformat_minor": 2
}
