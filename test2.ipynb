{
 "cells": [
  {
   "cell_type": "markdown",
   "metadata": {},
   "source": [
    "## Importing libraries"
   ]
  },
  {
   "cell_type": "code",
   "execution_count": 1,
   "metadata": {},
   "outputs": [],
   "source": [
    "import pandas as pd\n",
    "import numpy as np\n",
    "from sklearn.model_selection import train_test_split\n",
    "import matplotlib.pyplot as plt\n",
    "from neural_networks import NeuralNetwork as NN\n"
   ]
  },
  {
   "cell_type": "markdown",
   "metadata": {},
   "source": [
    "### Importing dataset"
   ]
  },
  {
   "cell_type": "code",
   "execution_count": 2,
   "metadata": {},
   "outputs": [
    {
     "data": {
      "text/html": [
       "<div>\n",
       "<style scoped>\n",
       "    .dataframe tbody tr th:only-of-type {\n",
       "        vertical-align: middle;\n",
       "    }\n",
       "\n",
       "    .dataframe tbody tr th {\n",
       "        vertical-align: top;\n",
       "    }\n",
       "\n",
       "    .dataframe thead th {\n",
       "        text-align: right;\n",
       "    }\n",
       "</style>\n",
       "<table border=\"1\" class=\"dataframe\">\n",
       "  <thead>\n",
       "    <tr style=\"text-align: right;\">\n",
       "      <th></th>\n",
       "      <th>serial</th>\n",
       "      <th>tempmax</th>\n",
       "      <th>tempmin</th>\n",
       "      <th>temp</th>\n",
       "      <th>feelslikemax</th>\n",
       "      <th>feelslikemin</th>\n",
       "      <th>feelslike</th>\n",
       "      <th>dew</th>\n",
       "      <th>humidity</th>\n",
       "      <th>precip</th>\n",
       "      <th>...</th>\n",
       "      <th>sealevelpressure</th>\n",
       "      <th>cloudcover</th>\n",
       "      <th>visibility</th>\n",
       "      <th>solarradiation</th>\n",
       "      <th>solarenergy</th>\n",
       "      <th>uvindex</th>\n",
       "      <th>conditions</th>\n",
       "      <th>stations</th>\n",
       "      <th>cases</th>\n",
       "      <th>labels</th>\n",
       "    </tr>\n",
       "  </thead>\n",
       "  <tbody>\n",
       "    <tr>\n",
       "      <th>0</th>\n",
       "      <td>0</td>\n",
       "      <td>34.053151</td>\n",
       "      <td>24.478082</td>\n",
       "      <td>28.709863</td>\n",
       "      <td>39.757808</td>\n",
       "      <td>25.317808</td>\n",
       "      <td>32.306301</td>\n",
       "      <td>22.971233</td>\n",
       "      <td>73.508219</td>\n",
       "      <td>2.921726</td>\n",
       "      <td>...</td>\n",
       "      <td>1007.911781</td>\n",
       "      <td>50.747945</td>\n",
       "      <td>3.789863</td>\n",
       "      <td>208.097808</td>\n",
       "      <td>17.973699</td>\n",
       "      <td>7.232877</td>\n",
       "      <td>2.558904</td>\n",
       "      <td>1.197260</td>\n",
       "      <td>4925.0</td>\n",
       "      <td>normal</td>\n",
       "    </tr>\n",
       "    <tr>\n",
       "      <th>1</th>\n",
       "      <td>1</td>\n",
       "      <td>34.086179</td>\n",
       "      <td>25.694309</td>\n",
       "      <td>29.464228</td>\n",
       "      <td>41.338211</td>\n",
       "      <td>28.140650</td>\n",
       "      <td>34.423577</td>\n",
       "      <td>23.484553</td>\n",
       "      <td>72.066667</td>\n",
       "      <td>3.783415</td>\n",
       "      <td>...</td>\n",
       "      <td>1003.533333</td>\n",
       "      <td>48.313821</td>\n",
       "      <td>2.884553</td>\n",
       "      <td>222.926016</td>\n",
       "      <td>19.246341</td>\n",
       "      <td>7.504065</td>\n",
       "      <td>1.658537</td>\n",
       "      <td>0.991870</td>\n",
       "      <td>5077.0</td>\n",
       "      <td>normal</td>\n",
       "    </tr>\n",
       "    <tr>\n",
       "      <th>2</th>\n",
       "      <td>2</td>\n",
       "      <td>34.573984</td>\n",
       "      <td>25.417886</td>\n",
       "      <td>29.526829</td>\n",
       "      <td>40.464228</td>\n",
       "      <td>26.560163</td>\n",
       "      <td>33.085366</td>\n",
       "      <td>22.580488</td>\n",
       "      <td>69.424390</td>\n",
       "      <td>3.065854</td>\n",
       "      <td>...</td>\n",
       "      <td>1005.731707</td>\n",
       "      <td>55.621138</td>\n",
       "      <td>4.242276</td>\n",
       "      <td>229.413008</td>\n",
       "      <td>19.802439</td>\n",
       "      <td>7.829268</td>\n",
       "      <td>1.910569</td>\n",
       "      <td>1.170732</td>\n",
       "      <td>7579.0</td>\n",
       "      <td>normal</td>\n",
       "    </tr>\n",
       "    <tr>\n",
       "      <th>3</th>\n",
       "      <td>3</td>\n",
       "      <td>33.020325</td>\n",
       "      <td>25.080488</td>\n",
       "      <td>28.727642</td>\n",
       "      <td>37.878049</td>\n",
       "      <td>26.193496</td>\n",
       "      <td>31.772358</td>\n",
       "      <td>21.752033</td>\n",
       "      <td>69.297561</td>\n",
       "      <td>6.025203</td>\n",
       "      <td>...</td>\n",
       "      <td>1003.359350</td>\n",
       "      <td>50.208130</td>\n",
       "      <td>2.991057</td>\n",
       "      <td>225.421951</td>\n",
       "      <td>19.480488</td>\n",
       "      <td>7.593496</td>\n",
       "      <td>1.300813</td>\n",
       "      <td>0.146341</td>\n",
       "      <td>13706.0</td>\n",
       "      <td>normal</td>\n",
       "    </tr>\n",
       "    <tr>\n",
       "      <th>4</th>\n",
       "      <td>4</td>\n",
       "      <td>30.660976</td>\n",
       "      <td>24.230894</td>\n",
       "      <td>26.774797</td>\n",
       "      <td>36.586992</td>\n",
       "      <td>24.263415</td>\n",
       "      <td>28.943902</td>\n",
       "      <td>24.214634</td>\n",
       "      <td>86.652033</td>\n",
       "      <td>23.336585</td>\n",
       "      <td>...</td>\n",
       "      <td>1009.995935</td>\n",
       "      <td>45.542276</td>\n",
       "      <td>3.886992</td>\n",
       "      <td>176.598374</td>\n",
       "      <td>15.261789</td>\n",
       "      <td>6.186992</td>\n",
       "      <td>0.967480</td>\n",
       "      <td>3.951220</td>\n",
       "      <td>82.0</td>\n",
       "      <td>normal</td>\n",
       "    </tr>\n",
       "  </tbody>\n",
       "</table>\n",
       "<p>5 rows × 26 columns</p>\n",
       "</div>"
      ],
      "text/plain": [
       "   serial    tempmax    tempmin       temp  feelslikemax  feelslikemin  \\\n",
       "0       0  34.053151  24.478082  28.709863     39.757808     25.317808   \n",
       "1       1  34.086179  25.694309  29.464228     41.338211     28.140650   \n",
       "2       2  34.573984  25.417886  29.526829     40.464228     26.560163   \n",
       "3       3  33.020325  25.080488  28.727642     37.878049     26.193496   \n",
       "4       4  30.660976  24.230894  26.774797     36.586992     24.263415   \n",
       "\n",
       "   feelslike        dew   humidity     precip  ...  sealevelpressure  \\\n",
       "0  32.306301  22.971233  73.508219   2.921726  ...       1007.911781   \n",
       "1  34.423577  23.484553  72.066667   3.783415  ...       1003.533333   \n",
       "2  33.085366  22.580488  69.424390   3.065854  ...       1005.731707   \n",
       "3  31.772358  21.752033  69.297561   6.025203  ...       1003.359350   \n",
       "4  28.943902  24.214634  86.652033  23.336585  ...       1009.995935   \n",
       "\n",
       "   cloudcover  visibility  solarradiation  solarenergy   uvindex  conditions  \\\n",
       "0   50.747945    3.789863      208.097808    17.973699  7.232877    2.558904   \n",
       "1   48.313821    2.884553      222.926016    19.246341  7.504065    1.658537   \n",
       "2   55.621138    4.242276      229.413008    19.802439  7.829268    1.910569   \n",
       "3   50.208130    2.991057      225.421951    19.480488  7.593496    1.300813   \n",
       "4   45.542276    3.886992      176.598374    15.261789  6.186992    0.967480   \n",
       "\n",
       "   stations    cases  labels  \n",
       "0  1.197260   4925.0  normal  \n",
       "1  0.991870   5077.0  normal  \n",
       "2  1.170732   7579.0  normal  \n",
       "3  0.146341  13706.0  normal  \n",
       "4  3.951220     82.0  normal  \n",
       "\n",
       "[5 rows x 26 columns]"
      ]
     },
     "execution_count": 2,
     "metadata": {},
     "output_type": "execute_result"
    }
   ],
   "source": [
    "raw_df = pd.read_csv('./Dataset/Dengue.csv')\n",
    "raw_df.head()"
   ]
  },
  {
   "cell_type": "markdown",
   "metadata": {},
   "source": [
    "### performing initial checks on dataset"
   ]
  },
  {
   "cell_type": "code",
   "execution_count": 3,
   "metadata": {},
   "outputs": [],
   "source": [
    "pd.options.display.max_columns=None"
   ]
  },
  {
   "cell_type": "code",
   "execution_count": 4,
   "metadata": {},
   "outputs": [
    {
     "data": {
      "text/html": [
       "<div>\n",
       "<style scoped>\n",
       "    .dataframe tbody tr th:only-of-type {\n",
       "        vertical-align: middle;\n",
       "    }\n",
       "\n",
       "    .dataframe tbody tr th {\n",
       "        vertical-align: top;\n",
       "    }\n",
       "\n",
       "    .dataframe thead th {\n",
       "        text-align: right;\n",
       "    }\n",
       "</style>\n",
       "<table border=\"1\" class=\"dataframe\">\n",
       "  <thead>\n",
       "    <tr style=\"text-align: right;\">\n",
       "      <th></th>\n",
       "      <th>serial</th>\n",
       "      <th>tempmax</th>\n",
       "      <th>tempmin</th>\n",
       "      <th>temp</th>\n",
       "      <th>feelslikemax</th>\n",
       "      <th>feelslikemin</th>\n",
       "      <th>feelslike</th>\n",
       "      <th>dew</th>\n",
       "      <th>humidity</th>\n",
       "      <th>precip</th>\n",
       "      <th>precipprob</th>\n",
       "      <th>precipcover</th>\n",
       "      <th>snow</th>\n",
       "      <th>snowdepth</th>\n",
       "      <th>windspeed</th>\n",
       "      <th>winddir</th>\n",
       "      <th>sealevelpressure</th>\n",
       "      <th>cloudcover</th>\n",
       "      <th>visibility</th>\n",
       "      <th>solarradiation</th>\n",
       "      <th>solarenergy</th>\n",
       "      <th>uvindex</th>\n",
       "      <th>conditions</th>\n",
       "      <th>stations</th>\n",
       "      <th>cases</th>\n",
       "      <th>labels</th>\n",
       "    </tr>\n",
       "  </thead>\n",
       "  <tbody>\n",
       "    <tr>\n",
       "      <th>count</th>\n",
       "      <td>602.000000</td>\n",
       "      <td>602.000000</td>\n",
       "      <td>602.000000</td>\n",
       "      <td>602.000000</td>\n",
       "      <td>602.000000</td>\n",
       "      <td>602.000000</td>\n",
       "      <td>602.000000</td>\n",
       "      <td>602.000000</td>\n",
       "      <td>602.000000</td>\n",
       "      <td>602.000000</td>\n",
       "      <td>602.000000</td>\n",
       "      <td>602.000000</td>\n",
       "      <td>602.0</td>\n",
       "      <td>602.0</td>\n",
       "      <td>602.000000</td>\n",
       "      <td>602.000000</td>\n",
       "      <td>602.000000</td>\n",
       "      <td>602.000000</td>\n",
       "      <td>602.000000</td>\n",
       "      <td>602.000000</td>\n",
       "      <td>602.000000</td>\n",
       "      <td>602.000000</td>\n",
       "      <td>602.000000</td>\n",
       "      <td>602.000000</td>\n",
       "      <td>602.000000</td>\n",
       "      <td>602</td>\n",
       "    </tr>\n",
       "    <tr>\n",
       "      <th>unique</th>\n",
       "      <td>NaN</td>\n",
       "      <td>NaN</td>\n",
       "      <td>NaN</td>\n",
       "      <td>NaN</td>\n",
       "      <td>NaN</td>\n",
       "      <td>NaN</td>\n",
       "      <td>NaN</td>\n",
       "      <td>NaN</td>\n",
       "      <td>NaN</td>\n",
       "      <td>NaN</td>\n",
       "      <td>NaN</td>\n",
       "      <td>NaN</td>\n",
       "      <td>NaN</td>\n",
       "      <td>NaN</td>\n",
       "      <td>NaN</td>\n",
       "      <td>NaN</td>\n",
       "      <td>NaN</td>\n",
       "      <td>NaN</td>\n",
       "      <td>NaN</td>\n",
       "      <td>NaN</td>\n",
       "      <td>NaN</td>\n",
       "      <td>NaN</td>\n",
       "      <td>NaN</td>\n",
       "      <td>NaN</td>\n",
       "      <td>NaN</td>\n",
       "      <td>1</td>\n",
       "    </tr>\n",
       "    <tr>\n",
       "      <th>top</th>\n",
       "      <td>NaN</td>\n",
       "      <td>NaN</td>\n",
       "      <td>NaN</td>\n",
       "      <td>NaN</td>\n",
       "      <td>NaN</td>\n",
       "      <td>NaN</td>\n",
       "      <td>NaN</td>\n",
       "      <td>NaN</td>\n",
       "      <td>NaN</td>\n",
       "      <td>NaN</td>\n",
       "      <td>NaN</td>\n",
       "      <td>NaN</td>\n",
       "      <td>NaN</td>\n",
       "      <td>NaN</td>\n",
       "      <td>NaN</td>\n",
       "      <td>NaN</td>\n",
       "      <td>NaN</td>\n",
       "      <td>NaN</td>\n",
       "      <td>NaN</td>\n",
       "      <td>NaN</td>\n",
       "      <td>NaN</td>\n",
       "      <td>NaN</td>\n",
       "      <td>NaN</td>\n",
       "      <td>NaN</td>\n",
       "      <td>NaN</td>\n",
       "      <td>normal</td>\n",
       "    </tr>\n",
       "    <tr>\n",
       "      <th>freq</th>\n",
       "      <td>NaN</td>\n",
       "      <td>NaN</td>\n",
       "      <td>NaN</td>\n",
       "      <td>NaN</td>\n",
       "      <td>NaN</td>\n",
       "      <td>NaN</td>\n",
       "      <td>NaN</td>\n",
       "      <td>NaN</td>\n",
       "      <td>NaN</td>\n",
       "      <td>NaN</td>\n",
       "      <td>NaN</td>\n",
       "      <td>NaN</td>\n",
       "      <td>NaN</td>\n",
       "      <td>NaN</td>\n",
       "      <td>NaN</td>\n",
       "      <td>NaN</td>\n",
       "      <td>NaN</td>\n",
       "      <td>NaN</td>\n",
       "      <td>NaN</td>\n",
       "      <td>NaN</td>\n",
       "      <td>NaN</td>\n",
       "      <td>NaN</td>\n",
       "      <td>NaN</td>\n",
       "      <td>NaN</td>\n",
       "      <td>NaN</td>\n",
       "      <td>602</td>\n",
       "    </tr>\n",
       "    <tr>\n",
       "      <th>mean</th>\n",
       "      <td>300.500000</td>\n",
       "      <td>31.918079</td>\n",
       "      <td>24.588318</td>\n",
       "      <td>27.813181</td>\n",
       "      <td>38.476069</td>\n",
       "      <td>25.613154</td>\n",
       "      <td>31.485111</td>\n",
       "      <td>23.984349</td>\n",
       "      <td>81.254786</td>\n",
       "      <td>13.120862</td>\n",
       "      <td>69.625588</td>\n",
       "      <td>9.034032</td>\n",
       "      <td>0.0</td>\n",
       "      <td>0.0</td>\n",
       "      <td>17.599554</td>\n",
       "      <td>191.498693</td>\n",
       "      <td>1004.690531</td>\n",
       "      <td>59.701192</td>\n",
       "      <td>3.632620</td>\n",
       "      <td>199.802695</td>\n",
       "      <td>17.251785</td>\n",
       "      <td>6.877674</td>\n",
       "      <td>1.827725</td>\n",
       "      <td>0.859734</td>\n",
       "      <td>8502.342193</td>\n",
       "      <td>NaN</td>\n",
       "    </tr>\n",
       "    <tr>\n",
       "      <th>std</th>\n",
       "      <td>173.926709</td>\n",
       "      <td>2.737215</td>\n",
       "      <td>2.727919</td>\n",
       "      <td>2.412416</td>\n",
       "      <td>4.776400</td>\n",
       "      <td>4.178797</td>\n",
       "      <td>4.672951</td>\n",
       "      <td>2.668014</td>\n",
       "      <td>9.406354</td>\n",
       "      <td>28.463365</td>\n",
       "      <td>45.539264</td>\n",
       "      <td>14.201016</td>\n",
       "      <td>0.0</td>\n",
       "      <td>0.0</td>\n",
       "      <td>8.980189</td>\n",
       "      <td>81.604668</td>\n",
       "      <td>41.364967</td>\n",
       "      <td>20.832639</td>\n",
       "      <td>1.890352</td>\n",
       "      <td>54.128192</td>\n",
       "      <td>4.676051</td>\n",
       "      <td>1.763928</td>\n",
       "      <td>1.237389</td>\n",
       "      <td>0.973575</td>\n",
       "      <td>6780.749627</td>\n",
       "      <td>NaN</td>\n",
       "    </tr>\n",
       "    <tr>\n",
       "      <th>min</th>\n",
       "      <td>0.000000</td>\n",
       "      <td>25.000000</td>\n",
       "      <td>12.740000</td>\n",
       "      <td>18.820000</td>\n",
       "      <td>25.000000</td>\n",
       "      <td>12.360000</td>\n",
       "      <td>18.626667</td>\n",
       "      <td>4.480000</td>\n",
       "      <td>40.833333</td>\n",
       "      <td>0.000000</td>\n",
       "      <td>0.000000</td>\n",
       "      <td>0.000000</td>\n",
       "      <td>0.0</td>\n",
       "      <td>0.0</td>\n",
       "      <td>3.600000</td>\n",
       "      <td>0.500000</td>\n",
       "      <td>0.000000</td>\n",
       "      <td>0.000000</td>\n",
       "      <td>0.800000</td>\n",
       "      <td>57.900000</td>\n",
       "      <td>5.000000</td>\n",
       "      <td>2.000000</td>\n",
       "      <td>0.000000</td>\n",
       "      <td>0.000000</td>\n",
       "      <td>52.000000</td>\n",
       "      <td>NaN</td>\n",
       "    </tr>\n",
       "    <tr>\n",
       "      <th>25%</th>\n",
       "      <td>150.250000</td>\n",
       "      <td>30.025000</td>\n",
       "      <td>23.200000</td>\n",
       "      <td>26.500000</td>\n",
       "      <td>35.600000</td>\n",
       "      <td>23.200000</td>\n",
       "      <td>28.100000</td>\n",
       "      <td>23.300000</td>\n",
       "      <td>75.800000</td>\n",
       "      <td>0.000000</td>\n",
       "      <td>0.000000</td>\n",
       "      <td>0.000000</td>\n",
       "      <td>0.0</td>\n",
       "      <td>0.0</td>\n",
       "      <td>11.200000</td>\n",
       "      <td>134.425000</td>\n",
       "      <td>1002.025000</td>\n",
       "      <td>47.400000</td>\n",
       "      <td>2.523780</td>\n",
       "      <td>160.350000</td>\n",
       "      <td>13.900000</td>\n",
       "      <td>6.000000</td>\n",
       "      <td>1.000000</td>\n",
       "      <td>0.000000</td>\n",
       "      <td>3017.750000</td>\n",
       "      <td>NaN</td>\n",
       "    </tr>\n",
       "    <tr>\n",
       "      <th>50%</th>\n",
       "      <td>300.500000</td>\n",
       "      <td>31.700000</td>\n",
       "      <td>25.000000</td>\n",
       "      <td>27.900000</td>\n",
       "      <td>38.400000</td>\n",
       "      <td>25.000000</td>\n",
       "      <td>31.500000</td>\n",
       "      <td>24.529268</td>\n",
       "      <td>82.800000</td>\n",
       "      <td>3.000000</td>\n",
       "      <td>100.000000</td>\n",
       "      <td>4.170000</td>\n",
       "      <td>0.0</td>\n",
       "      <td>0.0</td>\n",
       "      <td>15.589178</td>\n",
       "      <td>207.300000</td>\n",
       "      <td>1007.000000</td>\n",
       "      <td>63.700000</td>\n",
       "      <td>3.200000</td>\n",
       "      <td>205.750000</td>\n",
       "      <td>17.750000</td>\n",
       "      <td>7.000000</td>\n",
       "      <td>2.000000</td>\n",
       "      <td>1.000000</td>\n",
       "      <td>7490.000000</td>\n",
       "      <td>NaN</td>\n",
       "    </tr>\n",
       "    <tr>\n",
       "      <th>75%</th>\n",
       "      <td>450.750000</td>\n",
       "      <td>33.600000</td>\n",
       "      <td>26.500000</td>\n",
       "      <td>29.448171</td>\n",
       "      <td>41.900000</td>\n",
       "      <td>26.600000</td>\n",
       "      <td>34.875000</td>\n",
       "      <td>25.475000</td>\n",
       "      <td>88.175000</td>\n",
       "      <td>12.589000</td>\n",
       "      <td>100.000000</td>\n",
       "      <td>9.705508</td>\n",
       "      <td>0.0</td>\n",
       "      <td>0.0</td>\n",
       "      <td>22.775000</td>\n",
       "      <td>252.375000</td>\n",
       "      <td>1010.185772</td>\n",
       "      <td>73.200000</td>\n",
       "      <td>4.300000</td>\n",
       "      <td>238.800610</td>\n",
       "      <td>20.600610</td>\n",
       "      <td>8.000000</td>\n",
       "      <td>3.000000</td>\n",
       "      <td>1.000000</td>\n",
       "      <td>12702.500000</td>\n",
       "      <td>NaN</td>\n",
       "    </tr>\n",
       "    <tr>\n",
       "      <th>max</th>\n",
       "      <td>601.000000</td>\n",
       "      <td>41.200000</td>\n",
       "      <td>29.400000</td>\n",
       "      <td>33.300000</td>\n",
       "      <td>49.600000</td>\n",
       "      <td>37.900000</td>\n",
       "      <td>42.900000</td>\n",
       "      <td>28.100000</td>\n",
       "      <td>99.300000</td>\n",
       "      <td>302.000000</td>\n",
       "      <td>100.000000</td>\n",
       "      <td>83.330000</td>\n",
       "      <td>0.0</td>\n",
       "      <td>0.0</td>\n",
       "      <td>92.500000</td>\n",
       "      <td>359.200000</td>\n",
       "      <td>1020.000000</td>\n",
       "      <td>97.900000</td>\n",
       "      <td>24.033333</td>\n",
       "      <td>318.500000</td>\n",
       "      <td>27.700000</td>\n",
       "      <td>10.000000</td>\n",
       "      <td>4.000000</td>\n",
       "      <td>5.000000</td>\n",
       "      <td>24983.000000</td>\n",
       "      <td>NaN</td>\n",
       "    </tr>\n",
       "  </tbody>\n",
       "</table>\n",
       "</div>"
      ],
      "text/plain": [
       "            serial     tempmax     tempmin        temp  feelslikemax  \\\n",
       "count   602.000000  602.000000  602.000000  602.000000    602.000000   \n",
       "unique         NaN         NaN         NaN         NaN           NaN   \n",
       "top            NaN         NaN         NaN         NaN           NaN   \n",
       "freq           NaN         NaN         NaN         NaN           NaN   \n",
       "mean    300.500000   31.918079   24.588318   27.813181     38.476069   \n",
       "std     173.926709    2.737215    2.727919    2.412416      4.776400   \n",
       "min       0.000000   25.000000   12.740000   18.820000     25.000000   \n",
       "25%     150.250000   30.025000   23.200000   26.500000     35.600000   \n",
       "50%     300.500000   31.700000   25.000000   27.900000     38.400000   \n",
       "75%     450.750000   33.600000   26.500000   29.448171     41.900000   \n",
       "max     601.000000   41.200000   29.400000   33.300000     49.600000   \n",
       "\n",
       "        feelslikemin   feelslike         dew    humidity      precip  \\\n",
       "count     602.000000  602.000000  602.000000  602.000000  602.000000   \n",
       "unique           NaN         NaN         NaN         NaN         NaN   \n",
       "top              NaN         NaN         NaN         NaN         NaN   \n",
       "freq             NaN         NaN         NaN         NaN         NaN   \n",
       "mean       25.613154   31.485111   23.984349   81.254786   13.120862   \n",
       "std         4.178797    4.672951    2.668014    9.406354   28.463365   \n",
       "min        12.360000   18.626667    4.480000   40.833333    0.000000   \n",
       "25%        23.200000   28.100000   23.300000   75.800000    0.000000   \n",
       "50%        25.000000   31.500000   24.529268   82.800000    3.000000   \n",
       "75%        26.600000   34.875000   25.475000   88.175000   12.589000   \n",
       "max        37.900000   42.900000   28.100000   99.300000  302.000000   \n",
       "\n",
       "        precipprob  precipcover   snow  snowdepth   windspeed     winddir  \\\n",
       "count   602.000000   602.000000  602.0      602.0  602.000000  602.000000   \n",
       "unique         NaN          NaN    NaN        NaN         NaN         NaN   \n",
       "top            NaN          NaN    NaN        NaN         NaN         NaN   \n",
       "freq           NaN          NaN    NaN        NaN         NaN         NaN   \n",
       "mean     69.625588     9.034032    0.0        0.0   17.599554  191.498693   \n",
       "std      45.539264    14.201016    0.0        0.0    8.980189   81.604668   \n",
       "min       0.000000     0.000000    0.0        0.0    3.600000    0.500000   \n",
       "25%       0.000000     0.000000    0.0        0.0   11.200000  134.425000   \n",
       "50%     100.000000     4.170000    0.0        0.0   15.589178  207.300000   \n",
       "75%     100.000000     9.705508    0.0        0.0   22.775000  252.375000   \n",
       "max     100.000000    83.330000    0.0        0.0   92.500000  359.200000   \n",
       "\n",
       "        sealevelpressure  cloudcover  visibility  solarradiation  solarenergy  \\\n",
       "count         602.000000  602.000000  602.000000      602.000000   602.000000   \n",
       "unique               NaN         NaN         NaN             NaN          NaN   \n",
       "top                  NaN         NaN         NaN             NaN          NaN   \n",
       "freq                 NaN         NaN         NaN             NaN          NaN   \n",
       "mean         1004.690531   59.701192    3.632620      199.802695    17.251785   \n",
       "std            41.364967   20.832639    1.890352       54.128192     4.676051   \n",
       "min             0.000000    0.000000    0.800000       57.900000     5.000000   \n",
       "25%          1002.025000   47.400000    2.523780      160.350000    13.900000   \n",
       "50%          1007.000000   63.700000    3.200000      205.750000    17.750000   \n",
       "75%          1010.185772   73.200000    4.300000      238.800610    20.600610   \n",
       "max          1020.000000   97.900000   24.033333      318.500000    27.700000   \n",
       "\n",
       "           uvindex  conditions    stations         cases  labels  \n",
       "count   602.000000  602.000000  602.000000    602.000000     602  \n",
       "unique         NaN         NaN         NaN           NaN       1  \n",
       "top            NaN         NaN         NaN           NaN  normal  \n",
       "freq           NaN         NaN         NaN           NaN     602  \n",
       "mean      6.877674    1.827725    0.859734   8502.342193     NaN  \n",
       "std       1.763928    1.237389    0.973575   6780.749627     NaN  \n",
       "min       2.000000    0.000000    0.000000     52.000000     NaN  \n",
       "25%       6.000000    1.000000    0.000000   3017.750000     NaN  \n",
       "50%       7.000000    2.000000    1.000000   7490.000000     NaN  \n",
       "75%       8.000000    3.000000    1.000000  12702.500000     NaN  \n",
       "max      10.000000    4.000000    5.000000  24983.000000     NaN  "
      ]
     },
     "execution_count": 4,
     "metadata": {},
     "output_type": "execute_result"
    }
   ],
   "source": [
    "raw_df.describe(include='all')"
   ]
  },
  {
   "cell_type": "code",
   "execution_count": 5,
   "metadata": {},
   "outputs": [
    {
     "data": {
      "text/plain": [
       "count      602.000000\n",
       "mean      8502.342193\n",
       "std       6780.749627\n",
       "min         52.000000\n",
       "25%       3017.750000\n",
       "50%       7490.000000\n",
       "75%      12702.500000\n",
       "max      24983.000000\n",
       "Name: cases, dtype: float64"
      ]
     },
     "execution_count": 5,
     "metadata": {},
     "output_type": "execute_result"
    }
   ],
   "source": [
    "raw_df['cases'].describe()"
   ]
  },
  {
   "cell_type": "code",
   "execution_count": 6,
   "metadata": {},
   "outputs": [],
   "source": [
    "#Updating labels column: might be useful in future to test classification problem\n",
    "raw_df['labels'] = pd.cut(\n",
    "    raw_df['cases'],\n",
    "    bins=[-float('inf'), 2500, 5000, 7500, float('inf')],\n",
    "    labels=[0, 1, 2, 3]\n",
    ").astype(int)\n"
   ]
  },
  {
   "cell_type": "code",
   "execution_count": 7,
   "metadata": {},
   "outputs": [
    {
     "data": {
      "text/html": [
       "<div>\n",
       "<style scoped>\n",
       "    .dataframe tbody tr th:only-of-type {\n",
       "        vertical-align: middle;\n",
       "    }\n",
       "\n",
       "    .dataframe tbody tr th {\n",
       "        vertical-align: top;\n",
       "    }\n",
       "\n",
       "    .dataframe thead th {\n",
       "        text-align: right;\n",
       "    }\n",
       "</style>\n",
       "<table border=\"1\" class=\"dataframe\">\n",
       "  <thead>\n",
       "    <tr style=\"text-align: right;\">\n",
       "      <th></th>\n",
       "      <th>serial</th>\n",
       "      <th>tempmax</th>\n",
       "      <th>tempmin</th>\n",
       "      <th>temp</th>\n",
       "      <th>feelslikemax</th>\n",
       "      <th>feelslikemin</th>\n",
       "      <th>feelslike</th>\n",
       "      <th>dew</th>\n",
       "      <th>humidity</th>\n",
       "      <th>precip</th>\n",
       "      <th>precipprob</th>\n",
       "      <th>precipcover</th>\n",
       "      <th>snow</th>\n",
       "      <th>snowdepth</th>\n",
       "      <th>windspeed</th>\n",
       "      <th>winddir</th>\n",
       "      <th>sealevelpressure</th>\n",
       "      <th>cloudcover</th>\n",
       "      <th>visibility</th>\n",
       "      <th>solarradiation</th>\n",
       "      <th>solarenergy</th>\n",
       "      <th>uvindex</th>\n",
       "      <th>conditions</th>\n",
       "      <th>stations</th>\n",
       "      <th>cases</th>\n",
       "      <th>labels</th>\n",
       "    </tr>\n",
       "  </thead>\n",
       "  <tbody>\n",
       "    <tr>\n",
       "      <th>0</th>\n",
       "      <td>0</td>\n",
       "      <td>34.053151</td>\n",
       "      <td>24.478082</td>\n",
       "      <td>28.709863</td>\n",
       "      <td>39.757808</td>\n",
       "      <td>25.317808</td>\n",
       "      <td>32.306301</td>\n",
       "      <td>22.971233</td>\n",
       "      <td>73.508219</td>\n",
       "      <td>2.921726</td>\n",
       "      <td>44.657534</td>\n",
       "      <td>4.360932</td>\n",
       "      <td>0.0</td>\n",
       "      <td>0.0</td>\n",
       "      <td>15.678356</td>\n",
       "      <td>175.595342</td>\n",
       "      <td>1007.911781</td>\n",
       "      <td>50.747945</td>\n",
       "      <td>3.789863</td>\n",
       "      <td>208.097808</td>\n",
       "      <td>17.973699</td>\n",
       "      <td>7.232877</td>\n",
       "      <td>2.558904</td>\n",
       "      <td>1.197260</td>\n",
       "      <td>4925.0</td>\n",
       "      <td>1</td>\n",
       "    </tr>\n",
       "    <tr>\n",
       "      <th>1</th>\n",
       "      <td>1</td>\n",
       "      <td>34.086179</td>\n",
       "      <td>25.694309</td>\n",
       "      <td>29.464228</td>\n",
       "      <td>41.338211</td>\n",
       "      <td>28.140650</td>\n",
       "      <td>34.423577</td>\n",
       "      <td>23.484553</td>\n",
       "      <td>72.066667</td>\n",
       "      <td>3.783415</td>\n",
       "      <td>39.837398</td>\n",
       "      <td>2.676748</td>\n",
       "      <td>0.0</td>\n",
       "      <td>0.0</td>\n",
       "      <td>14.574797</td>\n",
       "      <td>158.349593</td>\n",
       "      <td>1003.533333</td>\n",
       "      <td>48.313821</td>\n",
       "      <td>2.884553</td>\n",
       "      <td>222.926016</td>\n",
       "      <td>19.246341</td>\n",
       "      <td>7.504065</td>\n",
       "      <td>1.658537</td>\n",
       "      <td>0.991870</td>\n",
       "      <td>5077.0</td>\n",
       "      <td>2</td>\n",
       "    </tr>\n",
       "    <tr>\n",
       "      <th>2</th>\n",
       "      <td>2</td>\n",
       "      <td>34.573984</td>\n",
       "      <td>25.417886</td>\n",
       "      <td>29.526829</td>\n",
       "      <td>40.464228</td>\n",
       "      <td>26.560163</td>\n",
       "      <td>33.085366</td>\n",
       "      <td>22.580488</td>\n",
       "      <td>69.424390</td>\n",
       "      <td>3.065854</td>\n",
       "      <td>33.333333</td>\n",
       "      <td>2.337805</td>\n",
       "      <td>0.0</td>\n",
       "      <td>0.0</td>\n",
       "      <td>14.978049</td>\n",
       "      <td>202.621138</td>\n",
       "      <td>1005.731707</td>\n",
       "      <td>55.621138</td>\n",
       "      <td>4.242276</td>\n",
       "      <td>229.413008</td>\n",
       "      <td>19.802439</td>\n",
       "      <td>7.829268</td>\n",
       "      <td>1.910569</td>\n",
       "      <td>1.170732</td>\n",
       "      <td>7579.0</td>\n",
       "      <td>3</td>\n",
       "    </tr>\n",
       "    <tr>\n",
       "      <th>3</th>\n",
       "      <td>3</td>\n",
       "      <td>33.020325</td>\n",
       "      <td>25.080488</td>\n",
       "      <td>28.727642</td>\n",
       "      <td>37.878049</td>\n",
       "      <td>26.193496</td>\n",
       "      <td>31.772358</td>\n",
       "      <td>21.752033</td>\n",
       "      <td>69.297561</td>\n",
       "      <td>6.025203</td>\n",
       "      <td>37.398374</td>\n",
       "      <td>2.676667</td>\n",
       "      <td>0.0</td>\n",
       "      <td>0.0</td>\n",
       "      <td>16.504878</td>\n",
       "      <td>183.544715</td>\n",
       "      <td>1003.359350</td>\n",
       "      <td>50.208130</td>\n",
       "      <td>2.991057</td>\n",
       "      <td>225.421951</td>\n",
       "      <td>19.480488</td>\n",
       "      <td>7.593496</td>\n",
       "      <td>1.300813</td>\n",
       "      <td>0.146341</td>\n",
       "      <td>13706.0</td>\n",
       "      <td>3</td>\n",
       "    </tr>\n",
       "    <tr>\n",
       "      <th>4</th>\n",
       "      <td>4</td>\n",
       "      <td>30.660976</td>\n",
       "      <td>24.230894</td>\n",
       "      <td>26.774797</td>\n",
       "      <td>36.586992</td>\n",
       "      <td>24.263415</td>\n",
       "      <td>28.943902</td>\n",
       "      <td>24.214634</td>\n",
       "      <td>86.652033</td>\n",
       "      <td>23.336585</td>\n",
       "      <td>96.747967</td>\n",
       "      <td>15.616992</td>\n",
       "      <td>0.0</td>\n",
       "      <td>0.0</td>\n",
       "      <td>19.546341</td>\n",
       "      <td>224.030081</td>\n",
       "      <td>1009.995935</td>\n",
       "      <td>45.542276</td>\n",
       "      <td>3.886992</td>\n",
       "      <td>176.598374</td>\n",
       "      <td>15.261789</td>\n",
       "      <td>6.186992</td>\n",
       "      <td>0.967480</td>\n",
       "      <td>3.951220</td>\n",
       "      <td>82.0</td>\n",
       "      <td>0</td>\n",
       "    </tr>\n",
       "  </tbody>\n",
       "</table>\n",
       "</div>"
      ],
      "text/plain": [
       "   serial    tempmax    tempmin       temp  feelslikemax  feelslikemin  \\\n",
       "0       0  34.053151  24.478082  28.709863     39.757808     25.317808   \n",
       "1       1  34.086179  25.694309  29.464228     41.338211     28.140650   \n",
       "2       2  34.573984  25.417886  29.526829     40.464228     26.560163   \n",
       "3       3  33.020325  25.080488  28.727642     37.878049     26.193496   \n",
       "4       4  30.660976  24.230894  26.774797     36.586992     24.263415   \n",
       "\n",
       "   feelslike        dew   humidity     precip  precipprob  precipcover  snow  \\\n",
       "0  32.306301  22.971233  73.508219   2.921726   44.657534     4.360932   0.0   \n",
       "1  34.423577  23.484553  72.066667   3.783415   39.837398     2.676748   0.0   \n",
       "2  33.085366  22.580488  69.424390   3.065854   33.333333     2.337805   0.0   \n",
       "3  31.772358  21.752033  69.297561   6.025203   37.398374     2.676667   0.0   \n",
       "4  28.943902  24.214634  86.652033  23.336585   96.747967    15.616992   0.0   \n",
       "\n",
       "   snowdepth  windspeed     winddir  sealevelpressure  cloudcover  visibility  \\\n",
       "0        0.0  15.678356  175.595342       1007.911781   50.747945    3.789863   \n",
       "1        0.0  14.574797  158.349593       1003.533333   48.313821    2.884553   \n",
       "2        0.0  14.978049  202.621138       1005.731707   55.621138    4.242276   \n",
       "3        0.0  16.504878  183.544715       1003.359350   50.208130    2.991057   \n",
       "4        0.0  19.546341  224.030081       1009.995935   45.542276    3.886992   \n",
       "\n",
       "   solarradiation  solarenergy   uvindex  conditions  stations    cases  \\\n",
       "0      208.097808    17.973699  7.232877    2.558904  1.197260   4925.0   \n",
       "1      222.926016    19.246341  7.504065    1.658537  0.991870   5077.0   \n",
       "2      229.413008    19.802439  7.829268    1.910569  1.170732   7579.0   \n",
       "3      225.421951    19.480488  7.593496    1.300813  0.146341  13706.0   \n",
       "4      176.598374    15.261789  6.186992    0.967480  3.951220     82.0   \n",
       "\n",
       "   labels  \n",
       "0       1  \n",
       "1       2  \n",
       "2       3  \n",
       "3       3  \n",
       "4       0  "
      ]
     },
     "execution_count": 7,
     "metadata": {},
     "output_type": "execute_result"
    }
   ],
   "source": [
    "raw_df.head()"
   ]
  },
  {
   "cell_type": "markdown",
   "metadata": {},
   "source": [
    "### Preparing the input data to neural network"
   ]
  },
  {
   "cell_type": "code",
   "execution_count": 8,
   "metadata": {},
   "outputs": [],
   "source": [
    "df = raw_df.copy()"
   ]
  },
  {
   "cell_type": "code",
   "execution_count": 9,
   "metadata": {},
   "outputs": [],
   "source": [
    "df.drop(columns=['serial', 'cases', 'labels', 'stations', 'snow', 'snowdepth'], inplace=True)"
   ]
  },
  {
   "cell_type": "code",
   "execution_count": 10,
   "metadata": {},
   "outputs": [
    {
     "data": {
      "text/html": [
       "<div>\n",
       "<style scoped>\n",
       "    .dataframe tbody tr th:only-of-type {\n",
       "        vertical-align: middle;\n",
       "    }\n",
       "\n",
       "    .dataframe tbody tr th {\n",
       "        vertical-align: top;\n",
       "    }\n",
       "\n",
       "    .dataframe thead th {\n",
       "        text-align: right;\n",
       "    }\n",
       "</style>\n",
       "<table border=\"1\" class=\"dataframe\">\n",
       "  <thead>\n",
       "    <tr style=\"text-align: right;\">\n",
       "      <th></th>\n",
       "      <th>tempmax</th>\n",
       "      <th>tempmin</th>\n",
       "      <th>temp</th>\n",
       "      <th>feelslikemax</th>\n",
       "      <th>feelslikemin</th>\n",
       "      <th>feelslike</th>\n",
       "      <th>dew</th>\n",
       "      <th>humidity</th>\n",
       "      <th>precip</th>\n",
       "      <th>precipprob</th>\n",
       "      <th>precipcover</th>\n",
       "      <th>windspeed</th>\n",
       "      <th>winddir</th>\n",
       "      <th>sealevelpressure</th>\n",
       "      <th>cloudcover</th>\n",
       "      <th>visibility</th>\n",
       "      <th>solarradiation</th>\n",
       "      <th>solarenergy</th>\n",
       "      <th>uvindex</th>\n",
       "      <th>conditions</th>\n",
       "    </tr>\n",
       "  </thead>\n",
       "  <tbody>\n",
       "    <tr>\n",
       "      <th>0</th>\n",
       "      <td>34.053151</td>\n",
       "      <td>24.478082</td>\n",
       "      <td>28.709863</td>\n",
       "      <td>39.757808</td>\n",
       "      <td>25.317808</td>\n",
       "      <td>32.306301</td>\n",
       "      <td>22.971233</td>\n",
       "      <td>73.508219</td>\n",
       "      <td>2.921726</td>\n",
       "      <td>44.657534</td>\n",
       "      <td>4.360932</td>\n",
       "      <td>15.678356</td>\n",
       "      <td>175.595342</td>\n",
       "      <td>1007.911781</td>\n",
       "      <td>50.747945</td>\n",
       "      <td>3.789863</td>\n",
       "      <td>208.097808</td>\n",
       "      <td>17.973699</td>\n",
       "      <td>7.232877</td>\n",
       "      <td>2.558904</td>\n",
       "    </tr>\n",
       "    <tr>\n",
       "      <th>1</th>\n",
       "      <td>34.086179</td>\n",
       "      <td>25.694309</td>\n",
       "      <td>29.464228</td>\n",
       "      <td>41.338211</td>\n",
       "      <td>28.140650</td>\n",
       "      <td>34.423577</td>\n",
       "      <td>23.484553</td>\n",
       "      <td>72.066667</td>\n",
       "      <td>3.783415</td>\n",
       "      <td>39.837398</td>\n",
       "      <td>2.676748</td>\n",
       "      <td>14.574797</td>\n",
       "      <td>158.349593</td>\n",
       "      <td>1003.533333</td>\n",
       "      <td>48.313821</td>\n",
       "      <td>2.884553</td>\n",
       "      <td>222.926016</td>\n",
       "      <td>19.246341</td>\n",
       "      <td>7.504065</td>\n",
       "      <td>1.658537</td>\n",
       "    </tr>\n",
       "    <tr>\n",
       "      <th>2</th>\n",
       "      <td>34.573984</td>\n",
       "      <td>25.417886</td>\n",
       "      <td>29.526829</td>\n",
       "      <td>40.464228</td>\n",
       "      <td>26.560163</td>\n",
       "      <td>33.085366</td>\n",
       "      <td>22.580488</td>\n",
       "      <td>69.424390</td>\n",
       "      <td>3.065854</td>\n",
       "      <td>33.333333</td>\n",
       "      <td>2.337805</td>\n",
       "      <td>14.978049</td>\n",
       "      <td>202.621138</td>\n",
       "      <td>1005.731707</td>\n",
       "      <td>55.621138</td>\n",
       "      <td>4.242276</td>\n",
       "      <td>229.413008</td>\n",
       "      <td>19.802439</td>\n",
       "      <td>7.829268</td>\n",
       "      <td>1.910569</td>\n",
       "    </tr>\n",
       "    <tr>\n",
       "      <th>3</th>\n",
       "      <td>33.020325</td>\n",
       "      <td>25.080488</td>\n",
       "      <td>28.727642</td>\n",
       "      <td>37.878049</td>\n",
       "      <td>26.193496</td>\n",
       "      <td>31.772358</td>\n",
       "      <td>21.752033</td>\n",
       "      <td>69.297561</td>\n",
       "      <td>6.025203</td>\n",
       "      <td>37.398374</td>\n",
       "      <td>2.676667</td>\n",
       "      <td>16.504878</td>\n",
       "      <td>183.544715</td>\n",
       "      <td>1003.359350</td>\n",
       "      <td>50.208130</td>\n",
       "      <td>2.991057</td>\n",
       "      <td>225.421951</td>\n",
       "      <td>19.480488</td>\n",
       "      <td>7.593496</td>\n",
       "      <td>1.300813</td>\n",
       "    </tr>\n",
       "    <tr>\n",
       "      <th>4</th>\n",
       "      <td>30.660976</td>\n",
       "      <td>24.230894</td>\n",
       "      <td>26.774797</td>\n",
       "      <td>36.586992</td>\n",
       "      <td>24.263415</td>\n",
       "      <td>28.943902</td>\n",
       "      <td>24.214634</td>\n",
       "      <td>86.652033</td>\n",
       "      <td>23.336585</td>\n",
       "      <td>96.747967</td>\n",
       "      <td>15.616992</td>\n",
       "      <td>19.546341</td>\n",
       "      <td>224.030081</td>\n",
       "      <td>1009.995935</td>\n",
       "      <td>45.542276</td>\n",
       "      <td>3.886992</td>\n",
       "      <td>176.598374</td>\n",
       "      <td>15.261789</td>\n",
       "      <td>6.186992</td>\n",
       "      <td>0.967480</td>\n",
       "    </tr>\n",
       "  </tbody>\n",
       "</table>\n",
       "</div>"
      ],
      "text/plain": [
       "     tempmax    tempmin       temp  feelslikemax  feelslikemin  feelslike  \\\n",
       "0  34.053151  24.478082  28.709863     39.757808     25.317808  32.306301   \n",
       "1  34.086179  25.694309  29.464228     41.338211     28.140650  34.423577   \n",
       "2  34.573984  25.417886  29.526829     40.464228     26.560163  33.085366   \n",
       "3  33.020325  25.080488  28.727642     37.878049     26.193496  31.772358   \n",
       "4  30.660976  24.230894  26.774797     36.586992     24.263415  28.943902   \n",
       "\n",
       "         dew   humidity     precip  precipprob  precipcover  windspeed  \\\n",
       "0  22.971233  73.508219   2.921726   44.657534     4.360932  15.678356   \n",
       "1  23.484553  72.066667   3.783415   39.837398     2.676748  14.574797   \n",
       "2  22.580488  69.424390   3.065854   33.333333     2.337805  14.978049   \n",
       "3  21.752033  69.297561   6.025203   37.398374     2.676667  16.504878   \n",
       "4  24.214634  86.652033  23.336585   96.747967    15.616992  19.546341   \n",
       "\n",
       "      winddir  sealevelpressure  cloudcover  visibility  solarradiation  \\\n",
       "0  175.595342       1007.911781   50.747945    3.789863      208.097808   \n",
       "1  158.349593       1003.533333   48.313821    2.884553      222.926016   \n",
       "2  202.621138       1005.731707   55.621138    4.242276      229.413008   \n",
       "3  183.544715       1003.359350   50.208130    2.991057      225.421951   \n",
       "4  224.030081       1009.995935   45.542276    3.886992      176.598374   \n",
       "\n",
       "   solarenergy   uvindex  conditions  \n",
       "0    17.973699  7.232877    2.558904  \n",
       "1    19.246341  7.504065    1.658537  \n",
       "2    19.802439  7.829268    1.910569  \n",
       "3    19.480488  7.593496    1.300813  \n",
       "4    15.261789  6.186992    0.967480  "
      ]
     },
     "execution_count": 10,
     "metadata": {},
     "output_type": "execute_result"
    }
   ],
   "source": [
    "df.head()"
   ]
  },
  {
   "cell_type": "code",
   "execution_count": 11,
   "metadata": {},
   "outputs": [
    {
     "data": {
      "text/plain": [
       "4"
      ]
     },
     "execution_count": 11,
     "metadata": {},
     "output_type": "execute_result"
    }
   ],
   "source": [
    "raw_df['labels'].nunique()"
   ]
  },
  {
   "cell_type": "code",
   "execution_count": 12,
   "metadata": {},
   "outputs": [],
   "source": [
    "X = np.array(df)\n",
    "Y_linear = np.array(raw_df['cases']).reshape(X.shape[0], 1)\n",
    "Y_classification = np.array(raw_df['labels']).reshape(X.shape[0], 1)\n",
    "\n"
   ]
  },
  {
   "cell_type": "code",
   "execution_count": 13,
   "metadata": {},
   "outputs": [
    {
     "name": "stdout",
     "output_type": "stream",
     "text": [
      "(602, 20)\n",
      "(602, 1)\n",
      "(602, 1)\n"
     ]
    }
   ],
   "source": [
    "print(X.shape)\n",
    "print(Y_linear.shape)\n",
    "print(Y_classification.shape)"
   ]
  },
  {
   "cell_type": "markdown",
   "metadata": {},
   "source": [
    "#### Normalizing inputs"
   ]
  },
  {
   "cell_type": "code",
   "execution_count": 14,
   "metadata": {},
   "outputs": [],
   "source": [
    "X_mean = np.mean(X,  axis=0, keepdims=True)\n",
    "X_dev = np.std(X, axis=0, keepdims=True)"
   ]
  },
  {
   "cell_type": "code",
   "execution_count": 15,
   "metadata": {},
   "outputs": [
    {
     "data": {
      "text/plain": [
       "array([[ 0.7806648 , -0.04044378,  0.37200389,  0.26857153, -0.0707361 ,\n",
       "         0.17587884, -0.38004258, -0.82423103, -0.35862302, -0.54873124,\n",
       "        -0.32934167, -0.2141153 , -0.19504492,  0.07793863, -0.43012758,\n",
       "         0.08325109,  0.15337685,  0.15451366,  0.20153778,  0.59139581],\n",
       "       [ 0.79274117,  0.40577122,  0.68496485,  0.59972417,  0.60534117,\n",
       "         0.62934745, -0.18748484, -0.97761154, -0.32832424, -0.65466498,\n",
       "        -0.44803629, -0.33710572, -0.40655353, -0.02799856, -0.5470666 ,\n",
       "        -0.39605802,  0.42755078,  0.42690184,  0.35540677, -0.13684406],\n",
       "       [ 0.97110151,  0.30435594,  0.71093619,  0.41659241,  0.22681067,\n",
       "         0.34273536, -0.52661975, -1.2587485 , -0.35355519, -0.79760699,\n",
       "        -0.47192366, -0.29216375,  0.13641003,  0.02519143, -0.196012  ,\n",
       "         0.32277769,  0.54749542,  0.54592534,  0.53992318,  0.06700618],\n",
       "       [ 0.40302385,  0.18056963,  0.37937992, -0.12530726,  0.13899315,\n",
       "         0.06152119, -0.83739177, -1.27224307, -0.24949825, -0.70826823,\n",
       "        -0.44804202, -0.1220004 , -0.09755069, -0.03220812, -0.45606112,\n",
       "        -0.33967031,  0.47370068,  0.477017  ,  0.40614879, -0.42617987],\n",
       "       [-0.45964563, -0.13113324, -0.43079116, -0.39583121, -0.32326581,\n",
       "        -0.54426463,  0.0863849 ,  0.5742645 ,  0.35920624,  0.5960776 ,\n",
       "         0.46394106,  0.21696717,  0.39897769,  0.12836506, -0.68021581,\n",
       "         0.13467517, -0.42904846, -0.4259259 , -0.39188468, -0.69578824]])"
      ]
     },
     "execution_count": 15,
     "metadata": {},
     "output_type": "execute_result"
    }
   ],
   "source": [
    "X_normalized = (X-X_mean)/X_dev\n",
    "X_normalized[:5,:]"
   ]
  },
  {
   "cell_type": "markdown",
   "metadata": {},
   "source": [
    "#### Spliting dataset into train  dev and test sets"
   ]
  },
  {
   "cell_type": "code",
   "execution_count": 16,
   "metadata": {},
   "outputs": [],
   "source": [
    "X_train, X_test, Y_c_train, Y_c_test, Y_l_train, Y_l_test = train_test_split(X_normalized, Y_classification, Y_linear, test_size=0.3, random_state=42)"
   ]
  },
  {
   "cell_type": "code",
   "execution_count": 17,
   "metadata": {},
   "outputs": [],
   "source": [
    "X_dev_, X_test, Y_c_dev, Y_c_test, Y_l_dev, Y_l_test = train_test_split(X_test, Y_c_test, Y_l_test, test_size=0.5, random_state=42)"
   ]
  },
  {
   "cell_type": "code",
   "execution_count": 18,
   "metadata": {},
   "outputs": [
    {
     "name": "stdout",
     "output_type": "stream",
     "text": [
      "(421, 20)\n",
      "(90, 20)\n",
      "(91, 20)\n"
     ]
    }
   ],
   "source": [
    "print(X_train.shape)\n",
    "print(X_dev_.shape)\n",
    "print(X_test.shape)\n"
   ]
  },
  {
   "cell_type": "markdown",
   "metadata": {},
   "source": [
    "#### Transposing the matrices so that each matrix column contains a single training example"
   ]
  },
  {
   "cell_type": "code",
   "execution_count": 19,
   "metadata": {},
   "outputs": [],
   "source": [
    "X_train = X_train.T\n",
    "X_development = X_dev_.T\n",
    "X_test = X_test.T"
   ]
  },
  {
   "cell_type": "code",
   "execution_count": 20,
   "metadata": {},
   "outputs": [],
   "source": [
    "Y_c_train = Y_c_train.T\n",
    "Y_c_dev = Y_c_dev.T\n",
    "Y_c_test = Y_c_test.T"
   ]
  },
  {
   "cell_type": "code",
   "execution_count": 21,
   "metadata": {},
   "outputs": [],
   "source": [
    "Y_l_train = Y_l_train.T\n",
    "Y_l_dev = Y_l_dev.T\n",
    "Y_l_test = Y_l_test.T"
   ]
  },
  {
   "cell_type": "code",
   "execution_count": 22,
   "metadata": {},
   "outputs": [
    {
     "data": {
      "text/plain": [
       "(1, 90)"
      ]
     },
     "execution_count": 22,
     "metadata": {},
     "output_type": "execute_result"
    }
   ],
   "source": [
    "Y_l_dev.shape"
   ]
  },
  {
   "cell_type": "markdown",
   "metadata": {},
   "source": [
    "#### Scaling down our output"
   ]
  },
  {
   "cell_type": "code",
   "execution_count": 23,
   "metadata": {},
   "outputs": [
    {
     "name": "stdout",
     "output_type": "stream",
     "text": [
      "(1,)\n",
      "(1, 421)\n"
     ]
    }
   ],
   "source": [
    "Y_l_train_ = np.power(Y_l_train, 0.02)\n",
    "Y = np.arange(len(Y_l_train))\n",
    "print(Y.shape)\n",
    "print(Y_l_train.shape)\n",
    "# plt.scatter(Y, Y_l_train_)\n",
    "# Y_l_dev[0]\n"
   ]
  },
  {
   "cell_type": "markdown",
   "metadata": {},
   "source": [
    "### Training a model to predict Actual output"
   ]
  },
  {
   "cell_type": "code",
   "execution_count": 24,
   "metadata": {},
   "outputs": [],
   "source": [
    "linear_model = NN(input_size=X_train.shape[0], output_size=1,architecture=[2,2,1], loss=\"MSE\")\n"
   ]
  },
  {
   "cell_type": "code",
   "execution_count": 25,
   "metadata": {},
   "outputs": [
    {
     "data": {
      "text/plain": [
       "(1, 90)"
      ]
     },
     "execution_count": 25,
     "metadata": {},
     "output_type": "execute_result"
    }
   ],
   "source": [
    "Y_l_dev_ = np.power(Y_l_dev, 0.02)\n",
    "Y_l_dev_.shape"
   ]
  },
  {
   "cell_type": "code",
   "execution_count": 26,
   "metadata": {},
   "outputs": [],
   "source": [
    "def model_train(model, num_epochs=10000, learning_rate=0.1, eval_interval=1000,):\n",
    "    # Training loop\n",
    "    train_losses = []\n",
    "    dev_losses = []\n",
    "    for epoch in range(num_epochs):\n",
    "        train_loss = model.model_train(X_train, Y_l_train, learning_rate=learning_rate)\n",
    "        train_losses.append(train_loss[0])\n",
    "        \n",
    "        # Optionally evaluate on dev set\n",
    "        if epoch % eval_interval == 0:\n",
    "            dev_loss, pred = model.evaluate(X_development, Y_l_dev)\n",
    "            dev_losses.append(dev_loss[0])\n",
    "            print(f\"Epoch {epoch}: Train Loss = {train_loss}, Dev Loss = {dev_loss}\")\n",
    "\n",
    "    return train_losses, dev_losses\n"
   ]
  },
  {
   "cell_type": "code",
   "execution_count": 27,
   "metadata": {},
   "outputs": [
    {
     "data": {
      "text/plain": [
       "(20, 421)"
      ]
     },
     "execution_count": 27,
     "metadata": {},
     "output_type": "execute_result"
    }
   ],
   "source": [
    "X_train.shape"
   ]
  },
  {
   "cell_type": "code",
   "execution_count": 28,
   "metadata": {},
   "outputs": [
    {
     "name": "stdout",
     "output_type": "stream",
     "text": [
      "Epoch 0: Train Loss = [60928165.23367772], Dev Loss = [54011776.703683]\n",
      "Epoch 1000: Train Loss = [60919516.67458432], Dev Loss = [54004506.91666666]\n",
      "Epoch 2000: Train Loss = [60919516.67458432], Dev Loss = [54004506.91666666]\n",
      "Epoch 3000: Train Loss = [60919516.67458432], Dev Loss = [54004506.91666666]\n",
      "Epoch 4000: Train Loss = [60919516.67458432], Dev Loss = [54004506.91666666]\n",
      "Epoch 5000: Train Loss = [60919516.67458432], Dev Loss = [54004506.91666666]\n",
      "Epoch 6000: Train Loss = [60919516.67458432], Dev Loss = [54004506.91666666]\n",
      "Epoch 7000: Train Loss = [60919516.67458432], Dev Loss = [54004506.91666666]\n",
      "Epoch 8000: Train Loss = [60919516.67458432], Dev Loss = [54004506.91666666]\n",
      "Epoch 9000: Train Loss = [60919516.67458432], Dev Loss = [54004506.91666666]\n",
      "Epoch 10000: Train Loss = [60919516.67458432], Dev Loss = [54004506.91666666]\n",
      "Epoch 11000: Train Loss = [60919516.67458432], Dev Loss = [54004506.91666666]\n",
      "Epoch 12000: Train Loss = [60919516.67458432], Dev Loss = [54004506.91666666]\n",
      "Epoch 13000: Train Loss = [60919516.67458432], Dev Loss = [54004506.91666666]\n",
      "Epoch 14000: Train Loss = [60919516.67458432], Dev Loss = [54004506.91666666]\n"
     ]
    }
   ],
   "source": [
    "train_loss, dev_loss = model_train(model=linear_model, learning_rate=1.5, num_epochs=15000)\n"
   ]
  },
  {
   "cell_type": "code",
   "execution_count": 29,
   "metadata": {},
   "outputs": [
    {
     "data": {
      "text/plain": [
       "15"
      ]
     },
     "execution_count": 29,
     "metadata": {},
     "output_type": "execute_result"
    },
    {
     "data": {
      "image/png": "[encoded data removed]",
      "text/plain": [
       "<Figure size 640x480 with 1 Axes>"
      ]
     },
     "metadata": {},
     "output_type": "display_data"
    }
   ],
   "source": [
    "\n",
    "plt.plot(train_loss, c='r')\n",
    "len(dev_loss)"
   ]
  },
  {
   "cell_type": "code",
   "execution_count": 30,
   "metadata": {},
   "outputs": [
    {
     "data": {
      "text/plain": [
       "[<matplotlib.lines.Line2D at 0x22f9fc68c20>]"
      ]
     },
     "execution_count": 30,
     "metadata": {},
     "output_type": "execute_result"
    },
    {
     "data": {
      "image/png": "[encoded data removed]",
      "text/plain": [
       "<Figure size 640x480 with 1 Axes>"
      ]
     },
     "metadata": {},
     "output_type": "display_data"
    }
   ],
   "source": [
    "plt.plot(range(1,15001, 1000), dev_loss, c='b')\n"
   ]
  },
  {
   "cell_type": "code",
   "execution_count": 31,
   "metadata": {},
   "outputs": [],
   "source": [
    "loss, pred = linear_model.evaluate(X_test, Y_l_test)\n"
   ]
  },
  {
   "cell_type": "code",
   "execution_count": 32,
   "metadata": {},
   "outputs": [
    {
     "data": {
      "text/plain": [
       "array([-5.56390686e+09])"
      ]
     },
     "execution_count": 32,
     "metadata": {},
     "output_type": "execute_result"
    }
   ],
   "source": [
    "accuracy = (1-loss)*100\n",
    "accuracy"
   ]
  },
  {
   "cell_type": "code",
   "execution_count": 33,
   "metadata": {},
   "outputs": [
    {
     "data": {
      "text/plain": [
       "array([[4.97758560e+03, 8.07965754e+03, 5.70485933e+03, 1.13165978e+04,\n",
       "        6.91768902e+03, 1.11603999e+04, 1.51895793e+04, 9.70640014e+03,\n",
       "        1.18836008e+04, 9.14867082e+03, 1.14146536e+04, 4.04649233e+03,\n",
       "        1.20141017e+04, 3.39953201e+03, 4.39389972e+03, 4.58386202e+03,\n",
       "        1.46823000e+04, 3.38311311e+03, 3.88199177e+03, 9.85010640e+00,\n",
       "        8.95929640e+03, 4.68133597e+03, 6.21402341e+03, 7.67943206e+03,\n",
       "        1.22882852e+04, 7.89814791e+03, 4.48889567e+03, 2.76879155e+03,\n",
       "        3.22476495e+03, 1.63893544e+04, 1.54830885e+04, 8.30381752e+03,\n",
       "        8.51248231e+02, 9.86905597e+03, 7.64046327e+03, 1.40856069e+04,\n",
       "        5.17929059e+03, 1.11588209e+04, 1.21291756e+04, 6.61426533e+02,\n",
       "        7.01645003e+03, 4.56754734e+03, 7.38206430e+03, 4.12061587e+03,\n",
       "        2.66282700e+03, 2.44207596e+03, 1.11577642e+04, 1.26558053e+04,\n",
       "        8.50927963e+03, 1.48749586e+04, 1.05054355e+04, 3.88318488e+03,\n",
       "        7.17186895e+03, 7.26168022e+03, 6.92957774e+03, 5.07709883e+03,\n",
       "        7.38441878e+03, 1.21733720e+04, 1.82401386e+04, 5.20549343e+03,\n",
       "        1.14263053e+03, 1.62785584e+04, 8.81635765e+03, 1.21355747e+04,\n",
       "        2.17258571e+03, 9.34891252e+03, 8.10598887e+03, 3.83816998e+03,\n",
       "        8.36720907e+03, 1.89530896e+04, 3.19466144e+03, 4.60203854e+03,\n",
       "        1.66920649e+03, 1.36504859e+04, 2.03293497e+03, 3.77519578e+03,\n",
       "        2.25151865e+03, 9.77529733e+03, 1.19019287e+04, 1.69738555e+03,\n",
       "        1.87627668e+04, 8.70469459e+02, 7.19168850e+03, 3.93465998e+03,\n",
       "        1.05548488e+04, 1.13118301e+04, 5.29778444e+03, 6.26795022e+03,\n",
       "        8.48453090e+03, 1.75460271e+04, 6.47056115e+03]])"
      ]
     },
     "execution_count": 33,
     "metadata": {},
     "output_type": "execute_result"
    }
   ],
   "source": [
    "pred"
   ]
  },
  {
   "cell_type": "code",
   "execution_count": 38,
   "metadata": {},
   "outputs": [
    {
     "data": {
      "text/plain": [
       "<matplotlib.collections.PathCollection at 0x22f9fd51cd0>"
      ]
     },
     "execution_count": 38,
     "metadata": {},
     "output_type": "execute_result"
    },
    {
     "data": {
      "image/png": "[encoded data removed]",
      "text/plain": [
       "<Figure size 640x480 with 1 Axes>"
      ]
     },
     "metadata": {},
     "output_type": "display_data"
    }
   ],
   "source": [
    "data = Y_l_test.flatten()\n",
    "\n",
    "plt.scatter(range(len(data)), data, c=\"b\")  # Scatter plot\n",
    "plt.scatter(range(len(data)), pred.flatten(), c=\"r\")"
   ]
  },
  {
   "cell_type": "code",
   "execution_count": 35,
   "metadata": {},
   "outputs": [
    {
     "name": "stdout",
     "output_type": "stream",
     "text": [
      "dW3\n",
      "[[-1. -1.]]\n",
      "db3\n",
      "[[1.]]\n",
      "dW2\n",
      "[[-1. -1.]\n",
      " [-1. -1.]]\n",
      "db2\n",
      "[[1.]\n",
      " [1.]]\n",
      "dW1\n",
      "[[-1. -1. -1. -1. -1. -1. -1.  1.  1. -1. -1. -1.  1. -1.  1. -1. -1. -1.\n",
      "  -1.  1.]\n",
      " [-1.  1.  1.  1.  1.  1.  1.  1.  1.  1.  1.  1.  1.  1.  1. -1. -1. -1.\n",
      "  -1.  1.]]\n",
      "db1\n",
      "[[-1.]\n",
      " [-1.]]\n"
     ]
    }
   ],
   "source": [
    "for i in linear_model.grads:\n",
    "    print(i)\n",
    "    print(linear_model.grads[i])"
   ]
  },
  {
   "cell_type": "code",
   "execution_count": 36,
   "metadata": {},
   "outputs": [
    {
     "name": "stdout",
     "output_type": "stream",
     "text": [
      "W1\n",
      "[[  3.1031452   11.28256708   2.87739504  -1.62072775 -14.62484172\n",
      "   -3.42458878   0.63629962   6.44821288  -0.31331247  -4.85241365\n",
      "   -0.89227964   2.73135837   0.24704397  -1.21644308  -5.15655781\n",
      "   -5.48921173  -0.16510734  -2.67392531  -1.61741002  -0.90774969]\n",
      " [  0.94077113   5.50007841   4.29454087   6.7922725    6.25628538\n",
      "   -2.6840324    8.64811308  -9.38331217   0.75998812  21.43751377\n",
      "   -5.4963946   -1.19619719  -1.10843082   0.09148351   1.48798419\n",
      "    4.09352206   2.18963848  -0.90789545   3.43616945 -29.22399658]]\n",
      "b1\n",
      "[[12.21210535]\n",
      " [10.33858288]]\n",
      "W2\n",
      "[[14.5741077   9.77396487]\n",
      " [14.64779407  7.90043268]]\n",
      "b2\n",
      "[[-16.78082797]\n",
      " [-16.49059734]]\n",
      "W3\n",
      "[[11.03588752 12.50988195]]\n",
      "b3\n",
      "[[14.4350066]]\n"
     ]
    }
   ],
   "source": [
    "for i in linear_model.parameters:\n",
    "    print(i)\n",
    "    print(linear_model.parameters[i])"
   ]
  }
 ],
 "metadata": {
  "kernelspec": {
   "display_name": ".venv",
   "language": "python",
   "name": "python3"
  },
  "language_info": {
   "codemirror_mode": {
    "name": "ipython",
    "version": 3
   },
   "file_extension": ".py",
   "mimetype": "text/x-python",
   "name": "python",
   "nbconvert_exporter": "python",
   "pygments_lexer": "ipython3",
   "version": "3.12.8"
  }
 },
 "nbformat": 4,
 "nbformat_minor": 2
}
